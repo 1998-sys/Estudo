{
 "cells": [
  {
   "cell_type": "markdown",
   "metadata": {},
   "source": [
    "## Aula 16 - Estatística pt1 - Definições\n",
    "\n",
    "- 1. Introdução\n",
    "- 2. Probabilidade\n",
    "- 3. Distribuições de probabilidade"
   ]
  },
  {
   "cell_type": "markdown",
   "metadata": {},
   "source": [
    "### Problema gerador: em um jogo da Copa do Mundo de futebol, a quantidade média de gols é aproximadamente 3. Assim sendo, qual é a probabilidade de em determinada partida não haver gols ? E a probabilidade de haver 4 gols ?"
   ]
  },
  {
   "cell_type": "code",
   "execution_count": 1,
   "metadata": {},
   "outputs": [],
   "source": [
    "dados = '''\n",
    "Uruguay 1930 FIFA World Cup -- 4.375\n",
    "\n",
    "Italy 1934 FIFA World Cup -- 4.12\n",
    "\n",
    "France 1938 FIFA World Cup -- 4.67\n",
    "\n",
    "Brazil 1950 FIFA World Cup -- 4\n",
    "\n",
    "Switzerland 1954 FIFA World Cup -- 5.38\n",
    "\n",
    "Sweden 1958 FIFA World Cup -- 3.6\n",
    "\n",
    "Chile 1962 FIFA World Cup -- 2.79\n",
    "\n",
    "England 1966 FIFA World Cup -- 2.79\n",
    "\n",
    "Mexico 1970 FIFA World Cup -- 2.97\n",
    "\n",
    "West Germany 1974 FIFA World Cup -- 2.55\n",
    "\n",
    "Argentina 1978 FIFA World Cup -- 2.68\n",
    "\n",
    "Spain 1982 FIFA World Cup -- 2.81\n",
    "\n",
    "Mexico 1986 FIFA World Cup -- 2.54\n",
    "\n",
    "Italy 1990 FIFA World Cup -- 2.21\n",
    "\n",
    "United States 1994 FIFA World Cup -- 2.71\n",
    "\n",
    "France 1998 FIFA World Cup -- 2.67\n",
    "\n",
    "South Korea and Japan 2002 FIFA World Cup -- 2.52\n",
    "\n",
    "Germany 2006 FIFA World Cup -- 2.30\n",
    "\n",
    "South Africa 2010 FIFA World Cup -- 2.27\n",
    "\n",
    "Brazil 2014 FIFA World Cup -- 2.67\n",
    "\n",
    "Russia 2018 FIFA World Cup -- 2.64\n",
    "\n",
    "Qatar 2022 FIFA World Cup --  2.69'''"
   ]
  },
  {
   "cell_type": "code",
   "execution_count": 2,
   "metadata": {},
   "outputs": [],
   "source": [
    "media_de_gols = [float(x.split(' -- ')[1])for x in dados.split('\\n\\n')]"
   ]
  },
  {
   "cell_type": "code",
   "execution_count": 3,
   "metadata": {},
   "outputs": [
    {
     "data": {
      "text/plain": [
       "3.0888636363636364"
      ]
     },
     "execution_count": 3,
     "metadata": {},
     "output_type": "execute_result"
    }
   ],
   "source": [
    "import numpy as np\n",
    "\n",
    "np.array(media_de_gols).mean()"
   ]
  },
  {
   "cell_type": "markdown",
   "metadata": {},
   "source": [
    "## Introdução\n",
    "\n",
    "A probabilidade e estatística podem ser divididas nos seguintes três pilares:\n",
    "\n",
    "- **Probabilidade**: É a teoria matemática utilizada para se estudar a incerteza oriundas de `fenômenos` de caráter aleatório\n",
    "\n",
    "- **Estatística Descritiva**: Etapa inicial da análise estatística, tendo como objetivo tirar informações prévias de modo informal e direto. A ideia é obter informações que `resumam` o conjunto de dados, a fim que estes possam ser `descritos`, e conclusões iniciais possam ser tiradas.\n",
    "\n",
    "- **Inferência Estatística**: É o conjunto de técnicas que possibilitam a extrapolação de conclusões tiradas a partir de um conjunto pequeno de dados (denominado `amostra`) para todo universo sob análise (denominado (`população`))\n",
    "\n",
    "## 1.1) Tipos de Variáveis\n",
    "\n",
    " - **Variável qualitativa** nominal\n",
    " > Valores que expressam **Atributos sem nenhum um tipo de ordem**. Ex.: sexo, estado cívil, pais de origem, ser fumante ou não, etc.\n",
    " \n",
    "-São representados por strings, ou possívelmente números inteiros\n",
    "\n",
    "- **Variável qualitativa ordinal**\n",
    "> Valores que expressam **atributos com algum tipo de ordem ou grau**. Ex: escolaridade, resposta deu um paciente (pior, igual, melhora), classe social(alta, média, baixa), classe do navio, etc.\n",
    "\n",
    "-São representados por strings, ou possívelmente números inteiros\n",
    "\n",
    "- **Variável quantitativa** discreta\n",
    "> Valores numéricos inteiros. Ex: idade em anos inteiros, número de banheiros em uma casa, número de filhos, etc.\n",
    "\n",
    "-São representados por ints\n",
    "\n",
    "- **Variável quantitativa** contínua\n",
    "> Valores numéricos racionais: Ex.: salário,preço, temperatura, gorjeta, etc.\n",
    "\n",
    "-São representados por floats"
   ]
  },
  {
   "cell_type": "code",
   "execution_count": 29,
   "metadata": {},
   "outputs": [],
   "source": [
    "import pandas as pd\n",
    "import numpy as np\n",
    "import matplotlib.pyplot as plt\n",
    "import seaborn as sns\n",
    "import re\n",
    "from Func_estatdesc import *"
   ]
  },
  {
   "cell_type": "markdown",
   "metadata": {},
   "source": [
    "## 2) Probabilidade\n",
    "Probabilidade é a área da matemática que estuda **eventos aleatórios**, cujos resultados são **probabilísticos** ou **estocásticos**\n",
    "\n",
    "Existem poucos sistemas na natureza que são de fato inerentemente aleatórios e não-determinísticas. No entanto, uma descrição determinística pode ser muito complicada, de modo que **se torna conveniente** tratar o sistema como um sistema estocástico.\n",
    "\n",
    "Ex.: lançamento de moeda, lançamento de dados, etc.\n",
    "\n",
    "O objetivo da estatística é similar: analisar dados ou criar modelos que **generalizem relações** que não podem ser determinadas diretamente uma vez que não temos acesso à população. Neste sentido, há muita probabilidade envolvida em estatística, e é por isso que vamos olhar para os principais conceitos de probabilidade."
   ]
  },
  {
   "cell_type": "markdown",
   "metadata": {},
   "source": [
    "## 2.1) **Variável Aleatória**\n",
    "\n",
    "Uma **variável aleatória** é uma variável cujo o valor depende de fatores **não-deterministicos**, isto é, **probabilisticos**.\n",
    "\n",
    "**Exemplo**: resultado do lançamento de um dado; o quanto de gorjeta será dado num restaurante, sobrevivência ao Titanic."
   ]
  },
  {
   "cell_type": "markdown",
   "metadata": {},
   "source": [
    "## 2.2) **Espaço Amostral**\n",
    "\n",
    "chamamos de **Espaço amostral** o conjunto de **todos os resultados possíveis de um certo fenômeno aleatório**, ou seja, **os valores possíveis que a variável aleatória de interesse pode assumir**. Representamos o espaço amostra pela letra grega $\\Omega$. \n",
    "\n",
    "Os subconjuntos de $\\Omega$ são denominados **eventos** e representados pelas letras latinas maiúsculas A, B, etc. \n",
    "\n",
    "**Exemplo**: o espaço amostral dos resultados do lançamento de um dado é:\n",
    "\n",
    "$$ \\Omega = \\{1, 2, 3, 4, 5, 6\\} $$\n",
    "\n",
    "Alguns eventos possíveis são:\n",
    "\n",
    "- Evento A = {3} : o resultado do lançamento do dado foi 3;\n",
    "- Evento B = {5} : o resultado do lançamento do dado foi 5.\n"
   ]
  },
  {
   "cell_type": "code",
   "execution_count": 8,
   "metadata": {},
   "outputs": [],
   "source": [
    "df_titanic = pd.read_csv('train.csv', na_values='?')"
   ]
  },
  {
   "cell_type": "code",
   "execution_count": 12,
   "metadata": {},
   "outputs": [
    {
     "data": {
      "text/html": [
       "<div>\n",
       "<style scoped>\n",
       "    .dataframe tbody tr th:only-of-type {\n",
       "        vertical-align: middle;\n",
       "    }\n",
       "\n",
       "    .dataframe tbody tr th {\n",
       "        vertical-align: top;\n",
       "    }\n",
       "\n",
       "    .dataframe thead th {\n",
       "        text-align: right;\n",
       "    }\n",
       "</style>\n",
       "<table border=\"1\" class=\"dataframe\">\n",
       "  <thead>\n",
       "    <tr style=\"text-align: right;\">\n",
       "      <th></th>\n",
       "      <th>PassengerId</th>\n",
       "      <th>Survived</th>\n",
       "      <th>Pclass</th>\n",
       "      <th>Name</th>\n",
       "      <th>Sex</th>\n",
       "      <th>Age</th>\n",
       "      <th>SibSp</th>\n",
       "      <th>Parch</th>\n",
       "      <th>Ticket</th>\n",
       "      <th>Fare</th>\n",
       "      <th>Cabin</th>\n",
       "      <th>Embarked</th>\n",
       "    </tr>\n",
       "  </thead>\n",
       "  <tbody>\n",
       "    <tr>\n",
       "      <th>0</th>\n",
       "      <td>1</td>\n",
       "      <td>0</td>\n",
       "      <td>3</td>\n",
       "      <td>Braund, Mr. Owen Harris</td>\n",
       "      <td>male</td>\n",
       "      <td>22.0</td>\n",
       "      <td>1</td>\n",
       "      <td>0</td>\n",
       "      <td>A/5 21171</td>\n",
       "      <td>7.2500</td>\n",
       "      <td>NaN</td>\n",
       "      <td>S</td>\n",
       "    </tr>\n",
       "    <tr>\n",
       "      <th>1</th>\n",
       "      <td>2</td>\n",
       "      <td>1</td>\n",
       "      <td>1</td>\n",
       "      <td>Cumings, Mrs. John Bradley (Florence Briggs Th...</td>\n",
       "      <td>female</td>\n",
       "      <td>38.0</td>\n",
       "      <td>1</td>\n",
       "      <td>0</td>\n",
       "      <td>PC 17599</td>\n",
       "      <td>71.2833</td>\n",
       "      <td>C85</td>\n",
       "      <td>C</td>\n",
       "    </tr>\n",
       "    <tr>\n",
       "      <th>2</th>\n",
       "      <td>3</td>\n",
       "      <td>1</td>\n",
       "      <td>3</td>\n",
       "      <td>Heikkinen, Miss. Laina</td>\n",
       "      <td>female</td>\n",
       "      <td>26.0</td>\n",
       "      <td>0</td>\n",
       "      <td>0</td>\n",
       "      <td>STON/O2. 3101282</td>\n",
       "      <td>7.9250</td>\n",
       "      <td>NaN</td>\n",
       "      <td>S</td>\n",
       "    </tr>\n",
       "    <tr>\n",
       "      <th>3</th>\n",
       "      <td>4</td>\n",
       "      <td>1</td>\n",
       "      <td>1</td>\n",
       "      <td>Futrelle, Mrs. Jacques Heath (Lily May Peel)</td>\n",
       "      <td>female</td>\n",
       "      <td>35.0</td>\n",
       "      <td>1</td>\n",
       "      <td>0</td>\n",
       "      <td>113803</td>\n",
       "      <td>53.1000</td>\n",
       "      <td>C123</td>\n",
       "      <td>S</td>\n",
       "    </tr>\n",
       "    <tr>\n",
       "      <th>4</th>\n",
       "      <td>5</td>\n",
       "      <td>0</td>\n",
       "      <td>3</td>\n",
       "      <td>Allen, Mr. William Henry</td>\n",
       "      <td>male</td>\n",
       "      <td>35.0</td>\n",
       "      <td>0</td>\n",
       "      <td>0</td>\n",
       "      <td>373450</td>\n",
       "      <td>8.0500</td>\n",
       "      <td>NaN</td>\n",
       "      <td>S</td>\n",
       "    </tr>\n",
       "  </tbody>\n",
       "</table>\n",
       "</div>"
      ],
      "text/plain": [
       "   PassengerId  Survived  Pclass  \\\n",
       "0            1         0       3   \n",
       "1            2         1       1   \n",
       "2            3         1       3   \n",
       "3            4         1       1   \n",
       "4            5         0       3   \n",
       "\n",
       "                                                Name     Sex   Age  SibSp  \\\n",
       "0                            Braund, Mr. Owen Harris    male  22.0      1   \n",
       "1  Cumings, Mrs. John Bradley (Florence Briggs Th...  female  38.0      1   \n",
       "2                             Heikkinen, Miss. Laina  female  26.0      0   \n",
       "3       Futrelle, Mrs. Jacques Heath (Lily May Peel)  female  35.0      1   \n",
       "4                           Allen, Mr. William Henry    male  35.0      0   \n",
       "\n",
       "   Parch            Ticket     Fare Cabin Embarked  \n",
       "0      0         A/5 21171   7.2500   NaN        S  \n",
       "1      0          PC 17599  71.2833   C85        C  \n",
       "2      0  STON/O2. 3101282   7.9250   NaN        S  \n",
       "3      0            113803  53.1000  C123        S  \n",
       "4      0            373450   8.0500   NaN        S  "
      ]
     },
     "execution_count": 12,
     "metadata": {},
     "output_type": "execute_result"
    }
   ],
   "source": [
    "df_titanic.head()"
   ]
  },
  {
   "cell_type": "code",
   "execution_count": 14,
   "metadata": {},
   "outputs": [
    {
     "name": "stdout",
     "output_type": "stream",
     "text": [
      "PassengerId      0\n",
      "Survived         0\n",
      "Pclass           0\n",
      "Name             0\n",
      "Sex              0\n",
      "Age            177\n",
      "SibSp            0\n",
      "Parch            0\n",
      "Ticket           0\n",
      "Fare             0\n",
      "Cabin          687\n",
      "Embarked         2\n",
      "dtype: int64\n"
     ]
    }
   ],
   "source": [
    "print(df_titanic.isna().sum())"
   ]
  },
  {
   "cell_type": "code",
   "execution_count": 41,
   "metadata": {},
   "outputs": [
    {
     "name": "stdout",
     "output_type": "stream",
     "text": [
      "<class 'pandas.core.frame.DataFrame'>\n",
      "RangeIndex: 891 entries, 0 to 890\n",
      "Data columns (total 12 columns):\n",
      " #   Column       Non-Null Count  Dtype  \n",
      "---  ------       --------------  -----  \n",
      " 0   PassengerId  891 non-null    int64  \n",
      " 1   Survived     891 non-null    int64  \n",
      " 2   Pclass       891 non-null    int64  \n",
      " 3   Name         891 non-null    object \n",
      " 4   Sex          891 non-null    object \n",
      " 5   Age          714 non-null    float64\n",
      " 6   SibSp        891 non-null    int64  \n",
      " 7   Parch        891 non-null    int64  \n",
      " 8   Ticket       891 non-null    object \n",
      " 9   Fare         891 non-null    float64\n",
      " 10  Cabin        204 non-null    object \n",
      " 11  Embarked     889 non-null    object \n",
      "dtypes: float64(2), int64(5), object(5)\n",
      "memory usage: 83.7+ KB\n"
     ]
    }
   ],
   "source": [
    "# Verificando o tipo da coluna \n",
    "df_titanic.info()\n"
   ]
  },
  {
   "cell_type": "code",
   "execution_count": 44,
   "metadata": {},
   "outputs": [
    {
     "data": {
      "text/plain": [
       "array([3, 1, 2], dtype=int64)"
      ]
     },
     "execution_count": 44,
     "metadata": {},
     "output_type": "execute_result"
    }
   ],
   "source": [
    "# Verificando valores unicos Variável PClass\n",
    "df_titanic['Pclass'].unique()"
   ]
  },
  {
   "cell_type": "code",
   "execution_count": 45,
   "metadata": {},
   "outputs": [
    {
     "data": {
      "text/plain": [
       "array([0, 1], dtype=int64)"
      ]
     },
     "execution_count": 45,
     "metadata": {},
     "output_type": "execute_result"
    }
   ],
   "source": [
    "# Verificando valores unicos Variável Survived\n",
    "df_titanic['Survived'].unique()"
   ]
  },
  {
   "cell_type": "code",
   "execution_count": 46,
   "metadata": {},
   "outputs": [
    {
     "data": {
      "text/plain": [
       "array(['S', 'C', 'Q', nan], dtype=object)"
      ]
     },
     "execution_count": 46,
     "metadata": {},
     "output_type": "execute_result"
    }
   ],
   "source": [
    "# Veiricando valores únicos variável embarked\n",
    "df_titanic['Embarked'].unique()"
   ]
  },
  {
   "cell_type": "code",
   "execution_count": 47,
   "metadata": {},
   "outputs": [
    {
     "data": {
      "text/plain": [
       "array([22.  , 38.  , 26.  , 35.  ,   nan, 54.  ,  2.  , 27.  , 14.  ,\n",
       "        4.  , 58.  , 20.  , 39.  , 55.  , 31.  , 34.  , 15.  , 28.  ,\n",
       "        8.  , 19.  , 40.  , 66.  , 42.  , 21.  , 18.  ,  3.  ,  7.  ,\n",
       "       49.  , 29.  , 65.  , 28.5 ,  5.  , 11.  , 45.  , 17.  , 32.  ,\n",
       "       16.  , 25.  ,  0.83, 30.  , 33.  , 23.  , 24.  , 46.  , 59.  ,\n",
       "       71.  , 37.  , 47.  , 14.5 , 70.5 , 32.5 , 12.  ,  9.  , 36.5 ,\n",
       "       51.  , 55.5 , 40.5 , 44.  ,  1.  , 61.  , 56.  , 50.  , 36.  ,\n",
       "       45.5 , 20.5 , 62.  , 41.  , 52.  , 63.  , 23.5 ,  0.92, 43.  ,\n",
       "       60.  , 10.  , 64.  , 13.  , 48.  ,  0.75, 53.  , 57.  , 80.  ,\n",
       "       70.  , 24.5 ,  6.  ,  0.67, 30.5 ,  0.42, 34.5 , 74.  ])"
      ]
     },
     "execution_count": 47,
     "metadata": {},
     "output_type": "execute_result"
    }
   ],
   "source": [
    "# Difinindo o espaço amostral para idade \n",
    "df_titanic['Age'].unique()\n"
   ]
  },
  {
   "cell_type": "code",
   "execution_count": 48,
   "metadata": {},
   "outputs": [],
   "source": [
    "# Tratando a coluna Ticket\n",
    "df_titanic['Ticket'] = df_titanic['Ticket'].apply(limpar_string)\n"
   ]
  },
  {
   "cell_type": "markdown",
   "metadata": {},
   "source": [
    "### 2.4) Definição de probabilidade\n",
    "\n",
    "Definimos uma função $P(.)$ denominada **probabilidade** que deve satisfazer as seguintes propriedades:\n",
    "    \n",
    "- $0\\leq P(A) \\leq 1$ \n",
    "\n",
    "- $ P(\\Omega)=\\sum_{A_i \\in \\Omega}P(A_{i})=1$"
   ]
  },
  {
   "cell_type": "markdown",
   "metadata": {},
   "source": [
    "**Exemplo**: considere o lançamento de uma moeda honesta:\n",
    "\n",
    "O espaço amostral é: $\\Omega = \\{ K, C \\}$.\n",
    "\n",
    "Pra uma moeda honesta, temos $P(K) = P(c) = \\frac{1}{2}$.\n",
    "\n",
    "De fato, note como $0 \\leq P(A) \\leq 1$. E, além disso,\n",
    "\n",
    "$$ P(\\Omega) = \\sum_{A_i \\in  \\{ K, C \\}}P(A_{i}) = P(K) + P(C) = \\frac{1}{2} + \\frac{1}{2} = 1 $$"
   ]
  },
  {
   "cell_type": "markdown",
   "metadata": {},
   "source": [
    "#### 2.4.1) Atribuindo probabilidades aos elementos do espaço amostral\n",
    "\n",
    "Há, essencialmente, duas formas de se **atribuir a probabilidade de cada evento**:"
   ]
  },
  {
   "cell_type": "markdown",
   "metadata": {},
   "source": [
    "> 1) Baseando-se em características teóricas acerca do experimento.\n",
    "\n",
    "**Exemplo**: ao lançarmos um dado, temos o espaço amostral $\\Omega=\\{1,2,3,4,5,6\\}$.\n",
    "\n",
    "Admitindo que o dado foi construído de forma homogênea e com medidas rigorosamente simétricas, não temos nenhuma razão para **privilegiar uma face em detrimento das demais**.\n",
    "\n",
    "Assim, consideramos: $p(1) = p(2) = p(3) = p(4) = p(5) = p(6) = \\frac{1}{6}$ "
   ]
  },
  {
   "cell_type": "markdown",
   "metadata": {},
   "source": [
    "> 2) Fazendo muitos experimentos.\n",
    "\n",
    "**Exemplo**: imagine que temos uma moeda não-honesta, que tende cair mais vezes coroa do que cara. Para descobrirmos qual é a probabilidade de cada um dos eventos ($\\Omega = \\{K, C\\}$), podemos lançar a moeda muitas vezes, e anotar os resultados:"
   ]
  },
  {
   "cell_type": "code",
   "execution_count": 50,
   "metadata": {},
   "outputs": [
    {
     "name": "stdout",
     "output_type": "stream",
     "text": [
      "5847 4153\n"
     ]
    }
   ],
   "source": [
    "n = 10000\n",
    "cara = 5847\n",
    "coroa = n - cara\n",
    "\n",
    "print(cara, coroa)"
   ]
  },
  {
   "cell_type": "code",
   "execution_count": 51,
   "metadata": {},
   "outputs": [
    {
     "name": "stdout",
     "output_type": "stream",
     "text": [
      "0.5847 0.4153\n"
     ]
    }
   ],
   "source": [
    "p_cara = cara / n\n",
    "p_coroa = coroa / n\n",
    "\n",
    "print(p_cara, p_coroa)"
   ]
  },
  {
   "cell_type": "code",
   "execution_count": 55,
   "metadata": {},
   "outputs": [
    {
     "data": {
      "text/plain": [
       "0    0.500148\n",
       "1    0.499852\n",
       "Name: proportion, dtype: float64"
      ]
     },
     "execution_count": 55,
     "metadata": {},
     "output_type": "execute_result"
    }
   ],
   "source": [
    "pd.Series(np.random.randint(0,2,10000000)).value_counts(normalize=True)"
   ]
  },
  {
   "cell_type": "markdown",
   "metadata": {},
   "source": [
    "No caso do Titanic, podemos atribuir probabilidades de acordo com as **observações coletadas**\n",
    "\n",
    "isso é facilmente calculado com o `value_counts()`"
   ]
  },
  {
   "cell_type": "code",
   "execution_count": 57,
   "metadata": {},
   "outputs": [
    {
     "data": {
      "text/plain": [
       "Pclass\n",
       "3    0.551066\n",
       "1    0.242424\n",
       "2    0.206510\n",
       "Name: proportion, dtype: float64"
      ]
     },
     "execution_count": 57,
     "metadata": {},
     "output_type": "execute_result"
    }
   ],
   "source": [
    "df_titanic['Pclass'].value_counts(normalize=True)"
   ]
  },
  {
   "cell_type": "markdown",
   "metadata": {},
   "source": [
    "#### 2.4.2) Eventos complementares\n",
    "\n",
    "A probabilidade de ocorrência de um evento pode ser definida diretamente pela probabilidade de **não ocorrência dele**: $ A^{c}$ é a não ocorrência de $A$, de modo que, naturalmente, $ P(A) = 1 - P(A^{c})$\n",
    "\n",
    "Ou seja, $P(A) + P(A^{c}) = 1$, o que faz sentido, segundo a definição de probabilidade!\n",
    "\n",
    "Quando temos um espaço amostral de apenas dois elementos (lançamento de uma moeda, ou a sobrevivência ao Titanic, por exemplo), isso fica ainda mais evidente:"
   ]
  },
  {
   "cell_type": "code",
   "execution_count": 58,
   "metadata": {},
   "outputs": [
    {
     "data": {
      "text/plain": [
       "Survived\n",
       "0    0.616162\n",
       "1    0.383838\n",
       "Name: proportion, dtype: float64"
      ]
     },
     "execution_count": 58,
     "metadata": {},
     "output_type": "execute_result"
    }
   ],
   "source": [
    "df_titanic['Survived'].value_counts(normalize=True)"
   ]
  },
  {
   "cell_type": "code",
   "execution_count": 59,
   "metadata": {},
   "outputs": [
    {
     "data": {
      "text/plain": [
       "0.3838383838383838"
      ]
     },
     "execution_count": 59,
     "metadata": {},
     "output_type": "execute_result"
    }
   ],
   "source": [
    "df_titanic['Survived'].mean()"
   ]
  },
  {
   "cell_type": "markdown",
   "metadata": {},
   "source": [
    "### 2.5) Probabilidade Condicional e Independência\n",
    "\n",
    "Utilizamos a notação $P(A|B)$ pra indicar a **probabilidade condicional de A dado B**, ou seja, probabilidade do evento $A$ ocorrer, dado que ocorreu o evento $B$.\n",
    "\n",
    "Se os eventos $A$ e $B$ forem **dependentes**, temos que a ocorrência de $B$ influencia a ocorrência de $A$, ou seja, $P(A|B) \\neq P(A)$.\n",
    "\n",
    "**Eventos independentes** são tais que $P(A|B) = P(A)$, ou seja, a ocorrência do evento $B$ não influencia a probabilidade de ocorrência do evento $A$."
   ]
  },
  {
   "cell_type": "markdown",
   "metadata": {},
   "source": [
    "> No caso do Titanic: a **classe** influencia na **sobrevivência**?"
   ]
  },
  {
   "cell_type": "code",
   "execution_count": 60,
   "metadata": {},
   "outputs": [
    {
     "data": {
      "text/plain": [
       "Survived\n",
       "0    0.616162\n",
       "1    0.383838\n",
       "Name: proportion, dtype: float64"
      ]
     },
     "execution_count": 60,
     "metadata": {},
     "output_type": "execute_result"
    }
   ],
   "source": [
    "df_titanic['Survived'].value_counts(normalize=True)"
   ]
  },
  {
   "cell_type": "code",
   "execution_count": 62,
   "metadata": {},
   "outputs": [
    {
     "data": {
      "text/plain": [
       "Survived\n",
       "1    0.62963\n",
       "0    0.37037\n",
       "Name: proportion, dtype: float64"
      ]
     },
     "execution_count": 62,
     "metadata": {},
     "output_type": "execute_result"
    }
   ],
   "source": [
    "df_titanic.query('Pclass == 1')['Survived'].value_counts(normalize=True)"
   ]
  },
  {
   "cell_type": "code",
   "execution_count": 64,
   "metadata": {},
   "outputs": [
    {
     "data": {
      "text/html": [
       "<div>\n",
       "<style scoped>\n",
       "    .dataframe tbody tr th:only-of-type {\n",
       "        vertical-align: middle;\n",
       "    }\n",
       "\n",
       "    .dataframe tbody tr th {\n",
       "        vertical-align: top;\n",
       "    }\n",
       "\n",
       "    .dataframe thead th {\n",
       "        text-align: right;\n",
       "    }\n",
       "</style>\n",
       "<table border=\"1\" class=\"dataframe\">\n",
       "  <thead>\n",
       "    <tr style=\"text-align: right;\">\n",
       "      <th></th>\n",
       "      <th>Survived</th>\n",
       "    </tr>\n",
       "    <tr>\n",
       "      <th>Pclass</th>\n",
       "      <th></th>\n",
       "    </tr>\n",
       "  </thead>\n",
       "  <tbody>\n",
       "    <tr>\n",
       "      <th>1</th>\n",
       "      <td>0.629630</td>\n",
       "    </tr>\n",
       "    <tr>\n",
       "      <th>2</th>\n",
       "      <td>0.472826</td>\n",
       "    </tr>\n",
       "    <tr>\n",
       "      <th>3</th>\n",
       "      <td>0.242363</td>\n",
       "    </tr>\n",
       "  </tbody>\n",
       "</table>\n",
       "</div>"
      ],
      "text/plain": [
       "        Survived\n",
       "Pclass          \n",
       "1       0.629630\n",
       "2       0.472826\n",
       "3       0.242363"
      ]
     },
     "execution_count": 64,
     "metadata": {},
     "output_type": "execute_result"
    }
   ],
   "source": [
    "df_titanic.groupby('Pclass')[['Survived']].mean()"
   ]
  },
  {
   "cell_type": "markdown",
   "metadata": {},
   "source": [
    "## 3) Distribuições de probabilidade\n",
    "\n",
    "Uma **distribuição de probabilidade** é uma função que descreve o comportamento aleatório de um fenômeno dependente do acaso.\n",
    "\n",
    "A distribuição de probabilidade pode **modelar incertezas** e descrever fenômenos físicos, biológicos, econômicos, entre outros.\n",
    "\n",
    "Para representar a distribuição matematicamente, frequentemente utilizamos a [função densidade de probabilidade](https://en.wikipedia.org/wiki/Probability_density_function). Esta função é tal que a probabilidade da variável aleatória cair em uma faixa particular é dada **pela integral da densidade dessa variável sobre tal faixa** - isto é, é dada pela área abaixo da função densidade mas acima do eixo horizontal e entre o menor e o maior valor dessa faixa.\n",
    "\n",
    "<img src=\"https://work.thaslwanter.at/Stats/html/_images/PDF.png\" width=400>\n",
    "\n",
    "\n",
    "Quando estamos trabalhando com uma amostra de dados, sobretudo de variáveis numéricas, é comum visualizarmos a distribuição dos valores amostrais, como sendo a ocorrência de cada um dos valores do espaço amostral que foram observados na amostra.\n",
    "\n",
    "Agora entendemos que, ao visualizar uma distribuição, estamos visualizando a probabilidade de determinados valores serem observados, de acordo com o que de fato foi observado na amostra!"
   ]
  },
  {
   "cell_type": "code",
   "execution_count": 65,
   "metadata": {},
   "outputs": [
    {
     "data": {
      "text/plain": [
       "count    714.000000\n",
       "mean      29.699118\n",
       "std       14.526497\n",
       "min        0.420000\n",
       "25%       20.125000\n",
       "50%       28.000000\n",
       "75%       38.000000\n",
       "max       80.000000\n",
       "Name: Age, dtype: float64"
      ]
     },
     "execution_count": 65,
     "metadata": {},
     "output_type": "execute_result"
    }
   ],
   "source": [
    "df_titanic['Age'].describe()"
   ]
  },
  {
   "cell_type": "code",
   "execution_count": 71,
   "metadata": {},
   "outputs": [
    {
     "name": "stderr",
     "output_type": "stream",
     "text": [
      "c:\\Users\\Matheus\\anaconda3\\Lib\\site-packages\\seaborn\\_oldcore.py:1119: FutureWarning: use_inf_as_na option is deprecated and will be removed in a future version. Convert inf values to NaN before operating instead.\n",
      "  with pd.option_context('mode.use_inf_as_na', True):\n"
     ]
    },
    {
     "data": {
      "image/png": "[encoded data removed]",
      "text/plain": [
       "<Figure size 640x480 with 1 Axes>"
      ]
     },
     "metadata": {},
     "output_type": "display_data"
    }
   ],
   "source": [
    "sns.histplot(data=df_titanic, x='Age', kde=True);"
   ]
  },
  {
   "cell_type": "markdown",
   "metadata": {},
   "source": [
    "E agora entendemos um pouco mais o KDE (kernel **density** estimate). Nome como o eixo y muda de `Count` para `Density`, de modo que a área total sob a curva seja 1!"
   ]
  },
  {
   "cell_type": "code",
   "execution_count": 70,
   "metadata": {},
   "outputs": [
    {
     "name": "stderr",
     "output_type": "stream",
     "text": [
      "c:\\Users\\Matheus\\anaconda3\\Lib\\site-packages\\seaborn\\_oldcore.py:1119: FutureWarning: use_inf_as_na option is deprecated and will be removed in a future version. Convert inf values to NaN before operating instead.\n",
      "  with pd.option_context('mode.use_inf_as_na', True):\n"
     ]
    },
    {
     "data": {
      "image/png": "[encoded data removed]",
      "text/plain": [
       "<Figure size 640x480 with 1 Axes>"
      ]
     },
     "metadata": {},
     "output_type": "display_data"
    }
   ],
   "source": [
    "sns.kdeplot(data=df_titanic, x='Age');\n",
    "plt.show()"
   ]
  },
  {
   "cell_type": "markdown",
   "metadata": {},
   "source": [
    "Interpretações:\n",
    "- Se pegarmos uma pessoa ao acaso, temos uma grande chance de ela ter entre 20 a 40 anos \n",
    "- Se pegarmos uma pessoa ao acos, temos uma pequena chave de ela ter 80 anos ou mais \n",
    "\n",
    "A chance = probilidade é a área sob a curva"
   ]
  },
  {
   "cell_type": "markdown",
   "metadata": {},
   "source": [
    "### **3.1) Distribuição de Bernoulli**\n",
    "\n",
    "Muitos experimentos são tais que os resultados **apresentam ou não** uma determinada característica. Por exemplo:\n",
    "\n",
    "- Uma moeda é lançada: o resultado ou é cara ou não é (ocorrendo, então, coroa);\n",
    "- Uma peça escolhida ao acaso de um lote: essa peça ou é defeituosa ou não é;\n",
    "- Um passageiro do Titanic escolhido ao acaso: sobreviveu ou morreu?\n",
    "\n",
    "Em todos esses casos estamos interessados na ocorrência de sucesso (cara, peça não defeituosa, etc.) ou fracasso (coroa, peça defeituosa, etc.). \n",
    "\n",
    "Para cada experimento acima, podemos definir uma V.A. $X$ que assume apenas dois valores: 1, se ocorrer sucesso e 0, se ocorrer fracasso. Indicaremos por $p$ a probabilidade de sucesso.\n",
    "\n",
    "**Definição:**\n",
    "\n",
    "A variável aleatória $X$, que assume apenas valores 0 e 1 com função de probabilidade $(X, p(X))$ é dita variável aleatória de Bernoulli tal que:\n",
    "\n",
    "- $p(0) = P(X=0) = 1-p$\n",
    "\n",
    "- $p(1) = P(X=1) = p$\n",
    "\n",
    "Usaremos a notação $X \\sim Ber(p)$ para indicar uma V.A. com distribuição Bernoulli de parâmetro $p$.\n",
    "\n",
    "> Esta é uma **distribuição de probabilidade discreta**, uma vez que o espaço amostral é discreto -- havendo, inclusive, apenas dois valores possíveis: 0 ou 1."
   ]
  },
  {
   "cell_type": "code",
   "execution_count": 95,
   "metadata": {},
   "outputs": [],
   "source": [
    "import scipy # Computação científica"
   ]
  },
  {
   "cell_type": "code",
   "execution_count": 117,
   "metadata": {},
   "outputs": [],
   "source": [
    "\n",
    "\n",
    "\n",
    "import scipy.stats\n",
    "\n",
    "\n",
    "resultado_bern = scipy.stats.bernoulli.rvs(p=0.5, size=1000)\n"
   ]
  },
  {
   "cell_type": "code",
   "execution_count": 99,
   "metadata": {},
   "outputs": [
    {
     "data": {
      "text/plain": [
       "0    0.503\n",
       "1    0.497\n",
       "Name: proportion, dtype: float64"
      ]
     },
     "execution_count": 99,
     "metadata": {},
     "output_type": "execute_result"
    }
   ],
   "source": [
    "pd.Series(resultado_bern).value_counts(normalize=True)"
   ]
  },
  {
   "cell_type": "code",
   "execution_count": 100,
   "metadata": {},
   "outputs": [
    {
     "data": {
      "text/plain": [
       "<Axes: ylabel='count'>"
      ]
     },
     "execution_count": 100,
     "metadata": {},
     "output_type": "execute_result"
    },
    {
     "data": {
      "image/png": "[encoded data removed]",
      "text/plain": [
       "<Figure size 640x480 with 1 Axes>"
      ]
     },
     "metadata": {},
     "output_type": "display_data"
    }
   ],
   "source": [
    "sns.countplot(resultado_bern)"
   ]
  },
  {
   "cell_type": "code",
   "execution_count": 91,
   "metadata": {},
   "outputs": [
    {
     "name": "stderr",
     "output_type": "stream",
     "text": [
      "c:\\Users\\Matheus\\anaconda3\\Lib\\site-packages\\seaborn\\_oldcore.py:1119: FutureWarning: use_inf_as_na option is deprecated and will be removed in a future version. Convert inf values to NaN before operating instead.\n",
      "  with pd.option_context('mode.use_inf_as_na', True):\n"
     ]
    },
    {
     "data": {
      "text/plain": [
       "<Axes: ylabel='Count'>"
      ]
     },
     "execution_count": 91,
     "metadata": {},
     "output_type": "execute_result"
    },
    {
     "data": {
      "image/png": "[encoded data removed]",
      "text/plain": [
       "<Figure size 640x480 with 1 Axes>"
      ]
     },
     "metadata": {},
     "output_type": "display_data"
    }
   ],
   "source": [
    "sns.histplot(resultado_bern)"
   ]
  },
  {
   "cell_type": "code",
   "execution_count": 101,
   "metadata": {},
   "outputs": [
    {
     "name": "stderr",
     "output_type": "stream",
     "text": [
      "c:\\Users\\Matheus\\anaconda3\\Lib\\site-packages\\seaborn\\_oldcore.py:1119: FutureWarning: use_inf_as_na option is deprecated and will be removed in a future version. Convert inf values to NaN before operating instead.\n",
      "  with pd.option_context('mode.use_inf_as_na', True):\n"
     ]
    },
    {
     "data": {
      "text/plain": [
       "<Axes: ylabel='Probability'>"
      ]
     },
     "execution_count": 101,
     "metadata": {},
     "output_type": "execute_result"
    },
    {
     "data": {
      "image/png": "[encoded data removed]",
      "text/plain": [
       "<Figure size 640x480 with 1 Axes>"
      ]
     },
     "metadata": {},
     "output_type": "display_data"
    }
   ],
   "source": [
    "# Trazeno a probabilidade\n",
    "sns.histplot(resultado_bern, stat='probability')"
   ]
  },
  {
   "cell_type": "markdown",
   "metadata": {},
   "source": [
    "Para o caso Titanic"
   ]
  },
  {
   "cell_type": "code",
   "execution_count": 102,
   "metadata": {},
   "outputs": [
    {
     "data": {
      "text/plain": [
       "0      0\n",
       "1      1\n",
       "2      1\n",
       "3      1\n",
       "4      0\n",
       "      ..\n",
       "886    0\n",
       "887    1\n",
       "888    0\n",
       "889    1\n",
       "890    0\n",
       "Name: Survived, Length: 891, dtype: int64"
      ]
     },
     "execution_count": 102,
     "metadata": {},
     "output_type": "execute_result"
    }
   ],
   "source": [
    "df_titanic['Survived']"
   ]
  },
  {
   "cell_type": "code",
   "execution_count": 103,
   "metadata": {},
   "outputs": [
    {
     "data": {
      "text/plain": [
       "<Axes: xlabel='Survived', ylabel='count'>"
      ]
     },
     "execution_count": 103,
     "metadata": {},
     "output_type": "execute_result"
    },
    {
     "data": {
      "image/png": "[encoded data removed]",
      "text/plain": [
       "<Figure size 640x480 with 1 Axes>"
      ]
     },
     "metadata": {},
     "output_type": "display_data"
    }
   ],
   "source": [
    "sns.countplot(data=df_titanic, x='Survived')"
   ]
  },
  {
   "cell_type": "code",
   "execution_count": 106,
   "metadata": {},
   "outputs": [
    {
     "data": {
      "text/plain": [
       "Survived\n",
       "0    0.616162\n",
       "1    0.383838\n",
       "Name: proportion, dtype: float64"
      ]
     },
     "execution_count": 106,
     "metadata": {},
     "output_type": "execute_result"
    }
   ],
   "source": [
    "df_titanic['Survived'].value_counts(normalize=True)"
   ]
  },
  {
   "cell_type": "markdown",
   "metadata": {},
   "source": [
    "_________\n",
    "\n",
    "### **3.2) Distribuição de Poisson**\n",
    "\n",
    "\n",
    "É largamente empregada quando se deseja contar **a quantidade de eventos** de certo tipo que ocorrem num intervalo de tempo ou espaço.\n",
    "\n",
    "Exemplos:\n",
    "\n",
    "- Número de chamadas recebidas por um telefone durante 5 minutos;\n",
    "- Número de falhas de um computador num dia de operação.\n",
    "- Número de meteoritos maiores que 1 metro de diâmetro que atingem a Terra em um ano;\n",
    "- O número de chicletes em cada bloco do chão:\n",
    "<img src=\"https://upload.wikimedia.org/wikipedia/commons/thumb/0/09/Chewing_gum_on_a_sidewalk_in_Reykjav%C3%ADk.JPG/220px-Chewing_gum_on_a_sidewalk_in_Reykjav%C3%ADk.JPG\">\n",
    "\n",
    "**Definição**\n",
    "\n",
    "Dizemos que a V.A. $N$ tem distribuição Poisson com parâmetro $\\lambda > 0$ se:\n",
    "\n",
    "$P(N=k) = \\frac{e^{-\\lambda}\\lambda^k}{k!}, k=0,1,2,...$\n",
    "\n",
    "\n",
    "\n",
    "#### **Características Importantes**\n",
    "\n",
    "1. A probabilidade de uma ocorrência é a mesma em todo o intervalo observado;\n",
    "2. O número de ocorrências em determinado intervalo é independente do número de ocorrências em outros intervalos;\n",
    "3. A probabilidade de uma ocorrência é a mesma em intervalos de igual comprimento.\n",
    "\n",
    "\n",
    "\n",
    "\n",
    "> Esta é uma **distribuição de probabilidade discreta**, uma vez que o espaço amostral é discreto, pois estamos interessados em **quantidades inteiras de ocorrência** de determinado evento em um dado intervalo."
   ]
  },
  {
   "cell_type": "markdown",
   "metadata": {},
   "source": [
    "#### Exemplo: Delivery\n",
    "\n",
    "Um restaurante recebe em média: **20 pedidos por hora**. Qual a chance de que, em determinada hora escolhida ao acaso, o restaurante receba **15 pedidos**?"
   ]
  },
  {
   "cell_type": "markdown",
   "metadata": {},
   "source": [
    "**Qual o número de ocorrências por hora($\\lambda$)** ?"
   ]
  },
  {
   "cell_type": "code",
   "execution_count": 108,
   "metadata": {},
   "outputs": [],
   "source": [
    "l = 20"
   ]
  },
  {
   "cell_type": "markdown",
   "metadata": {},
   "source": [
    "**Qual o número de ocorrências que queremos obter no período (k) ?**"
   ]
  },
  {
   "cell_type": "code",
   "execution_count": 109,
   "metadata": {},
   "outputs": [],
   "source": [
    "k = 15"
   ]
  },
  {
   "cell_type": "markdown",
   "metadata": {},
   "source": [
    "#### Solução 1"
   ]
  },
  {
   "cell_type": "code",
   "execution_count": 111,
   "metadata": {},
   "outputs": [],
   "source": [
    "import math\n"
   ]
  },
  {
   "cell_type": "code",
   "execution_count": 116,
   "metadata": {},
   "outputs": [
    {
     "data": {
      "text/plain": [
       "0.0516"
      ]
     },
     "execution_count": 116,
     "metadata": {},
     "output_type": "execute_result"
    }
   ],
   "source": [
    "round(np.exp(-l)*(l**k)/math.factorial(k),4)"
   ]
  },
  {
   "cell_type": "markdown",
   "metadata": {},
   "source": [
    "#### Solução 2"
   ]
  },
  {
   "cell_type": "code",
   "execution_count": 119,
   "metadata": {},
   "outputs": [
    {
     "data": {
      "text/plain": [
       "0.0516"
      ]
     },
     "execution_count": 119,
     "metadata": {},
     "output_type": "execute_result"
    }
   ],
   "source": [
    "round(scipy.stats.poisson.pmf(k=k, mu=l),4)"
   ]
  },
  {
   "cell_type": "code",
   "execution_count": 138,
   "metadata": {},
   "outputs": [],
   "source": [
    "experimento = {\n",
    "    'N_ligacoes' : [],\n",
    "    'Probabilidade': []\n",
    "}"
   ]
  },
  {
   "cell_type": "code",
   "execution_count": 139,
   "metadata": {},
   "outputs": [],
   "source": [
    "k_list = range(30)\n",
    "\n",
    "for k in k_list:\n",
    "\n",
    "    p = scipy.stats.poisson.pmf(k =k, mu=l)\n",
    "\n",
    "    experimento['N_ligacoes'].append(k)\n",
    "    experimento['Probabilidade'].append(p)"
   ]
  },
  {
   "cell_type": "code",
   "execution_count": 141,
   "metadata": {},
   "outputs": [
    {
     "data": {
      "text/html": [
       "<div>\n",
       "<style scoped>\n",
       "    .dataframe tbody tr th:only-of-type {\n",
       "        vertical-align: middle;\n",
       "    }\n",
       "\n",
       "    .dataframe tbody tr th {\n",
       "        vertical-align: top;\n",
       "    }\n",
       "\n",
       "    .dataframe thead th {\n",
       "        text-align: right;\n",
       "    }\n",
       "</style>\n",
       "<table border=\"1\" class=\"dataframe\">\n",
       "  <thead>\n",
       "    <tr style=\"text-align: right;\">\n",
       "      <th></th>\n",
       "      <th>N_ligacoes</th>\n",
       "      <th>Probabilidade</th>\n",
       "    </tr>\n",
       "  </thead>\n",
       "  <tbody>\n",
       "    <tr>\n",
       "      <th>0</th>\n",
       "      <td>0</td>\n",
       "      <td>2.061154e-09</td>\n",
       "    </tr>\n",
       "    <tr>\n",
       "      <th>1</th>\n",
       "      <td>1</td>\n",
       "      <td>4.122307e-08</td>\n",
       "    </tr>\n",
       "    <tr>\n",
       "      <th>2</th>\n",
       "      <td>2</td>\n",
       "      <td>4.122307e-07</td>\n",
       "    </tr>\n",
       "    <tr>\n",
       "      <th>3</th>\n",
       "      <td>3</td>\n",
       "      <td>2.748205e-06</td>\n",
       "    </tr>\n",
       "    <tr>\n",
       "      <th>4</th>\n",
       "      <td>4</td>\n",
       "      <td>1.374102e-05</td>\n",
       "    </tr>\n",
       "  </tbody>\n",
       "</table>\n",
       "</div>"
      ],
      "text/plain": [
       "   N_ligacoes  Probabilidade\n",
       "0           0   2.061154e-09\n",
       "1           1   4.122307e-08\n",
       "2           2   4.122307e-07\n",
       "3           3   2.748205e-06\n",
       "4           4   1.374102e-05"
      ]
     },
     "execution_count": 141,
     "metadata": {},
     "output_type": "execute_result"
    }
   ],
   "source": [
    "df = pd.DataFrame(experimento)\n",
    "\n",
    "df.head()"
   ]
  },
  {
   "cell_type": "code",
   "execution_count": 146,
   "metadata": {},
   "outputs": [
    {
     "data": {
      "text/html": [
       "<div>\n",
       "<style scoped>\n",
       "    .dataframe tbody tr th:only-of-type {\n",
       "        vertical-align: middle;\n",
       "    }\n",
       "\n",
       "    .dataframe tbody tr th {\n",
       "        vertical-align: top;\n",
       "    }\n",
       "\n",
       "    .dataframe thead th {\n",
       "        text-align: right;\n",
       "    }\n",
       "</style>\n",
       "<table border=\"1\" class=\"dataframe\">\n",
       "  <thead>\n",
       "    <tr style=\"text-align: right;\">\n",
       "      <th></th>\n",
       "      <th>N_ligacoes</th>\n",
       "      <th>Probabilidade</th>\n",
       "      <th>p_formatado</th>\n",
       "    </tr>\n",
       "  </thead>\n",
       "  <tbody>\n",
       "    <tr>\n",
       "      <th>0</th>\n",
       "      <td>0</td>\n",
       "      <td>2.061154e-09</td>\n",
       "      <td>0.000000206%</td>\n",
       "    </tr>\n",
       "    <tr>\n",
       "      <th>1</th>\n",
       "      <td>1</td>\n",
       "      <td>4.122307e-08</td>\n",
       "      <td>0.000004122%</td>\n",
       "    </tr>\n",
       "    <tr>\n",
       "      <th>2</th>\n",
       "      <td>2</td>\n",
       "      <td>4.122307e-07</td>\n",
       "      <td>0.000041223%</td>\n",
       "    </tr>\n",
       "    <tr>\n",
       "      <th>3</th>\n",
       "      <td>3</td>\n",
       "      <td>2.748205e-06</td>\n",
       "      <td>0.000274820%</td>\n",
       "    </tr>\n",
       "    <tr>\n",
       "      <th>4</th>\n",
       "      <td>4</td>\n",
       "      <td>1.374102e-05</td>\n",
       "      <td>0.001374102%</td>\n",
       "    </tr>\n",
       "  </tbody>\n",
       "</table>\n",
       "</div>"
      ],
      "text/plain": [
       "   N_ligacoes  Probabilidade   p_formatado\n",
       "0           0   2.061154e-09  0.000000206%\n",
       "1           1   4.122307e-08  0.000004122%\n",
       "2           2   4.122307e-07  0.000041223%\n",
       "3           3   2.748205e-06  0.000274820%\n",
       "4           4   1.374102e-05  0.001374102%"
      ]
     },
     "execution_count": 146,
     "metadata": {},
     "output_type": "execute_result"
    }
   ],
   "source": [
    "df['p_formatado'] = df['Probabilidade'].apply(lambda x: f\"{x:.9%}\")\n",
    "df.head()"
   ]
  },
  {
   "cell_type": "code",
   "execution_count": 150,
   "metadata": {},
   "outputs": [
    {
     "data": {
      "text/html": [
       "<div>\n",
       "<style scoped>\n",
       "    .dataframe tbody tr th:only-of-type {\n",
       "        vertical-align: middle;\n",
       "    }\n",
       "\n",
       "    .dataframe tbody tr th {\n",
       "        vertical-align: top;\n",
       "    }\n",
       "\n",
       "    .dataframe thead th {\n",
       "        text-align: right;\n",
       "    }\n",
       "</style>\n",
       "<table border=\"1\" class=\"dataframe\">\n",
       "  <thead>\n",
       "    <tr style=\"text-align: right;\">\n",
       "      <th></th>\n",
       "      <th>N_ligacoes</th>\n",
       "      <th>Probabilidade</th>\n",
       "      <th>p_formatado</th>\n",
       "      <th>prob_acumulada</th>\n",
       "    </tr>\n",
       "  </thead>\n",
       "  <tbody>\n",
       "    <tr>\n",
       "      <th>0</th>\n",
       "      <td>0</td>\n",
       "      <td>2.061154e-09</td>\n",
       "      <td>0.000000206%</td>\n",
       "      <td>0.000000206%</td>\n",
       "    </tr>\n",
       "    <tr>\n",
       "      <th>1</th>\n",
       "      <td>1</td>\n",
       "      <td>4.122307e-08</td>\n",
       "      <td>0.000004122%</td>\n",
       "      <td>0.000004328%</td>\n",
       "    </tr>\n",
       "    <tr>\n",
       "      <th>2</th>\n",
       "      <td>2</td>\n",
       "      <td>4.122307e-07</td>\n",
       "      <td>0.000041223%</td>\n",
       "      <td>0.000045551%</td>\n",
       "    </tr>\n",
       "    <tr>\n",
       "      <th>3</th>\n",
       "      <td>3</td>\n",
       "      <td>2.748205e-06</td>\n",
       "      <td>0.000274820%</td>\n",
       "      <td>0.000320372%</td>\n",
       "    </tr>\n",
       "    <tr>\n",
       "      <th>4</th>\n",
       "      <td>4</td>\n",
       "      <td>1.374102e-05</td>\n",
       "      <td>0.001374102%</td>\n",
       "      <td>0.001694474%</td>\n",
       "    </tr>\n",
       "  </tbody>\n",
       "</table>\n",
       "</div>"
      ],
      "text/plain": [
       "   N_ligacoes  Probabilidade   p_formatado prob_acumulada\n",
       "0           0   2.061154e-09  0.000000206%   0.000000206%\n",
       "1           1   4.122307e-08  0.000004122%   0.000004328%\n",
       "2           2   4.122307e-07  0.000041223%   0.000045551%\n",
       "3           3   2.748205e-06  0.000274820%   0.000320372%\n",
       "4           4   1.374102e-05  0.001374102%   0.001694474%"
      ]
     },
     "execution_count": 150,
     "metadata": {},
     "output_type": "execute_result"
    }
   ],
   "source": [
    "df['prob_acumulada'] = df['Probabilidade'].cumsum().apply(lambda x: f\"{x:.9%}\")\n",
    "df.head()"
   ]
  },
  {
   "cell_type": "markdown",
   "metadata": {},
   "source": [
    "#### Qual a cara da distribuição ?"
   ]
  },
  {
   "cell_type": "code",
   "execution_count": 153,
   "metadata": {},
   "outputs": [
    {
     "data": {
      "text/plain": [
       "<matplotlib.collections.PathCollection at 0x2384e3ac190>"
      ]
     },
     "execution_count": 153,
     "metadata": {},
     "output_type": "execute_result"
    },
    {
     "data": {
      "image/png": "[encoded data removed]",
      "text/plain": [
       "<Figure size 640x480 with 1 Axes>"
      ]
     },
     "metadata": {},
     "output_type": "display_data"
    }
   ],
   "source": [
    "plt.scatter(df['N_ligacoes'], df['Probabilidade'])"
   ]
  },
  {
   "cell_type": "markdown",
   "metadata": {},
   "source": [
    "\n",
    "### De volta ao poblema gerador!\n",
    "\n",
    "> Em um jogo da Copa do Mundo de futebol, a quantidade média de gols é aproximadamente `3`. Assim sendo, qual é a probabilidade de em determinada partida não haver gols? E a probabilidade de haver 4 gols?"
   ]
  },
  {
   "cell_type": "markdown",
   "metadata": {},
   "source": [
    "A primeira coisa que devemos nos perguntar é se é justificável modelarmos a quantidade de gols em uma partida como uma variável aleatória distribuída segundo um processo de Poisson.\n",
    "\n",
    "Assumindo isso, basta utilizarmos a distribuição de Poisson, e a função mdf:"
   ]
  },
  {
   "cell_type": "code",
   "execution_count": 159,
   "metadata": {},
   "outputs": [
    {
     "name": "stdout",
     "output_type": "stream",
     "text": [
      "Probabilidade de Zero gols = 0.049787068367863944\n",
      "Probabilidade de Quatro gols = 0.16803135574154085\n"
     ]
    }
   ],
   "source": [
    "l = 3\n",
    "\n",
    "p_zero = scipy.stats.poisson.pmf(k=0, mu=l)\n",
    "print(f'Probabilidade de Zero gols = {p_zero}')\n",
    "\n",
    "p_quatro = scipy.stats.poisson.pmf(k=4, mu=l)\n",
    "print(f'Probabilidade de Quatro gols = {p_quatro}')"
   ]
  },
  {
   "cell_type": "code",
   "execution_count": 166,
   "metadata": {},
   "outputs": [],
   "source": [
    "l = 3\n",
    "experimento = {\n",
    "    'numero_gols':[],\n",
    "    'probabilidade': []\n",
    "}\n",
    "\n",
    "k_list= range(15)\n",
    "\n",
    "for k in k_list:\n",
    "    p = scipy.stats.poisson.pmf(k=k, mu=1)\n",
    "\n",
    "    experimento['numero_gols'].append(k)\n",
    "    experimento['probabilidade'].append(p)\n",
    "\n"
   ]
  },
  {
   "cell_type": "code",
   "execution_count": 168,
   "metadata": {},
   "outputs": [
    {
     "data": {
      "text/html": [
       "<div>\n",
       "<style scoped>\n",
       "    .dataframe tbody tr th:only-of-type {\n",
       "        vertical-align: middle;\n",
       "    }\n",
       "\n",
       "    .dataframe tbody tr th {\n",
       "        vertical-align: top;\n",
       "    }\n",
       "\n",
       "    .dataframe thead th {\n",
       "        text-align: right;\n",
       "    }\n",
       "</style>\n",
       "<table border=\"1\" class=\"dataframe\">\n",
       "  <thead>\n",
       "    <tr style=\"text-align: right;\">\n",
       "      <th></th>\n",
       "      <th>numero_gols</th>\n",
       "      <th>probabilidade</th>\n",
       "      <th>p_formatado</th>\n",
       "      <th>prob_acumulada</th>\n",
       "    </tr>\n",
       "  </thead>\n",
       "  <tbody>\n",
       "    <tr>\n",
       "      <th>0</th>\n",
       "      <td>0</td>\n",
       "      <td>3.678794e-01</td>\n",
       "      <td>36.787944117%</td>\n",
       "      <td>36.787944117%</td>\n",
       "    </tr>\n",
       "    <tr>\n",
       "      <th>1</th>\n",
       "      <td>1</td>\n",
       "      <td>3.678794e-01</td>\n",
       "      <td>36.787944117%</td>\n",
       "      <td>73.575888234%</td>\n",
       "    </tr>\n",
       "    <tr>\n",
       "      <th>2</th>\n",
       "      <td>2</td>\n",
       "      <td>1.839397e-01</td>\n",
       "      <td>18.393972059%</td>\n",
       "      <td>91.969860293%</td>\n",
       "    </tr>\n",
       "    <tr>\n",
       "      <th>3</th>\n",
       "      <td>3</td>\n",
       "      <td>6.131324e-02</td>\n",
       "      <td>6.131324020%</td>\n",
       "      <td>98.101184312%</td>\n",
       "    </tr>\n",
       "    <tr>\n",
       "      <th>4</th>\n",
       "      <td>4</td>\n",
       "      <td>1.532831e-02</td>\n",
       "      <td>1.532831005%</td>\n",
       "      <td>99.634015317%</td>\n",
       "    </tr>\n",
       "    <tr>\n",
       "      <th>5</th>\n",
       "      <td>5</td>\n",
       "      <td>3.065662e-03</td>\n",
       "      <td>0.306566201%</td>\n",
       "      <td>99.940581518%</td>\n",
       "    </tr>\n",
       "    <tr>\n",
       "      <th>6</th>\n",
       "      <td>6</td>\n",
       "      <td>5.109437e-04</td>\n",
       "      <td>0.051094367%</td>\n",
       "      <td>99.991675885%</td>\n",
       "    </tr>\n",
       "    <tr>\n",
       "      <th>7</th>\n",
       "      <td>7</td>\n",
       "      <td>7.299195e-05</td>\n",
       "      <td>0.007299195%</td>\n",
       "      <td>99.998975080%</td>\n",
       "    </tr>\n",
       "    <tr>\n",
       "      <th>8</th>\n",
       "      <td>8</td>\n",
       "      <td>9.123994e-06</td>\n",
       "      <td>0.000912399%</td>\n",
       "      <td>99.999887480%</td>\n",
       "    </tr>\n",
       "    <tr>\n",
       "      <th>9</th>\n",
       "      <td>9</td>\n",
       "      <td>1.013777e-06</td>\n",
       "      <td>0.000101378%</td>\n",
       "      <td>99.999988857%</td>\n",
       "    </tr>\n",
       "    <tr>\n",
       "      <th>10</th>\n",
       "      <td>10</td>\n",
       "      <td>1.013777e-07</td>\n",
       "      <td>0.000010138%</td>\n",
       "      <td>99.999998995%</td>\n",
       "    </tr>\n",
       "    <tr>\n",
       "      <th>11</th>\n",
       "      <td>11</td>\n",
       "      <td>9.216156e-09</td>\n",
       "      <td>0.000000922%</td>\n",
       "      <td>99.999999917%</td>\n",
       "    </tr>\n",
       "    <tr>\n",
       "      <th>12</th>\n",
       "      <td>12</td>\n",
       "      <td>7.680130e-10</td>\n",
       "      <td>0.000000077%</td>\n",
       "      <td>99.999999994%</td>\n",
       "    </tr>\n",
       "    <tr>\n",
       "      <th>13</th>\n",
       "      <td>13</td>\n",
       "      <td>5.907792e-11</td>\n",
       "      <td>0.000000006%</td>\n",
       "      <td>100.000000000%</td>\n",
       "    </tr>\n",
       "    <tr>\n",
       "      <th>14</th>\n",
       "      <td>14</td>\n",
       "      <td>4.219851e-12</td>\n",
       "      <td>0.000000000%</td>\n",
       "      <td>100.000000000%</td>\n",
       "    </tr>\n",
       "  </tbody>\n",
       "</table>\n",
       "</div>"
      ],
      "text/plain": [
       "    numero_gols  probabilidade    p_formatado  prob_acumulada\n",
       "0             0   3.678794e-01  36.787944117%   36.787944117%\n",
       "1             1   3.678794e-01  36.787944117%   73.575888234%\n",
       "2             2   1.839397e-01  18.393972059%   91.969860293%\n",
       "3             3   6.131324e-02   6.131324020%   98.101184312%\n",
       "4             4   1.532831e-02   1.532831005%   99.634015317%\n",
       "5             5   3.065662e-03   0.306566201%   99.940581518%\n",
       "6             6   5.109437e-04   0.051094367%   99.991675885%\n",
       "7             7   7.299195e-05   0.007299195%   99.998975080%\n",
       "8             8   9.123994e-06   0.000912399%   99.999887480%\n",
       "9             9   1.013777e-06   0.000101378%   99.999988857%\n",
       "10           10   1.013777e-07   0.000010138%   99.999998995%\n",
       "11           11   9.216156e-09   0.000000922%   99.999999917%\n",
       "12           12   7.680130e-10   0.000000077%   99.999999994%\n",
       "13           13   5.907792e-11   0.000000006%  100.000000000%\n",
       "14           14   4.219851e-12   0.000000000%  100.000000000%"
      ]
     },
     "execution_count": 168,
     "metadata": {},
     "output_type": "execute_result"
    }
   ],
   "source": [
    "df_gols = pd.DataFrame(experimento)\n",
    "df_gols['p_formatado'] = df_gols['probabilidade'].apply(lambda x: f\"{x:.9%}\")\n",
    "df_gols['prob_acumulada'] = df_gols['probabilidade'].cumsum().apply(lambda x: f\"{x:.9%}\")\n",
    "df_gols"
   ]
  },
  {
   "cell_type": "markdown",
   "metadata": {},
   "source": [
    "_________\n",
    "\n",
    "### **3.3) Distribuição Normal (Gaussiana)**\n",
    "\n",
    "É representada por uma **curva simétrica em torno do seu ponto médio**, apresentando assim seu famoso formato de **sino** (*bell shape*).  \n",
    "\n",
    "A distribuição normal modela o comportamento de **diversos processos e fenômenos comuns**, como por exemplo: altura ou peso de uma população, a pressão sanguínea de um grupo de pessoas, o tempo que um grupo de estudantes gasta para realizar uma prova, etc.\n",
    "\n",
    "Na distribuição normal, a média, mediana e moda dos dados possuem o mesmo valor, o que faz com que essa distribuição seja **simétrica com relação a estes valores**.\n",
    "\n",
    "<img src=\"https://dietassessmentprimer.cancer.gov/images/learn/distribution1.jpg\">"
   ]
  },
  {
   "cell_type": "markdown",
   "metadata": {},
   "source": [
    "Usaremos a notação $X \\sim \\mathcal{N}(\\mu, \\sigma^2)$ para representar uma variável aleatória distribuida segundo uma normal de média $\\mu$ e variância $\\sigma^2$.\n",
    "\n",
    "<img src=\"https://upload.wikimedia.org/wikipedia/commons/thumb/7/74/Normal_Distribution_PDF.svg/1280px-Normal_Distribution_PDF.svg.png\" width=500>\n",
    "\n",
    "A função densidade de probabilidade da distribuição normal é dada por:\n",
    "\n",
    "$$f(x)={\\frac {1}{\\sigma {\\sqrt {2\\pi }}}}e^{-{\\frac {1}{2}}\\left({\\frac {x-\\mu }{\\sigma }}\\right)^{2}}$$\n",
    "\n",
    "> Diferentemente das duas distribuições anteriores, a gaussiana é uma **distribuição de probabilidade contínua**, dado que a V.A. associada pode assumir qualquer valor real, $X \\in \\mathbb{R}$."
   ]
  },
  {
   "cell_type": "markdown",
   "metadata": {},
   "source": [
    "A distribuição normal é, muito provavelmente, a distribuição mais importante da estatística, sobretudo dado seu papel no famoso **Teorema Central do Limite**, que estudaremos em breve, no contexto da estatística inferencial."
   ]
  },
  {
   "cell_type": "code",
   "execution_count": 170,
   "metadata": {},
   "outputs": [
    {
     "data": {
      "text/plain": [
       "[<matplotlib.lines.Line2D at 0x2381f2db5d0>]"
      ]
     },
     "execution_count": 170,
     "metadata": {},
     "output_type": "execute_result"
    },
    {
     "data": {
      "image/png": "[encoded data removed]",
      "text/plain": [
       "<Figure size 640x480 with 1 Axes>"
      ]
     },
     "metadata": {},
     "output_type": "display_data"
    }
   ],
   "source": [
    "m,s = 0, 1\n",
    "x = np.linspace(-5,5, 1000)\n",
    "\n",
    "y = (1/(s*np.sqrt(2*np.pi))) * np.exp(-0.5*((x-m)/s)**2)\n",
    "\n",
    "plt.plot(x,y)\n"
   ]
  },
  {
   "cell_type": "code",
   "execution_count": 174,
   "metadata": {},
   "outputs": [
    {
     "name": "stderr",
     "output_type": "stream",
     "text": [
      "c:\\Users\\Matheus\\anaconda3\\Lib\\site-packages\\seaborn\\_oldcore.py:1119: FutureWarning: use_inf_as_na option is deprecated and will be removed in a future version. Convert inf values to NaN before operating instead.\n",
      "  with pd.option_context('mode.use_inf_as_na', True):\n"
     ]
    },
    {
     "data": {
      "text/plain": [
       "<Axes: ylabel='Density'>"
      ]
     },
     "execution_count": 174,
     "metadata": {},
     "output_type": "execute_result"
    },
    {
     "data": {
      "image/png": "[encoded data removed]",
      "text/plain": [
       "<Figure size 640x480 with 1 Axes>"
      ]
     },
     "metadata": {},
     "output_type": "display_data"
    }
   ],
   "source": [
    "dados = np.random.normal(m,s,1000)\n",
    "sns.histplot(dados, kde=True, stat='density')"
   ]
  },
  {
   "cell_type": "code",
   "execution_count": 177,
   "metadata": {},
   "outputs": [
    {
     "data": {
      "text/plain": [
       "array([-4.09431627e-01, -7.85022918e-02,  8.67706740e-01, -5.36469726e-01,\n",
       "        1.95383316e+00, -5.05639404e-01,  9.94430397e-01, -4.47553819e-01,\n",
       "        8.14255295e-01, -6.63601873e-01, -1.15729836e+00,  8.78157779e-02,\n",
       "       -5.25147553e-01, -1.54577849e+00, -1.56106515e-01, -5.63319771e-01,\n",
       "        6.92538870e-01,  9.38624613e-01,  1.22493048e+00, -2.23814959e-02,\n",
       "       -7.89667253e-01, -4.70515050e-01,  1.51757089e-01,  4.31557346e-01,\n",
       "       -5.52718700e-01,  6.09062460e-01, -1.67695314e+00, -1.12153352e+00,\n",
       "       -5.38850091e-01,  5.74250265e-02,  3.63064773e-02, -6.53431717e-01,\n",
       "       -1.21219108e+00, -6.12928599e-01,  1.27715671e+00, -2.59529959e-01,\n",
       "        6.83877160e-01, -3.98923727e-01,  5.10811852e-01,  1.07704844e+00,\n",
       "        5.85825230e-01,  1.37151944e+00, -4.99347005e-01, -1.79327479e+00,\n",
       "       -2.30846543e-01,  2.54153237e-01, -1.74034278e+00,  7.22305004e-01,\n",
       "       -1.28962156e+00,  3.29977678e-01,  5.00920442e-01,  3.02622888e-01,\n",
       "        4.87500368e-01,  4.26153098e-01, -1.07582367e+00, -1.02514043e+00,\n",
       "       -1.17895465e-01,  9.53281381e-01,  7.78390356e-01,  4.20361781e-01,\n",
       "       -3.22918304e-01, -2.31549400e-01, -1.11660666e+00, -5.09993514e-01,\n",
       "       -1.02527096e+00,  3.07099769e-01, -2.95046172e-02, -4.25792254e-01,\n",
       "        4.53430391e-01, -1.83068266e-01,  8.80064266e-01,  1.21512118e+00,\n",
       "       -3.13567046e-03,  5.61196222e-01,  6.36034167e-02,  1.09593022e+00,\n",
       "        1.66711600e+00,  5.28910623e-02,  2.66548167e-01,  6.18954511e-01,\n",
       "       -2.30994081e+00,  6.08532671e-01, -3.15779896e-01, -8.18932967e-01,\n",
       "       -2.14449371e-02, -2.50384366e-01,  4.18009109e-01, -1.62628893e+00,\n",
       "       -6.28048064e-01, -6.36839472e-01, -9.37418267e-01, -1.46923913e+00,\n",
       "        5.65154839e-01,  4.37291653e-01, -3.89233039e-02, -9.45413785e-01,\n",
       "       -6.58752599e-01, -6.91948521e-01,  5.66550632e-01, -6.49126437e-02,\n",
       "        1.16783313e+00,  4.02448947e-01, -1.46923925e-01, -1.28755022e+00,\n",
       "       -1.04895656e+00, -6.78012372e-01,  2.97460688e-01,  8.64413234e-01,\n",
       "       -7.58044015e-01,  6.14281532e-02, -6.01995657e-01,  5.08739393e-01,\n",
       "       -1.25179386e-01, -8.16736939e-01, -9.95409776e-01,  7.76928058e-01,\n",
       "       -6.65448757e-01,  7.07422135e-01,  5.36439718e-01, -1.62464989e-01,\n",
       "       -4.86535867e-01,  1.02509669e+00,  1.61778563e-01,  7.77552273e-01,\n",
       "        2.26062678e+00, -8.45036855e-01, -1.86823621e+00,  2.67789051e-01,\n",
       "        3.49760982e-01,  1.12055029e+00, -2.70494797e-01,  6.96829992e-01,\n",
       "       -4.13950911e-01, -6.68972512e-01,  6.39606799e-01,  1.14165814e+00,\n",
       "       -1.60878877e+00, -9.81853597e-01, -1.85091874e-01,  1.36733206e+00,\n",
       "        1.05327504e+00,  5.26298846e-01,  2.36439000e+00, -1.76713254e+00,\n",
       "       -1.03136896e-01, -6.23875619e-01,  1.15314240e+00, -1.28307149e+00,\n",
       "       -1.02106734e+00, -1.21563304e-01, -1.33836999e+00,  8.96843325e-01,\n",
       "        3.45392395e-01, -2.45011538e+00,  1.28632103e+00,  3.25962851e-01,\n",
       "        7.53505363e-01, -1.02776177e+00, -6.24073987e-01,  4.75634630e-01,\n",
       "        1.40492087e+00, -1.51877770e+00, -1.34329138e-02,  1.20920780e+00,\n",
       "        9.45630617e-01,  1.33266010e-01,  5.69255066e-01, -1.36777714e+00,\n",
       "       -6.90514706e-01, -1.50158749e-01,  1.53193176e+00,  1.04713073e+00,\n",
       "        4.90774673e-01,  1.09585246e+00,  1.60825108e+00,  8.56702584e-01,\n",
       "       -8.84502825e-01, -6.61892295e-01, -1.50559554e+00, -4.39184349e-01,\n",
       "        6.75863532e-01,  6.99941592e-01, -3.13450206e-01, -5.53646017e-01,\n",
       "       -5.84887258e-01, -1.32559890e+00, -5.73636339e-01,  5.56307695e-02,\n",
       "       -1.23276031e-01, -1.39552671e+00, -6.79704549e-02,  1.85810388e+00,\n",
       "        5.81123908e-01, -1.60589882e+00, -1.89155383e+00, -8.44506330e-01,\n",
       "        9.89921617e-01,  2.50113544e+00,  4.23376422e-01,  1.12181763e+00,\n",
       "        1.01035171e+00, -7.68846413e-01, -1.52104941e+00, -1.17780579e+00,\n",
       "        1.83441412e+00, -4.31499203e-02, -7.51669470e-01,  1.14647373e-01,\n",
       "       -2.77404269e-01, -1.38290953e+00, -5.84527290e-01,  6.89223928e-01,\n",
       "        1.48127214e+00,  6.79908109e-01,  1.83558387e-01, -8.16141042e-01,\n",
       "       -1.08258015e+00,  7.29847830e-01,  1.12311468e+00,  3.52385544e-01,\n",
       "        2.57220478e-02,  2.00998409e-01,  5.86508336e-01,  9.83434983e-03,\n",
       "        3.20482802e-02, -8.56113652e-01,  1.51073522e+00, -1.96627413e+00,\n",
       "       -6.13632707e-01, -1.58816553e-01,  7.88229073e-01, -3.96419782e-01,\n",
       "       -1.62487710e+00,  1.33192769e+00, -1.02356335e+00, -8.04589084e-02,\n",
       "       -1.20757408e+00,  1.61430372e+00, -3.31909081e-01, -7.13001646e-01,\n",
       "        1.60578831e-01,  1.39956933e+00,  9.17397636e-01, -1.74522636e+00,\n",
       "        1.58204906e+00, -1.79882814e+00, -1.47746428e+00,  5.63705297e-01,\n",
       "        7.53038538e-02, -7.32066864e-02,  5.32514316e-01, -4.56887983e-01,\n",
       "        1.38382413e+00, -3.91654071e-01, -1.67433476e+00,  2.25781988e+00,\n",
       "       -4.39266459e-01,  2.03746716e-01, -3.70851204e-01, -2.08418449e-01,\n",
       "        5.58102073e-02, -4.28180300e-01,  7.09838823e-01, -7.64621101e-01,\n",
       "        1.59999084e+00,  8.17387932e-01, -3.11151263e-02,  6.58088407e-01,\n",
       "        1.06527692e+00,  9.44916381e-01,  2.24028336e+00,  1.67509452e+00,\n",
       "       -1.12805922e+00,  7.36977059e-01, -5.10886412e-01,  1.28784007e+00,\n",
       "       -6.14621272e-01, -9.91178518e-01,  3.09391978e-01, -6.14342587e-01,\n",
       "        3.24428989e-01, -5.17486630e-01, -1.55266202e+00, -1.35339025e+00,\n",
       "       -1.51716122e+00, -6.58451618e-01,  1.44793356e-01, -2.27515636e+00,\n",
       "        4.50710398e-01, -9.84952153e-01, -1.38357176e+00, -1.00931532e+00,\n",
       "       -1.91566122e+00,  9.56641146e-02, -3.88554530e-01, -1.04266115e+00,\n",
       "       -8.93907035e-01, -1.40017310e+00,  8.33790776e-01,  2.70985390e+00,\n",
       "       -2.12396450e+00,  8.35414577e-01, -2.04820573e+00,  1.24398222e+00,\n",
       "        3.70991621e-01,  8.36300061e-01,  1.24164594e+00,  2.19869973e-01,\n",
       "       -9.87348724e-01,  2.20645933e-01, -9.02447765e-01,  1.73862641e-02,\n",
       "        1.80927584e-01, -1.72492480e+00, -1.00521135e+00,  1.15536721e+00,\n",
       "       -7.21875261e-01,  3.80753928e-02, -3.50268065e-01,  5.85151042e-01,\n",
       "       -9.76809224e-01, -3.02355610e-01,  1.01827649e+00,  6.88820430e-01,\n",
       "        2.37458251e-02,  5.10883327e-01,  1.18739797e+00, -1.63085570e+00,\n",
       "       -1.41170076e+00, -6.76989850e-01, -2.82366072e-01, -4.12484939e-01,\n",
       "       -1.31524187e+00,  5.90262654e-01, -8.71671351e-01, -7.75392376e-01,\n",
       "       -3.64452759e-01, -1.41823456e-01,  4.11482940e-01, -7.05221855e-01,\n",
       "       -4.51429746e-01, -7.05825494e-01, -8.40571684e-01, -1.28851429e+00,\n",
       "        1.88865391e+00, -7.16524380e-01,  5.17633635e-01, -1.61366341e+00,\n",
       "       -4.20612650e-01,  1.98879619e-01, -5.48945378e-01,  1.21366937e-01,\n",
       "       -2.95273445e-01,  3.29452514e-01, -9.57796442e-01,  6.63022742e-01,\n",
       "        2.43253603e-01, -3.99726931e-01, -9.94483199e-01,  6.28489112e-01,\n",
       "       -1.05709751e-01, -2.88186950e-01, -2.73519201e-01, -1.66194526e+00,\n",
       "       -2.41332311e-01,  7.47522654e-01, -5.26271249e-01, -3.63725937e-01,\n",
       "       -7.60330680e-01,  2.28518850e-01, -7.28435906e-01, -1.95764248e-01,\n",
       "       -7.19374239e-01, -2.06826834e+00,  6.47809516e-01,  9.04626437e-01,\n",
       "        5.30166638e-01, -1.30623753e+00, -1.12495098e+00, -1.33669088e+00,\n",
       "       -4.99652339e-02, -1.51823460e-01,  2.31238829e-01,  3.70096007e-01,\n",
       "       -4.54074537e-01,  2.16514604e+00, -2.42432213e-01, -1.18451051e+00,\n",
       "        7.46123192e-01,  1.33884773e+00,  7.28992366e-01,  1.22537967e+00,\n",
       "        1.57181879e+00, -1.92395123e-01, -3.10214441e-01,  5.97816321e-01,\n",
       "       -7.71088063e-01, -3.51382215e-01, -8.30208990e-02,  1.73576936e+00,\n",
       "       -7.82455040e-01, -2.27966681e-01,  1.03345027e-01, -6.47333214e-01,\n",
       "        1.74547797e-01,  7.68607839e-02,  1.52700960e+00,  4.96706038e-01,\n",
       "        7.21183732e-01,  9.28635855e-01,  1.45393426e+00,  2.95335471e-01,\n",
       "       -5.55003032e-01, -2.25086684e-01, -1.21615855e+00,  5.81751206e-02,\n",
       "       -4.86235367e-01,  1.04973802e+00, -4.92525517e-01, -8.23818709e-01,\n",
       "       -8.21502826e-01,  3.54800176e-01,  1.03513780e-02,  9.06428339e-01,\n",
       "        6.44094739e-01, -2.16384880e+00, -1.74000834e+00,  4.39350789e-02,\n",
       "       -1.52129791e+00, -1.13784367e+00, -4.27594258e-01,  7.38568353e-01,\n",
       "       -5.01703168e-01,  2.22768035e-01, -1.67592118e+00, -3.71885360e-01,\n",
       "        8.66415704e-02,  9.56304682e-01, -5.43124895e-01, -1.81534873e-01,\n",
       "       -5.77442704e-01, -1.31197876e+00,  5.22002719e-01,  4.04648162e-01,\n",
       "        1.56208146e-01, -5.74753150e-01, -1.47970434e+00, -1.22330514e+00,\n",
       "       -1.96175024e+00,  1.27953729e+00, -1.12140263e+00,  2.52623864e-01,\n",
       "        4.21099408e-01, -5.03269927e-01, -4.49966053e-01,  5.59784995e-02,\n",
       "        5.67027421e-01,  2.49423238e-01, -1.51142943e-01,  3.86616349e-01,\n",
       "        9.83724713e-01, -7.04344689e-01, -1.90077226e+00, -8.99297650e-01,\n",
       "        1.80332819e+00, -7.44930805e-01,  1.08353888e+00, -1.58497026e-01,\n",
       "        9.44037697e-01, -3.26331834e-01, -1.61294722e+00,  2.16085224e-02,\n",
       "        1.16994017e+00, -6.33291034e-01,  1.05622657e+00, -9.65004046e-01,\n",
       "        1.84103383e+00,  1.61687137e+00, -1.24386101e+00,  2.13177673e-01,\n",
       "        1.01656288e+00,  7.61379620e-02, -1.25845879e+00, -4.99978609e-01,\n",
       "       -7.64633809e-01, -7.79441344e-01, -1.94593690e+00,  1.36045523e+00,\n",
       "       -1.04989247e+00, -7.10510703e-01, -9.23046529e-01,  4.91305202e-01,\n",
       "        1.44636900e+00, -5.38689426e-01,  7.99291874e-01,  1.08390490e+00,\n",
       "        7.70091026e-02, -1.16075827e-01,  6.77907414e-01, -7.95219149e-01,\n",
       "       -2.68067323e-02,  4.59341388e-01,  1.74368374e+00, -7.22908160e-02,\n",
       "       -9.91952651e-01, -5.57065612e-01, -1.14049193e+00,  1.13383018e+00,\n",
       "       -6.88763846e-01,  1.12865060e+00,  1.82445937e+00,  8.68660138e-01,\n",
       "        1.78593148e-01,  1.11177144e-01, -1.30445154e-02,  1.77855266e-01,\n",
       "        2.87547441e+00, -3.36568631e-01, -5.82330803e-01, -5.99330846e-01,\n",
       "        1.50777884e+00, -6.46823956e-01, -5.85475246e-01, -1.24780678e+00,\n",
       "        7.50305893e-01,  6.58548667e-02, -7.51060420e-01,  1.10657024e+00,\n",
       "       -7.84765801e-01,  7.83003484e-01,  1.29189793e+00,  1.42276474e+00,\n",
       "       -2.23961950e-01,  1.00007053e+00,  1.37623748e+00, -1.03162441e+00,\n",
       "        2.39651981e-01, -9.34189907e-01, -7.69223636e-01,  1.29315251e+00,\n",
       "       -5.19551470e-01, -3.84909344e-01,  2.14567720e+00, -9.85050955e-01,\n",
       "        1.88363414e-01, -1.63011950e-01, -1.16808716e+00, -9.06371896e-02,\n",
       "       -3.55109360e-01, -2.43958268e-01,  1.00283719e+00, -1.57064275e+00,\n",
       "        1.03725978e+00,  1.34992907e+00, -7.78666180e-01, -9.20841530e-01,\n",
       "        4.22239736e-01, -4.12265200e-01, -3.19575322e+00, -9.61645352e-03,\n",
       "       -8.57619721e-01,  8.27491549e-01,  7.26186564e-01,  5.46901071e-01,\n",
       "        6.33819637e-01,  5.29979302e-01,  1.36237803e+00,  9.95064998e-01,\n",
       "       -1.16073227e-01,  3.81149541e-01,  8.32616701e-01,  3.97573231e-01,\n",
       "       -9.13310866e-03,  1.96279524e+00,  4.57855864e-01, -9.10397270e-01,\n",
       "        1.18007616e+00,  4.09941769e-01, -7.08637195e-01, -8.81404662e-01,\n",
       "        1.56767310e-01, -2.23173969e+00,  6.77000167e-01,  3.24379726e-01,\n",
       "       -1.65265622e+00, -4.69403057e-01,  7.91978838e-01, -5.66625441e-01,\n",
       "        2.62239465e-01, -1.05557307e+00,  1.90773218e+00,  1.95033428e-01,\n",
       "        7.44874954e-01,  3.89843027e-01, -1.45122687e+00, -7.39930412e-01,\n",
       "       -1.02438031e+00, -2.23690803e-01, -3.84910354e-01,  8.61540624e-01,\n",
       "       -1.54982844e+00,  4.99042367e-01, -4.63542442e-01,  6.43563121e-01,\n",
       "       -7.81934945e-01,  1.02101176e+00, -1.72453970e-01, -9.82232735e-01,\n",
       "        2.80031034e-01, -1.35025041e+00,  1.58698252e+00,  1.31346964e+00,\n",
       "       -1.28853357e+00, -6.08032058e-01, -8.37241487e-01,  6.20562006e-01,\n",
       "        1.96900866e+00,  5.58383478e-01,  1.23726520e+00, -5.76033566e-01,\n",
       "        3.98865830e-01,  1.00654395e+00, -7.69548566e-01, -1.16438515e-01,\n",
       "        3.46483478e-01, -8.65611698e-01, -2.17404791e+00,  1.47084756e+00,\n",
       "        8.65860761e-01, -4.14205694e-01, -1.49368178e+00, -1.76268464e-01,\n",
       "       -6.52276144e-01,  2.11130134e-01, -2.37804982e+00, -1.65803091e+00,\n",
       "        7.65216171e-01, -3.89318932e-01, -1.32339178e+00,  4.50805818e-01,\n",
       "       -1.14771549e+00,  6.27583391e-01,  1.22828113e+00, -3.29012472e-01,\n",
       "        1.77680442e+00, -1.05867547e+00, -3.73473976e-01, -1.52487413e-01,\n",
       "       -2.58422782e-02,  2.41681854e-01, -1.04729446e+00,  5.33656616e-01,\n",
       "        2.93822625e-01, -5.09874850e-01,  2.25128512e+00,  3.43449088e-01,\n",
       "        3.79794924e-01,  1.64974512e+00, -1.00860640e+00, -8.17877158e-01,\n",
       "        2.00248432e+00,  7.72450149e-03, -1.73549936e-01, -1.61154838e-01,\n",
       "        6.36431687e-01,  4.07235723e-01,  1.41639780e+00, -9.96502414e-01,\n",
       "       -3.68464403e-01, -1.41746884e+00,  2.61831191e-01,  4.10295322e-01,\n",
       "       -2.67199379e-01, -1.03865362e+00, -6.81666510e-01,  5.57452512e-01,\n",
       "        1.54718767e+00, -1.58689482e-01,  2.01891811e-01,  2.81881019e-02,\n",
       "       -8.07332864e-01, -2.17859760e+00, -2.82106393e-01, -4.95281862e-01,\n",
       "        1.30643465e-01,  3.11746012e-01, -1.09448657e+00,  2.46937195e+00,\n",
       "       -1.23528473e+00, -1.51158717e-01, -1.61726831e+00,  9.36551740e-01,\n",
       "        7.53985907e-01,  6.56840221e-01,  8.10378515e-01,  4.76346586e-01,\n",
       "        2.74346249e-01,  8.85490122e-01,  1.59202706e+00, -9.30356189e-01,\n",
       "        1.38065447e-01,  1.44086555e+00, -3.28685415e-01,  1.72411666e+00,\n",
       "        5.21398856e-01, -1.53729290e+00, -1.17111791e+00,  3.63306058e-01,\n",
       "        3.60828808e-01,  7.09795761e-01,  2.96349975e+00,  1.15272057e+00,\n",
       "        1.76194002e+00, -4.62240524e-01,  4.98840385e-01,  1.50622817e+00,\n",
       "       -2.00097284e-01,  1.19164177e+00,  8.35790562e-01,  1.84922171e+00,\n",
       "        1.28708239e+00,  5.54261690e-01, -1.00419390e+00, -4.81739251e-01,\n",
       "       -1.21459317e-01,  1.55014110e+00, -1.89068903e+00, -4.36203329e-01,\n",
       "       -7.08060672e-02,  4.85183245e-01,  5.34435921e-01, -1.39886103e+00,\n",
       "        1.04038011e-01, -9.61607658e-01, -4.35620435e-01,  1.41725279e+00,\n",
       "       -2.28573831e+00, -4.12483960e-01, -1.82654540e+00,  5.25770707e-01,\n",
       "       -9.79053793e-01, -9.08718385e-01, -1.06329032e+00, -5.92562991e-01,\n",
       "        3.12900402e-01, -1.69015129e+00,  8.02860945e-01,  2.48872077e-02,\n",
       "        1.45622593e+00,  1.32112942e-01,  1.56951290e+00, -5.61852376e-01,\n",
       "       -5.34944013e-01, -2.02653620e+00,  1.95364124e+00, -1.04619058e+00,\n",
       "        9.69510285e-01, -9.14974157e-01,  1.09594577e-01, -1.37044977e+00,\n",
       "        1.65275806e+00,  5.97130284e-01,  5.13025904e-01, -1.15487126e+00,\n",
       "        8.88202035e-01, -2.65136992e+00,  5.64887469e-01, -2.36513583e-01,\n",
       "       -6.35349674e-01,  5.49550989e-01, -1.10468907e+00,  7.75005899e-01,\n",
       "        1.23586372e+00,  6.79901349e-01,  1.55582001e+00, -1.14118613e+00,\n",
       "        3.27568799e-01, -9.54237834e-01, -1.01958340e+00,  1.77761728e+00,\n",
       "       -2.06873625e+00, -5.99309978e-01,  9.54803612e-01, -1.39340027e+00,\n",
       "       -9.57810464e-01,  1.23607282e+00,  5.59243295e-01,  1.71892516e+00,\n",
       "        2.53782932e-01,  8.53398592e-02,  1.31222716e+00, -6.58877035e-02,\n",
       "       -4.61894154e-01,  2.21300586e-01,  9.87317855e-01,  8.73171899e-01,\n",
       "        2.75532861e-01, -7.41644099e-01,  1.19011648e+00,  8.61174393e-01,\n",
       "        1.34063293e+00,  1.67611476e+00, -3.33835982e-01,  1.01069178e+00,\n",
       "       -4.72644991e-01,  2.35466059e+00,  4.29066574e-01, -7.75861387e-01,\n",
       "        1.46130087e-01, -1.90074487e+00, -1.03203733e+00,  5.92371964e-02,\n",
       "       -8.52194419e-01, -2.19165436e-02, -3.96657803e-01,  7.06277723e-01,\n",
       "        3.43204444e-01,  5.17544164e-01,  1.60208960e+00, -1.82369824e-01,\n",
       "       -9.66836184e-01, -1.30256495e-01, -9.33136022e-01,  4.70560615e-01,\n",
       "        1.16718795e+00,  1.10936486e+00,  8.00374823e-02, -1.02131373e+00,\n",
       "        5.46589355e-01, -1.17292986e+00, -6.71063641e-01, -1.27997085e+00,\n",
       "        2.23285161e+00, -9.01782650e-01, -1.17319170e+00, -2.83221059e-01,\n",
       "       -6.24755420e-01,  2.76108651e+00,  7.12323639e-01,  3.06645506e-01,\n",
       "        1.87531827e+00, -4.66298821e-01, -6.18450908e-01, -4.83313665e-01,\n",
       "       -5.10931666e-01, -1.40730811e+00, -1.90548168e-01, -5.48335268e-01,\n",
       "        1.35989422e+00, -5.62630517e-02,  2.85222520e-02,  1.97296990e+00,\n",
       "       -1.05509511e+00,  8.40718401e-01,  6.71835752e-01, -3.80067236e-01,\n",
       "       -2.38649224e-01,  4.80311307e-01,  2.18224288e+00,  1.03515671e+00,\n",
       "        1.78226330e-01, -3.59235069e-02, -1.22270573e+00,  8.54247076e-02,\n",
       "        1.01372965e+00,  1.10028614e-01, -8.02596744e-01, -2.25993725e-01,\n",
       "       -1.14952360e+00, -5.29732701e-01, -1.03054428e+00,  3.57723355e-02,\n",
       "       -5.00708096e-01,  5.78000842e-01,  1.27002631e+00,  1.21400633e+00,\n",
       "       -1.49964843e+00,  1.33856892e+00, -7.48707988e-01,  6.04587572e-01,\n",
       "        1.27925513e-01,  2.11420488e+00,  2.49859551e-01, -4.21475867e-01,\n",
       "        8.60486540e-01,  5.69939231e-01, -4.27081941e-02,  9.01478666e-01,\n",
       "        4.40247464e-01, -1.53740119e+00, -1.19316146e+00, -5.27689348e-01,\n",
       "       -1.06066481e+00,  5.10253165e-01,  3.44336252e-01,  1.29310879e+00,\n",
       "       -4.36202935e-01,  8.59081321e-01,  2.04740620e+00,  8.67701939e-02,\n",
       "       -8.35015447e-01, -1.47117011e-01,  3.63350703e-02,  4.58415194e-01,\n",
       "        4.41016803e-01,  1.05812434e+00,  9.43560822e-01,  1.46183413e-01,\n",
       "        4.14943784e-01, -2.92479428e-01,  9.57445043e-01, -4.46602388e-01,\n",
       "       -5.65094237e-01, -7.50033563e-01, -3.94212821e-01, -1.43728677e+00,\n",
       "       -1.13923175e+00, -3.33009167e-01, -9.03101470e-02,  6.79661064e-01,\n",
       "        4.03429132e-01, -1.30729637e+00, -5.49500205e-01, -6.28349524e-01,\n",
       "       -9.19984822e-02,  1.00974725e+00, -1.25591756e+00, -1.28966246e+00,\n",
       "       -1.16885645e+00,  1.28406010e+00, -5.90575425e-01,  1.59081676e-01,\n",
       "        4.06756588e-01,  2.00221543e+00, -8.67722645e-01,  3.50391811e-01,\n",
       "       -1.31722986e-01, -3.43353832e-01, -2.92054605e-01, -1.64126920e+00,\n",
       "        2.14656959e-01,  1.94191088e+00, -1.05392715e+00,  2.27024343e-01,\n",
       "       -7.83352990e-01, -2.92651335e-01,  5.66409530e-01,  5.11868445e-01,\n",
       "       -1.31544883e+00, -2.37280123e+00, -2.33915491e-01,  3.03066313e-02,\n",
       "       -7.07434420e-01,  1.79785591e+00, -8.68125877e-01,  8.54929016e-01,\n",
       "        8.51382186e-01, -4.57318141e-01, -9.70353678e-01, -7.45978423e-01,\n",
       "       -3.16110047e-01,  2.77158233e-01,  6.39918754e-02,  9.39969090e-01,\n",
       "        1.06775026e+00,  1.86467846e-01, -8.13517011e-01,  1.32896685e+00,\n",
       "       -9.21646976e-01,  6.26156366e-01, -5.06444451e-02,  3.50588313e-01,\n",
       "        1.33998486e+00, -4.75695980e-01, -7.57018378e-01, -2.30187661e-01,\n",
       "        2.64161834e-01, -1.28805585e+00,  5.75262139e-01, -5.82256741e-01,\n",
       "       -4.15190407e-01,  3.24963532e-01,  5.93890182e-01, -1.69061531e-01,\n",
       "        2.10771932e-01,  3.95612853e-01, -2.20470954e-01,  1.06129038e-01,\n",
       "       -3.57740821e-02,  2.33859393e-01,  1.91172311e-01, -3.80136079e-01,\n",
       "       -1.82139721e+00,  1.37306724e+00,  1.27882404e-01,  5.36599932e-01,\n",
       "        2.52616402e-01, -3.91405690e-01, -2.91856551e-01, -1.03633293e+00])"
      ]
     },
     "execution_count": 177,
     "metadata": {},
     "output_type": "execute_result"
    }
   ],
   "source": [
    "dados = scipy.stats.norm.rvs(m,s,1000)\n",
    "dados"
   ]
  },
  {
   "cell_type": "markdown",
   "metadata": {},
   "source": [
    "Na distribuição normal, os dados são distribuídos de forma muito particular, tal que o **desvio padrão** determina a proporção de dados em cada faixa:\n",
    "\n",
    "<img src=\"https://miro.medium.com/max/24000/1*IdGgdrY_n_9_YfkaCh-dag.png\" width=500>\n",
    "\n",
    "<img src=\"https://miro.medium.com/max/24000/1*IZ2II2HYKeoMrdLU5jW6Dw.png\" width=500>"
   ]
  },
  {
   "cell_type": "code",
   "execution_count": 182,
   "metadata": {},
   "outputs": [
    {
     "data": {
      "text/plain": [
       "0.68"
      ]
     },
     "execution_count": 182,
     "metadata": {},
     "output_type": "execute_result"
    }
   ],
   "source": [
    "dados[np.abs(dados) <= 1].shape[0]/1000"
   ]
  },
  {
   "cell_type": "code",
   "execution_count": 183,
   "metadata": {},
   "outputs": [
    {
     "data": {
      "text/plain": [
       "0.963"
      ]
     },
     "execution_count": 183,
     "metadata": {},
     "output_type": "execute_result"
    }
   ],
   "source": [
    "dados[np.abs(dados) <= 2].shape[0]/1000"
   ]
  },
  {
   "cell_type": "code",
   "execution_count": 184,
   "metadata": {},
   "outputs": [
    {
     "data": {
      "text/plain": [
       "0.999"
      ]
     },
     "execution_count": 184,
     "metadata": {},
     "output_type": "execute_result"
    }
   ],
   "source": [
    "dados[np.abs(dados) <= 3].shape[0]/1000"
   ]
  },
  {
   "cell_type": "code",
   "execution_count": 185,
   "metadata": {},
   "outputs": [
    {
     "name": "stderr",
     "output_type": "stream",
     "text": [
      "c:\\Users\\Matheus\\anaconda3\\Lib\\site-packages\\seaborn\\_oldcore.py:1119: FutureWarning: use_inf_as_na option is deprecated and will be removed in a future version. Convert inf values to NaN before operating instead.\n",
      "  with pd.option_context('mode.use_inf_as_na', True):\n"
     ]
    },
    {
     "data": {
      "text/plain": [
       "<Axes: ylabel='Count'>"
      ]
     },
     "execution_count": 185,
     "metadata": {},
     "output_type": "execute_result"
    },
    {
     "data": {
      "image/png": "[encoded data removed]",
      "text/plain": [
       "<Figure size 640x480 with 1 Axes>"
      ]
     },
     "metadata": {},
     "output_type": "display_data"
    }
   ],
   "source": [
    "sns.histplot(dados)"
   ]
  }
 ],
 "metadata": {
  "kernelspec": {
   "display_name": "base",
   "language": "python",
   "name": "python3"
  },
  "language_info": {
   "codemirror_mode": {
    "name": "ipython",
    "version": 3
   },
   "file_extension": ".py",
   "mimetype": "text/x-python",
   "name": "python",
   "nbconvert_exporter": "python",
   "pygments_lexer": "ipython3",
   "version": "3.11.4"
  }
 },
 "nbformat": 4,
 "nbformat_minor": 2
}
