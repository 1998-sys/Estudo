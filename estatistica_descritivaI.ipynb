{
 "cells": [
  {
   "cell_type": "markdown",
   "metadata": {},
   "source": [
    "## Aula 16 - Estatística pt1 - Definições\n",
    "\n",
    "- 1. Introdução\n",
    "- 2. Probabilidade\n",
    "- 3. Distribuições de probabilidade"
   ]
  },
  {
   "cell_type": "markdown",
   "metadata": {},
   "source": [
    "### Problema gerador: em um jogo da Copa do Mundo de futebol, a quantidade média de gols é aproximadamente 3. Assim sendo, qual é a probabilidade de em determinada partida não haver gols ? E a probabilidade de haver 4 gols ?"
   ]
  },
  {
   "cell_type": "code",
   "execution_count": 1,
   "metadata": {},
   "outputs": [],
   "source": [
    "dados = '''\n",
    "Uruguay 1930 FIFA World Cup -- 4.375\n",
    "\n",
    "Italy 1934 FIFA World Cup -- 4.12\n",
    "\n",
    "France 1938 FIFA World Cup -- 4.67\n",
    "\n",
    "Brazil 1950 FIFA World Cup -- 4\n",
    "\n",
    "Switzerland 1954 FIFA World Cup -- 5.38\n",
    "\n",
    "Sweden 1958 FIFA World Cup -- 3.6\n",
    "\n",
    "Chile 1962 FIFA World Cup -- 2.79\n",
    "\n",
    "England 1966 FIFA World Cup -- 2.79\n",
    "\n",
    "Mexico 1970 FIFA World Cup -- 2.97\n",
    "\n",
    "West Germany 1974 FIFA World Cup -- 2.55\n",
    "\n",
    "Argentina 1978 FIFA World Cup -- 2.68\n",
    "\n",
    "Spain 1982 FIFA World Cup -- 2.81\n",
    "\n",
    "Mexico 1986 FIFA World Cup -- 2.54\n",
    "\n",
    "Italy 1990 FIFA World Cup -- 2.21\n",
    "\n",
    "United States 1994 FIFA World Cup -- 2.71\n",
    "\n",
    "France 1998 FIFA World Cup -- 2.67\n",
    "\n",
    "South Korea and Japan 2002 FIFA World Cup -- 2.52\n",
    "\n",
    "Germany 2006 FIFA World Cup -- 2.30\n",
    "\n",
    "South Africa 2010 FIFA World Cup -- 2.27\n",
    "\n",
    "Brazil 2014 FIFA World Cup -- 2.67\n",
    "\n",
    "Russia 2018 FIFA World Cup -- 2.64\n",
    "\n",
    "Qatar 2022 FIFA World Cup --  2.69'''"
   ]
  },
  {
   "cell_type": "code",
   "execution_count": 2,
   "metadata": {},
   "outputs": [],
   "source": [
    "media_de_gols = [float(x.split(' -- ')[1])for x in dados.split('\\n\\n')]"
   ]
  },
  {
   "cell_type": "code",
   "execution_count": 3,
   "metadata": {},
   "outputs": [
    {
     "data": {
      "text/plain": [
       "3.0888636363636364"
      ]
     },
     "execution_count": 3,
     "metadata": {},
     "output_type": "execute_result"
    }
   ],
   "source": [
    "import numpy as np\n",
    "\n",
    "np.array(media_de_gols).mean()"
   ]
  },
  {
   "cell_type": "markdown",
   "metadata": {},
   "source": [
    "## Introdução\n",
    "\n",
    "A probabilidade e estatística podem ser divididas nos seguintes três pilares:\n",
    "\n",
    "- **Probabilidade**: É a teoria matemática utilizada para se estudar a incerteza oriundas de `fenômenos` de caráter aleatório\n",
    "\n",
    "- **Estatística Descritiva**: Etapa inicial da análise estatística, tendo como objetivo tirar informações prévias de modo informal e direto. A ideia é obter informações que `resumam` o conjunto de dados, a fim que estes possam ser `descritos`, e conclusões iniciais possam ser tiradas.\n",
    "\n",
    "- **Inferência Estatística**: É o conjunto de técnicas que possibilitam a extrapolação de conclusões tiradas a partir de um conjunto pequeno de dados (denominado `amostra`) para todo universo sob análise (denominado (`população`))\n",
    "\n",
    "## 1.1) Tipos de Variáveis\n",
    "\n",
    " - **Variável qualitativa** nominal\n",
    " > Valores que expressam **Atributos sem nenhum um tipo de ordem**. Ex.: sexo, estado cívil, pais de origem, ser fumante ou não, etc.\n",
    " \n",
    "-São representados por strings, ou possívelmente números inteiros\n",
    "\n",
    "- **Variável qualitativa ordinal**\n",
    "> Valores que expressam **atributos com algum tipo de ordem ou grau**. Ex: escolaridade, resposta deu um paciente (pior, igual, melhora), classe social(alta, média, baixa), classe do navio, etc.\n",
    "\n",
    "-São representados por strings, ou possívelmente números inteiros\n",
    "\n",
    "- **Variável quantitativa** discreta\n",
    "> Valores numéricos inteiros. Ex: idade em anos inteiros, número de banheiros em uma casa, número de filhos, etc.\n",
    "\n",
    "-São representados por ints\n",
    "\n",
    "- **Variável quantitativa** contínua\n",
    "> Valores numéricos racionais: Ex.: salário,preço, temperatura, gorjeta, etc.\n",
    "\n",
    "-São representados por floats"
   ]
  },
  {
   "cell_type": "code",
   "execution_count": 29,
   "metadata": {},
   "outputs": [],
   "source": [
    "import pandas as pd\n",
    "import numpy as np\n",
    "import matplotlib.pyplot as plt\n",
    "import seaborn as sns\n",
    "import re\n",
    "from Func_estatdesc import *"
   ]
  },
  {
   "cell_type": "markdown",
   "metadata": {},
   "source": [
    "## 2) Probabilidade\n",
    "Probabilidade é a área da matemática que estuda **eventos aleatórios**, cujos resultados são **probabilísticos** ou **estocásticos**\n",
    "\n",
    "Existem poucos sistemas na natureza que são de fato inerentemente aleatórios e não-determinísticas. No entanto, uma descrição determinística pode ser muito complicada, de modo que **se torna conveniente** tratar o sistema como um sistema estocástico.\n",
    "\n",
    "Ex.: lançamento de moeda, lançamento de dados, etc.\n",
    "\n",
    "O objetivo da estatística é similar: analisar dados ou criar modelos que **generalizem relações** que não podem ser determinadas diretamente uma vez que não temos acesso à população. Neste sentido, há muita probabilidade envolvida em estatística, e é por isso que vamos olhar para os principais conceitos de probabilidade."
   ]
  },
  {
   "cell_type": "markdown",
   "metadata": {},
   "source": [
    "## 2.1) **Variável Aleatória**\n",
    "\n",
    "Uma **variável aleatória** é uma variável cujo o valor depende de fatores **não-deterministicos**, isto é, **probabilisticos**.\n",
    "\n",
    "**Exemplo**: resultado do lançamento de um dado; o quanto de gorjeta será dado num restaurante, sobrevivência ao Titanic."
   ]
  },
  {
   "cell_type": "markdown",
   "metadata": {},
   "source": [
    "## 2.2) **Espaço Amostral**\n",
    "\n",
    "chamamos de **Espaço amostral** o conjunto de **todos os resultados possíveis de um certo fenômeno aleatório**, ou seja, **os valores possíveis que a variável aleatória de interesse pode assumir**. Representamos o espaço amostra pela letra grega $\\Omega$. \n",
    "\n",
    "Os subconjuntos de $\\Omega$ são denominados **eventos** e representados pelas letras latinas maiúsculas A, B, etc. \n",
    "\n",
    "**Exemplo**: o espaço amostral dos resultados do lançamento de um dado é:\n",
    "\n",
    "$$ \\Omega = \\{1, 2, 3, 4, 5, 6\\} $$\n",
    "\n",
    "Alguns eventos possíveis são:\n",
    "\n",
    "- Evento A = {3} : o resultado do lançamento do dado foi 3;\n",
    "- Evento B = {5} : o resultado do lançamento do dado foi 5.\n"
   ]
  },
  {
   "cell_type": "code",
   "execution_count": 8,
   "metadata": {},
   "outputs": [],
   "source": [
    "df_titanic = pd.read_csv('train.csv', na_values='?')"
   ]
  },
  {
   "cell_type": "code",
   "execution_count": 12,
   "metadata": {},
   "outputs": [
    {
     "data": {
      "text/html": [
       "<div>\n",
       "<style scoped>\n",
       "    .dataframe tbody tr th:only-of-type {\n",
       "        vertical-align: middle;\n",
       "    }\n",
       "\n",
       "    .dataframe tbody tr th {\n",
       "        vertical-align: top;\n",
       "    }\n",
       "\n",
       "    .dataframe thead th {\n",
       "        text-align: right;\n",
       "    }\n",
       "</style>\n",
       "<table border=\"1\" class=\"dataframe\">\n",
       "  <thead>\n",
       "    <tr style=\"text-align: right;\">\n",
       "      <th></th>\n",
       "      <th>PassengerId</th>\n",
       "      <th>Survived</th>\n",
       "      <th>Pclass</th>\n",
       "      <th>Name</th>\n",
       "      <th>Sex</th>\n",
       "      <th>Age</th>\n",
       "      <th>SibSp</th>\n",
       "      <th>Parch</th>\n",
       "      <th>Ticket</th>\n",
       "      <th>Fare</th>\n",
       "      <th>Cabin</th>\n",
       "      <th>Embarked</th>\n",
       "    </tr>\n",
       "  </thead>\n",
       "  <tbody>\n",
       "    <tr>\n",
       "      <th>0</th>\n",
       "      <td>1</td>\n",
       "      <td>0</td>\n",
       "      <td>3</td>\n",
       "      <td>Braund, Mr. Owen Harris</td>\n",
       "      <td>male</td>\n",
       "      <td>22.0</td>\n",
       "      <td>1</td>\n",
       "      <td>0</td>\n",
       "      <td>A/5 21171</td>\n",
       "      <td>7.2500</td>\n",
       "      <td>NaN</td>\n",
       "      <td>S</td>\n",
       "    </tr>\n",
       "    <tr>\n",
       "      <th>1</th>\n",
       "      <td>2</td>\n",
       "      <td>1</td>\n",
       "      <td>1</td>\n",
       "      <td>Cumings, Mrs. John Bradley (Florence Briggs Th...</td>\n",
       "      <td>female</td>\n",
       "      <td>38.0</td>\n",
       "      <td>1</td>\n",
       "      <td>0</td>\n",
       "      <td>PC 17599</td>\n",
       "      <td>71.2833</td>\n",
       "      <td>C85</td>\n",
       "      <td>C</td>\n",
       "    </tr>\n",
       "    <tr>\n",
       "      <th>2</th>\n",
       "      <td>3</td>\n",
       "      <td>1</td>\n",
       "      <td>3</td>\n",
       "      <td>Heikkinen, Miss. Laina</td>\n",
       "      <td>female</td>\n",
       "      <td>26.0</td>\n",
       "      <td>0</td>\n",
       "      <td>0</td>\n",
       "      <td>STON/O2. 3101282</td>\n",
       "      <td>7.9250</td>\n",
       "      <td>NaN</td>\n",
       "      <td>S</td>\n",
       "    </tr>\n",
       "    <tr>\n",
       "      <th>3</th>\n",
       "      <td>4</td>\n",
       "      <td>1</td>\n",
       "      <td>1</td>\n",
       "      <td>Futrelle, Mrs. Jacques Heath (Lily May Peel)</td>\n",
       "      <td>female</td>\n",
       "      <td>35.0</td>\n",
       "      <td>1</td>\n",
       "      <td>0</td>\n",
       "      <td>113803</td>\n",
       "      <td>53.1000</td>\n",
       "      <td>C123</td>\n",
       "      <td>S</td>\n",
       "    </tr>\n",
       "    <tr>\n",
       "      <th>4</th>\n",
       "      <td>5</td>\n",
       "      <td>0</td>\n",
       "      <td>3</td>\n",
       "      <td>Allen, Mr. William Henry</td>\n",
       "      <td>male</td>\n",
       "      <td>35.0</td>\n",
       "      <td>0</td>\n",
       "      <td>0</td>\n",
       "      <td>373450</td>\n",
       "      <td>8.0500</td>\n",
       "      <td>NaN</td>\n",
       "      <td>S</td>\n",
       "    </tr>\n",
       "  </tbody>\n",
       "</table>\n",
       "</div>"
      ],
      "text/plain": [
       "   PassengerId  Survived  Pclass  \\\n",
       "0            1         0       3   \n",
       "1            2         1       1   \n",
       "2            3         1       3   \n",
       "3            4         1       1   \n",
       "4            5         0       3   \n",
       "\n",
       "                                                Name     Sex   Age  SibSp  \\\n",
       "0                            Braund, Mr. Owen Harris    male  22.0      1   \n",
       "1  Cumings, Mrs. John Bradley (Florence Briggs Th...  female  38.0      1   \n",
       "2                             Heikkinen, Miss. Laina  female  26.0      0   \n",
       "3       Futrelle, Mrs. Jacques Heath (Lily May Peel)  female  35.0      1   \n",
       "4                           Allen, Mr. William Henry    male  35.0      0   \n",
       "\n",
       "   Parch            Ticket     Fare Cabin Embarked  \n",
       "0      0         A/5 21171   7.2500   NaN        S  \n",
       "1      0          PC 17599  71.2833   C85        C  \n",
       "2      0  STON/O2. 3101282   7.9250   NaN        S  \n",
       "3      0            113803  53.1000  C123        S  \n",
       "4      0            373450   8.0500   NaN        S  "
      ]
     },
     "execution_count": 12,
     "metadata": {},
     "output_type": "execute_result"
    }
   ],
   "source": [
    "df_titanic.head()"
   ]
  },
  {
   "cell_type": "code",
   "execution_count": 14,
   "metadata": {},
   "outputs": [
    {
     "name": "stdout",
     "output_type": "stream",
     "text": [
      "PassengerId      0\n",
      "Survived         0\n",
      "Pclass           0\n",
      "Name             0\n",
      "Sex              0\n",
      "Age            177\n",
      "SibSp            0\n",
      "Parch            0\n",
      "Ticket           0\n",
      "Fare             0\n",
      "Cabin          687\n",
      "Embarked         2\n",
      "dtype: int64\n"
     ]
    }
   ],
   "source": [
    "print(df_titanic.isna().sum())"
   ]
  },
  {
   "cell_type": "code",
   "execution_count": 41,
   "metadata": {},
   "outputs": [
    {
     "name": "stdout",
     "output_type": "stream",
     "text": [
      "<class 'pandas.core.frame.DataFrame'>\n",
      "RangeIndex: 891 entries, 0 to 890\n",
      "Data columns (total 12 columns):\n",
      " #   Column       Non-Null Count  Dtype  \n",
      "---  ------       --------------  -----  \n",
      " 0   PassengerId  891 non-null    int64  \n",
      " 1   Survived     891 non-null    int64  \n",
      " 2   Pclass       891 non-null    int64  \n",
      " 3   Name         891 non-null    object \n",
      " 4   Sex          891 non-null    object \n",
      " 5   Age          714 non-null    float64\n",
      " 6   SibSp        891 non-null    int64  \n",
      " 7   Parch        891 non-null    int64  \n",
      " 8   Ticket       891 non-null    object \n",
      " 9   Fare         891 non-null    float64\n",
      " 10  Cabin        204 non-null    object \n",
      " 11  Embarked     889 non-null    object \n",
      "dtypes: float64(2), int64(5), object(5)\n",
      "memory usage: 83.7+ KB\n"
     ]
    }
   ],
   "source": [
    "# Verificando o tipo da coluna \n",
    "df_titanic.info()\n"
   ]
  },
  {
   "cell_type": "code",
   "execution_count": 44,
   "metadata": {},
   "outputs": [
    {
     "data": {
      "text/plain": [
       "array([3, 1, 2], dtype=int64)"
      ]
     },
     "execution_count": 44,
     "metadata": {},
     "output_type": "execute_result"
    }
   ],
   "source": [
    "# Verificando valores unicos Variável PClass\n",
    "df_titanic['Pclass'].unique()"
   ]
  },
  {
   "cell_type": "code",
   "execution_count": 45,
   "metadata": {},
   "outputs": [
    {
     "data": {
      "text/plain": [
       "array([0, 1], dtype=int64)"
      ]
     },
     "execution_count": 45,
     "metadata": {},
     "output_type": "execute_result"
    }
   ],
   "source": [
    "# Verificando valores unicos Variável Survived\n",
    "df_titanic['Survived'].unique()"
   ]
  },
  {
   "cell_type": "code",
   "execution_count": 46,
   "metadata": {},
   "outputs": [
    {
     "data": {
      "text/plain": [
       "array(['S', 'C', 'Q', nan], dtype=object)"
      ]
     },
     "execution_count": 46,
     "metadata": {},
     "output_type": "execute_result"
    }
   ],
   "source": [
    "# Veiricando valores únicos variável embarked\n",
    "df_titanic['Embarked'].unique()"
   ]
  },
  {
   "cell_type": "code",
   "execution_count": 47,
   "metadata": {},
   "outputs": [
    {
     "data": {
      "text/plain": [
       "array([22.  , 38.  , 26.  , 35.  ,   nan, 54.  ,  2.  , 27.  , 14.  ,\n",
       "        4.  , 58.  , 20.  , 39.  , 55.  , 31.  , 34.  , 15.  , 28.  ,\n",
       "        8.  , 19.  , 40.  , 66.  , 42.  , 21.  , 18.  ,  3.  ,  7.  ,\n",
       "       49.  , 29.  , 65.  , 28.5 ,  5.  , 11.  , 45.  , 17.  , 32.  ,\n",
       "       16.  , 25.  ,  0.83, 30.  , 33.  , 23.  , 24.  , 46.  , 59.  ,\n",
       "       71.  , 37.  , 47.  , 14.5 , 70.5 , 32.5 , 12.  ,  9.  , 36.5 ,\n",
       "       51.  , 55.5 , 40.5 , 44.  ,  1.  , 61.  , 56.  , 50.  , 36.  ,\n",
       "       45.5 , 20.5 , 62.  , 41.  , 52.  , 63.  , 23.5 ,  0.92, 43.  ,\n",
       "       60.  , 10.  , 64.  , 13.  , 48.  ,  0.75, 53.  , 57.  , 80.  ,\n",
       "       70.  , 24.5 ,  6.  ,  0.67, 30.5 ,  0.42, 34.5 , 74.  ])"
      ]
     },
     "execution_count": 47,
     "metadata": {},
     "output_type": "execute_result"
    }
   ],
   "source": [
    "# Difinindo o espaço amostral para idade \n",
    "df_titanic['Age'].unique()\n"
   ]
  },
  {
   "cell_type": "code",
   "execution_count": 48,
   "metadata": {},
   "outputs": [],
   "source": [
    "# Tratando a coluna Ticket\n",
    "df_titanic['Ticket'] = df_titanic['Ticket'].apply(limpar_string)\n"
   ]
  },
  {
   "cell_type": "markdown",
   "metadata": {},
   "source": [
    "### 2.4) Definição de probabilidade\n",
    "\n",
    "Definimos uma função $P(.)$ denominada **probabilidade** que deve satisfazer as seguintes propriedades:\n",
    "    \n",
    "- $0\\leq P(A) \\leq 1$ \n",
    "\n",
    "- $ P(\\Omega)=\\sum_{A_i \\in \\Omega}P(A_{i})=1$"
   ]
  },
  {
   "cell_type": "markdown",
   "metadata": {},
   "source": [
    "**Exemplo**: considere o lançamento de uma moeda honesta:\n",
    "\n",
    "O espaço amostral é: $\\Omega = \\{ K, C \\}$.\n",
    "\n",
    "Pra uma moeda honesta, temos $P(K) = P(c) = \\frac{1}{2}$.\n",
    "\n",
    "De fato, note como $0 \\leq P(A) \\leq 1$. E, além disso,\n",
    "\n",
    "$$ P(\\Omega) = \\sum_{A_i \\in  \\{ K, C \\}}P(A_{i}) = P(K) + P(C) = \\frac{1}{2} + \\frac{1}{2} = 1 $$"
   ]
  },
  {
   "cell_type": "markdown",
   "metadata": {},
   "source": [
    "#### 2.4.1) Atribuindo probabilidades aos elementos do espaço amostral\n",
    "\n",
    "Há, essencialmente, duas formas de se **atribuir a probabilidade de cada evento**:"
   ]
  },
  {
   "cell_type": "markdown",
   "metadata": {},
   "source": [
    "> 1) Baseando-se em características teóricas acerca do experimento.\n",
    "\n",
    "**Exemplo**: ao lançarmos um dado, temos o espaço amostral $\\Omega=\\{1,2,3,4,5,6\\}$.\n",
    "\n",
    "Admitindo que o dado foi construído de forma homogênea e com medidas rigorosamente simétricas, não temos nenhuma razão para **privilegiar uma face em detrimento das demais**.\n",
    "\n",
    "Assim, consideramos: $p(1) = p(2) = p(3) = p(4) = p(5) = p(6) = \\frac{1}{6}$ "
   ]
  },
  {
   "cell_type": "markdown",
   "metadata": {},
   "source": [
    "> 2) Fazendo muitos experimentos.\n",
    "\n",
    "**Exemplo**: imagine que temos uma moeda não-honesta, que tende cair mais vezes coroa do que cara. Para descobrirmos qual é a probabilidade de cada um dos eventos ($\\Omega = \\{K, C\\}$), podemos lançar a moeda muitas vezes, e anotar os resultados:"
   ]
  },
  {
   "cell_type": "code",
   "execution_count": 50,
   "metadata": {},
   "outputs": [
    {
     "name": "stdout",
     "output_type": "stream",
     "text": [
      "5847 4153\n"
     ]
    }
   ],
   "source": [
    "n = 10000\n",
    "cara = 5847\n",
    "coroa = n - cara\n",
    "\n",
    "print(cara, coroa)"
   ]
  },
  {
   "cell_type": "code",
   "execution_count": 51,
   "metadata": {},
   "outputs": [
    {
     "name": "stdout",
     "output_type": "stream",
     "text": [
      "0.5847 0.4153\n"
     ]
    }
   ],
   "source": [
    "p_cara = cara / n\n",
    "p_coroa = coroa / n\n",
    "\n",
    "print(p_cara, p_coroa)"
   ]
  },
  {
   "cell_type": "code",
   "execution_count": 55,
   "metadata": {},
   "outputs": [
    {
     "data": {
      "text/plain": [
       "0    0.500148\n",
       "1    0.499852\n",
       "Name: proportion, dtype: float64"
      ]
     },
     "execution_count": 55,
     "metadata": {},
     "output_type": "execute_result"
    }
   ],
   "source": [
    "pd.Series(np.random.randint(0,2,10000000)).value_counts(normalize=True)"
   ]
  },
  {
   "cell_type": "markdown",
   "metadata": {},
   "source": [
    "No caso do Titanic, podemos atribuir probabilidades de acordo com as **observações coletadas**\n",
    "\n",
    "isso é facilmente calculado com o `value_counts()`"
   ]
  },
  {
   "cell_type": "code",
   "execution_count": 57,
   "metadata": {},
   "outputs": [
    {
     "data": {
      "text/plain": [
       "Pclass\n",
       "3    0.551066\n",
       "1    0.242424\n",
       "2    0.206510\n",
       "Name: proportion, dtype: float64"
      ]
     },
     "execution_count": 57,
     "metadata": {},
     "output_type": "execute_result"
    }
   ],
   "source": [
    "df_titanic['Pclass'].value_counts(normalize=True)"
   ]
  },
  {
   "cell_type": "markdown",
   "metadata": {},
   "source": [
    "#### 2.4.2) Eventos complementares\n",
    "\n",
    "A probabilidade de ocorrência de um evento pode ser definida diretamente pela probabilidade de **não ocorrência dele**: $ A^{c}$ é a não ocorrência de $A$, de modo que, naturalmente, $ P(A) = 1 - P(A^{c})$\n",
    "\n",
    "Ou seja, $P(A) + P(A^{c}) = 1$, o que faz sentido, segundo a definição de probabilidade!\n",
    "\n",
    "Quando temos um espaço amostral de apenas dois elementos (lançamento de uma moeda, ou a sobrevivência ao Titanic, por exemplo), isso fica ainda mais evidente:"
   ]
  },
  {
   "cell_type": "code",
   "execution_count": 58,
   "metadata": {},
   "outputs": [
    {
     "data": {
      "text/plain": [
       "Survived\n",
       "0    0.616162\n",
       "1    0.383838\n",
       "Name: proportion, dtype: float64"
      ]
     },
     "execution_count": 58,
     "metadata": {},
     "output_type": "execute_result"
    }
   ],
   "source": [
    "df_titanic['Survived'].value_counts(normalize=True)"
   ]
  },
  {
   "cell_type": "code",
   "execution_count": 59,
   "metadata": {},
   "outputs": [
    {
     "data": {
      "text/plain": [
       "0.3838383838383838"
      ]
     },
     "execution_count": 59,
     "metadata": {},
     "output_type": "execute_result"
    }
   ],
   "source": [
    "df_titanic['Survived'].mean()"
   ]
  },
  {
   "cell_type": "markdown",
   "metadata": {},
   "source": [
    "### 2.5) Probabilidade Condicional e Independência\n",
    "\n",
    "Utilizamos a notação $P(A|B)$ pra indicar a **probabilidade condicional de A dado B**, ou seja, probabilidade do evento $A$ ocorrer, dado que ocorreu o evento $B$.\n",
    "\n",
    "Se os eventos $A$ e $B$ forem **dependentes**, temos que a ocorrência de $B$ influencia a ocorrência de $A$, ou seja, $P(A|B) \\neq P(A)$.\n",
    "\n",
    "**Eventos independentes** são tais que $P(A|B) = P(A)$, ou seja, a ocorrência do evento $B$ não influencia a probabilidade de ocorrência do evento $A$."
   ]
  },
  {
   "cell_type": "markdown",
   "metadata": {},
   "source": [
    "> No caso do Titanic: a **classe** influencia na **sobrevivência**?"
   ]
  },
  {
   "cell_type": "code",
   "execution_count": 60,
   "metadata": {},
   "outputs": [
    {
     "data": {
      "text/plain": [
       "Survived\n",
       "0    0.616162\n",
       "1    0.383838\n",
       "Name: proportion, dtype: float64"
      ]
     },
     "execution_count": 60,
     "metadata": {},
     "output_type": "execute_result"
    }
   ],
   "source": [
    "df_titanic['Survived'].value_counts(normalize=True)"
   ]
  },
  {
   "cell_type": "code",
   "execution_count": 62,
   "metadata": {},
   "outputs": [
    {
     "data": {
      "text/plain": [
       "Survived\n",
       "1    0.62963\n",
       "0    0.37037\n",
       "Name: proportion, dtype: float64"
      ]
     },
     "execution_count": 62,
     "metadata": {},
     "output_type": "execute_result"
    }
   ],
   "source": [
    "df_titanic.query('Pclass == 1')['Survived'].value_counts(normalize=True)"
   ]
  },
  {
   "cell_type": "code",
   "execution_count": 64,
   "metadata": {},
   "outputs": [
    {
     "data": {
      "text/html": [
       "<div>\n",
       "<style scoped>\n",
       "    .dataframe tbody tr th:only-of-type {\n",
       "        vertical-align: middle;\n",
       "    }\n",
       "\n",
       "    .dataframe tbody tr th {\n",
       "        vertical-align: top;\n",
       "    }\n",
       "\n",
       "    .dataframe thead th {\n",
       "        text-align: right;\n",
       "    }\n",
       "</style>\n",
       "<table border=\"1\" class=\"dataframe\">\n",
       "  <thead>\n",
       "    <tr style=\"text-align: right;\">\n",
       "      <th></th>\n",
       "      <th>Survived</th>\n",
       "    </tr>\n",
       "    <tr>\n",
       "      <th>Pclass</th>\n",
       "      <th></th>\n",
       "    </tr>\n",
       "  </thead>\n",
       "  <tbody>\n",
       "    <tr>\n",
       "      <th>1</th>\n",
       "      <td>0.629630</td>\n",
       "    </tr>\n",
       "    <tr>\n",
       "      <th>2</th>\n",
       "      <td>0.472826</td>\n",
       "    </tr>\n",
       "    <tr>\n",
       "      <th>3</th>\n",
       "      <td>0.242363</td>\n",
       "    </tr>\n",
       "  </tbody>\n",
       "</table>\n",
       "</div>"
      ],
      "text/plain": [
       "        Survived\n",
       "Pclass          \n",
       "1       0.629630\n",
       "2       0.472826\n",
       "3       0.242363"
      ]
     },
     "execution_count": 64,
     "metadata": {},
     "output_type": "execute_result"
    }
   ],
   "source": [
    "df_titanic.groupby('Pclass')[['Survived']].mean()"
   ]
  }
 ],
 "metadata": {
  "kernelspec": {
   "display_name": "base",
   "language": "python",
   "name": "python3"
  },
  "language_info": {
   "codemirror_mode": {
    "name": "ipython",
    "version": 3
   },
   "file_extension": ".py",
   "mimetype": "text/x-python",
   "name": "python",
   "nbconvert_exporter": "python",
   "pygments_lexer": "ipython3",
   "version": "3.11.4"
  }
 },
 "nbformat": 4,
 "nbformat_minor": 2
}
