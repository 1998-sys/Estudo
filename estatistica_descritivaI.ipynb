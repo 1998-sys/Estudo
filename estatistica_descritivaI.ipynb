{
 "cells": [
  {
   "cell_type": "markdown",
   "metadata": {},
   "source": [
    "## Aula 16 - Estatística pt1 - Definições\n",
    "\n",
    "- 1. Introdução\n",
    "- 2. Probabilidade\n",
    "- 3. Distribuições de probabilidade"
   ]
  },
  {
   "cell_type": "markdown",
   "metadata": {},
   "source": [
    "### Problema gerador: em um jogo da Copa do Mundo de futebol, a quantidade média de gols é aproximadamente 3. Assim sendo, qual é a probabilidade de em determinada partida não haver gols ? E a probabilidade de haver 4 gols ?"
   ]
  },
  {
   "cell_type": "code",
   "execution_count": 1,
   "metadata": {},
   "outputs": [],
   "source": [
    "dados = '''\n",
    "Uruguay 1930 FIFA World Cup -- 4.375\n",
    "\n",
    "Italy 1934 FIFA World Cup -- 4.12\n",
    "\n",
    "France 1938 FIFA World Cup -- 4.67\n",
    "\n",
    "Brazil 1950 FIFA World Cup -- 4\n",
    "\n",
    "Switzerland 1954 FIFA World Cup -- 5.38\n",
    "\n",
    "Sweden 1958 FIFA World Cup -- 3.6\n",
    "\n",
    "Chile 1962 FIFA World Cup -- 2.79\n",
    "\n",
    "England 1966 FIFA World Cup -- 2.79\n",
    "\n",
    "Mexico 1970 FIFA World Cup -- 2.97\n",
    "\n",
    "West Germany 1974 FIFA World Cup -- 2.55\n",
    "\n",
    "Argentina 1978 FIFA World Cup -- 2.68\n",
    "\n",
    "Spain 1982 FIFA World Cup -- 2.81\n",
    "\n",
    "Mexico 1986 FIFA World Cup -- 2.54\n",
    "\n",
    "Italy 1990 FIFA World Cup -- 2.21\n",
    "\n",
    "United States 1994 FIFA World Cup -- 2.71\n",
    "\n",
    "France 1998 FIFA World Cup -- 2.67\n",
    "\n",
    "South Korea and Japan 2002 FIFA World Cup -- 2.52\n",
    "\n",
    "Germany 2006 FIFA World Cup -- 2.30\n",
    "\n",
    "South Africa 2010 FIFA World Cup -- 2.27\n",
    "\n",
    "Brazil 2014 FIFA World Cup -- 2.67\n",
    "\n",
    "Russia 2018 FIFA World Cup -- 2.64\n",
    "\n",
    "Qatar 2022 FIFA World Cup --  2.69'''"
   ]
  },
  {
   "cell_type": "code",
   "execution_count": 5,
   "metadata": {},
   "outputs": [],
   "source": [
    "media_de_gols = [float(x.split(' -- ')[1])for x in dados.split('\\n\\n')]"
   ]
  },
  {
   "cell_type": "code",
   "execution_count": 7,
   "metadata": {},
   "outputs": [
    {
     "data": {
      "text/plain": [
       "3.0888636363636364"
      ]
     },
     "execution_count": 7,
     "metadata": {},
     "output_type": "execute_result"
    }
   ],
   "source": [
    "import numpy as np\n",
    "\n",
    "np.array(media_de_gols).mean()"
   ]
  },
  {
   "cell_type": "markdown",
   "metadata": {},
   "source": [
    "## Introdução\n",
    "\n",
    "A probabilidade e estatística podem ser divididas nos seguintes três pilares:\n",
    "\n",
    "- **Probabilidade**: É a teoria matemática utilizada para se estudar a incerteza oriundas de `fenômenos` de caráter aleatório\n",
    "\n",
    "- **Estatística Descritiva**: Etapa inicial da análise estatística, tendo como objetivo tirar informações prévias de modo informal e direto. A ideia é obter informações que `resumam` o conjunto de dados, a fim que estes possam ser `descritos`, e conclusões iniciais possam ser tiradas.\n",
    "\n",
    "- **Inferência Estatística**: É o conjunto de técnicas que possibilitam a extrapolação de conclusões tiradas a partir de um conjunto pequeno de dados (denominado `amostra`) para todo universo sob análise (denominado (`população`))"
   ]
  }
 ],
 "metadata": {
  "kernelspec": {
   "display_name": "base",
   "language": "python",
   "name": "python3"
  },
  "language_info": {
   "codemirror_mode": {
    "name": "ipython",
    "version": 3
   },
   "file_extension": ".py",
   "mimetype": "text/x-python",
   "name": "python",
   "nbconvert_exporter": "python",
   "pygments_lexer": "ipython3",
   "version": "3.11.4"
  }
 },
 "nbformat": 4,
 "nbformat_minor": 2
}
