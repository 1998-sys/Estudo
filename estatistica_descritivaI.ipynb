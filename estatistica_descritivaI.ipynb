{
 "cells": [
  {
   "cell_type": "markdown",
   "metadata": {},
   "source": [
    "## Aula 16 - Estatística pt1 - Definições\n",
    "\n",
    "- 1. Introdução\n",
    "- 2. Probabilidade\n",
    "- 3. Distribuições de probabilidade"
   ]
  },
  {
   "cell_type": "markdown",
   "metadata": {},
   "source": [
    "### Problema gerador: em um jogo da Copa do Mundo de futebol, a quantidade média de gols é aproximadamente 3. Assim sendo, qual é a probabilidade de em determinada partida não haver gols ? E a probabilidade de haver 4 gols ?"
   ]
  },
  {
   "cell_type": "code",
   "execution_count": 1,
   "metadata": {},
   "outputs": [],
   "source": [
    "dados = '''\n",
    "Uruguay 1930 FIFA World Cup -- 4.375\n",
    "\n",
    "Italy 1934 FIFA World Cup -- 4.12\n",
    "\n",
    "France 1938 FIFA World Cup -- 4.67\n",
    "\n",
    "Brazil 1950 FIFA World Cup -- 4\n",
    "\n",
    "Switzerland 1954 FIFA World Cup -- 5.38\n",
    "\n",
    "Sweden 1958 FIFA World Cup -- 3.6\n",
    "\n",
    "Chile 1962 FIFA World Cup -- 2.79\n",
    "\n",
    "England 1966 FIFA World Cup -- 2.79\n",
    "\n",
    "Mexico 1970 FIFA World Cup -- 2.97\n",
    "\n",
    "West Germany 1974 FIFA World Cup -- 2.55\n",
    "\n",
    "Argentina 1978 FIFA World Cup -- 2.68\n",
    "\n",
    "Spain 1982 FIFA World Cup -- 2.81\n",
    "\n",
    "Mexico 1986 FIFA World Cup -- 2.54\n",
    "\n",
    "Italy 1990 FIFA World Cup -- 2.21\n",
    "\n",
    "United States 1994 FIFA World Cup -- 2.71\n",
    "\n",
    "France 1998 FIFA World Cup -- 2.67\n",
    "\n",
    "South Korea and Japan 2002 FIFA World Cup -- 2.52\n",
    "\n",
    "Germany 2006 FIFA World Cup -- 2.30\n",
    "\n",
    "South Africa 2010 FIFA World Cup -- 2.27\n",
    "\n",
    "Brazil 2014 FIFA World Cup -- 2.67\n",
    "\n",
    "Russia 2018 FIFA World Cup -- 2.64\n",
    "\n",
    "Qatar 2022 FIFA World Cup --  2.69'''"
   ]
  },
  {
   "cell_type": "code",
   "execution_count": 2,
   "metadata": {},
   "outputs": [],
   "source": [
    "media_de_gols = [float(x.split(' -- ')[1])for x in dados.split('\\n\\n')]"
   ]
  },
  {
   "cell_type": "code",
   "execution_count": 3,
   "metadata": {},
   "outputs": [
    {
     "data": {
      "text/plain": [
       "3.0888636363636364"
      ]
     },
     "execution_count": 3,
     "metadata": {},
     "output_type": "execute_result"
    }
   ],
   "source": [
    "import numpy as np\n",
    "\n",
    "np.array(media_de_gols).mean()"
   ]
  },
  {
   "cell_type": "markdown",
   "metadata": {},
   "source": [
    "## Introdução\n",
    "\n",
    "A probabilidade e estatística podem ser divididas nos seguintes três pilares:\n",
    "\n",
    "- **Probabilidade**: É a teoria matemática utilizada para se estudar a incerteza oriundas de `fenômenos` de caráter aleatório\n",
    "\n",
    "- **Estatística Descritiva**: Etapa inicial da análise estatística, tendo como objetivo tirar informações prévias de modo informal e direto. A ideia é obter informações que `resumam` o conjunto de dados, a fim que estes possam ser `descritos`, e conclusões iniciais possam ser tiradas.\n",
    "\n",
    "- **Inferência Estatística**: É o conjunto de técnicas que possibilitam a extrapolação de conclusões tiradas a partir de um conjunto pequeno de dados (denominado `amostra`) para todo universo sob análise (denominado (`população`))\n",
    "\n",
    "## 1.1) Tipos de Variáveis\n",
    "\n",
    " - **Variável qualitativa** nominal\n",
    " > Valores que expressam **Atributos sem nenhum um tipo de ordem**. Ex.: sexo, estado cívil, pais de origem, ser fumante ou não, etc.\n",
    " \n",
    "-São representados por strings, ou possívelmente números inteiros\n",
    "\n",
    "- **Variável qualitativa ordinal**\n",
    "> Valores que expressam **atributos com algum tipo de ordem ou grau**. Ex: escolaridade, resposta deu um paciente (pior, igual, melhora), classe social(alta, média, baixa), classe do navio, etc.\n",
    "\n",
    "-São representados por strings, ou possívelmente números inteiros\n",
    "\n",
    "- **Variável quantitativa** discreta\n",
    "> Valores numéricos inteiros. Ex: idade em anos inteiros, número de banheiros em uma casa, número de filhos, etc.\n",
    "\n",
    "-São representados por ints\n",
    "\n",
    "- **Variável quantitativa** contínua\n",
    "> Valores numéricos racionais: Ex.: salário,preço, temperatura, gorjeta, etc.\n",
    "\n",
    "-São representados por floats"
   ]
  },
  {
   "cell_type": "code",
   "execution_count": 29,
   "metadata": {},
   "outputs": [],
   "source": [
    "import pandas as pd\n",
    "import numpy as np\n",
    "import matplotlib.pyplot as plt\n",
    "import seaborn as sns\n",
    "import re\n",
    "from Func_estatdesc import *"
   ]
  },
  {
   "cell_type": "markdown",
   "metadata": {},
   "source": [
    "## 2) Probabilidade\n",
    "Probabilidade é a área da matemática que estuda **eventos aleatórios**, cujos resultados são **probabilísticos** ou **estocásticos**\n",
    "\n",
    "Existem poucos sistemas na natureza que são de fato inerentemente aleatórios e não-determinísticas. No entanto, uma descrição determinística pode ser muito complicada, de modo que **se torna conveniente** tratar o sistema como um sistema estocástico.\n",
    "\n",
    "Ex.: lançamento de moeda, lançamento de dados, etc.\n",
    "\n",
    "O objetivo da estatística é similar: analisar dados ou criar modelos que **generalizem relações** que não podem ser determinadas diretamente uma vez que não temos acesso à população. Neste sentido, há muita probabilidade envolvida em estatística, e é por isso que vamos olhar para os principais conceitos de probabilidade."
   ]
  },
  {
   "cell_type": "markdown",
   "metadata": {},
   "source": [
    "## 2.1) **Variável Aleatória**\n",
    "\n",
    "Uma **variável aleatória** é uma variável cujo o valor depende de fatores **não-deterministicos**, isto é, **probabilisticos**.\n",
    "\n",
    "**Exemplo**: resultado do lançamento de um dado; o quanto de gorjeta será dado num restaurante, sobrevivência ao Titanic."
   ]
  },
  {
   "cell_type": "markdown",
   "metadata": {},
   "source": [
    "## 2.2) **Espaço Amostral**\n",
    "\n",
    "chamamos de **Espaço amostral** o conjunto de **todos os resultados possíveis de um certo fenômeno aleatório**, ou seja, **os valores possíveis que a variável aleatória de interesse pode assumir**. Representamos o espaço amostra pela letra grega $\\Omega$. \n",
    "\n",
    "Os subconjuntos de $\\Omega$ são denominados **eventos** e representados pelas letras latinas maiúsculas A, B, etc. \n",
    "\n",
    "**Exemplo**: o espaço amostral dos resultados do lançamento de um dado é:\n",
    "\n",
    "$$ \\Omega = \\{1, 2, 3, 4, 5, 6\\} $$\n",
    "\n",
    "Alguns eventos possíveis são:\n",
    "\n",
    "- Evento A = {3} : o resultado do lançamento do dado foi 3;\n",
    "- Evento B = {5} : o resultado do lançamento do dado foi 5.\n"
   ]
  },
  {
   "cell_type": "code",
   "execution_count": 8,
   "metadata": {},
   "outputs": [],
   "source": [
    "df_titanic = pd.read_csv('train.csv', na_values='?')"
   ]
  },
  {
   "cell_type": "code",
   "execution_count": 12,
   "metadata": {},
   "outputs": [
    {
     "data": {
      "text/html": [
       "<div>\n",
       "<style scoped>\n",
       "    .dataframe tbody tr th:only-of-type {\n",
       "        vertical-align: middle;\n",
       "    }\n",
       "\n",
       "    .dataframe tbody tr th {\n",
       "        vertical-align: top;\n",
       "    }\n",
       "\n",
       "    .dataframe thead th {\n",
       "        text-align: right;\n",
       "    }\n",
       "</style>\n",
       "<table border=\"1\" class=\"dataframe\">\n",
       "  <thead>\n",
       "    <tr style=\"text-align: right;\">\n",
       "      <th></th>\n",
       "      <th>PassengerId</th>\n",
       "      <th>Survived</th>\n",
       "      <th>Pclass</th>\n",
       "      <th>Name</th>\n",
       "      <th>Sex</th>\n",
       "      <th>Age</th>\n",
       "      <th>SibSp</th>\n",
       "      <th>Parch</th>\n",
       "      <th>Ticket</th>\n",
       "      <th>Fare</th>\n",
       "      <th>Cabin</th>\n",
       "      <th>Embarked</th>\n",
       "    </tr>\n",
       "  </thead>\n",
       "  <tbody>\n",
       "    <tr>\n",
       "      <th>0</th>\n",
       "      <td>1</td>\n",
       "      <td>0</td>\n",
       "      <td>3</td>\n",
       "      <td>Braund, Mr. Owen Harris</td>\n",
       "      <td>male</td>\n",
       "      <td>22.0</td>\n",
       "      <td>1</td>\n",
       "      <td>0</td>\n",
       "      <td>A/5 21171</td>\n",
       "      <td>7.2500</td>\n",
       "      <td>NaN</td>\n",
       "      <td>S</td>\n",
       "    </tr>\n",
       "    <tr>\n",
       "      <th>1</th>\n",
       "      <td>2</td>\n",
       "      <td>1</td>\n",
       "      <td>1</td>\n",
       "      <td>Cumings, Mrs. John Bradley (Florence Briggs Th...</td>\n",
       "      <td>female</td>\n",
       "      <td>38.0</td>\n",
       "      <td>1</td>\n",
       "      <td>0</td>\n",
       "      <td>PC 17599</td>\n",
       "      <td>71.2833</td>\n",
       "      <td>C85</td>\n",
       "      <td>C</td>\n",
       "    </tr>\n",
       "    <tr>\n",
       "      <th>2</th>\n",
       "      <td>3</td>\n",
       "      <td>1</td>\n",
       "      <td>3</td>\n",
       "      <td>Heikkinen, Miss. Laina</td>\n",
       "      <td>female</td>\n",
       "      <td>26.0</td>\n",
       "      <td>0</td>\n",
       "      <td>0</td>\n",
       "      <td>STON/O2. 3101282</td>\n",
       "      <td>7.9250</td>\n",
       "      <td>NaN</td>\n",
       "      <td>S</td>\n",
       "    </tr>\n",
       "    <tr>\n",
       "      <th>3</th>\n",
       "      <td>4</td>\n",
       "      <td>1</td>\n",
       "      <td>1</td>\n",
       "      <td>Futrelle, Mrs. Jacques Heath (Lily May Peel)</td>\n",
       "      <td>female</td>\n",
       "      <td>35.0</td>\n",
       "      <td>1</td>\n",
       "      <td>0</td>\n",
       "      <td>113803</td>\n",
       "      <td>53.1000</td>\n",
       "      <td>C123</td>\n",
       "      <td>S</td>\n",
       "    </tr>\n",
       "    <tr>\n",
       "      <th>4</th>\n",
       "      <td>5</td>\n",
       "      <td>0</td>\n",
       "      <td>3</td>\n",
       "      <td>Allen, Mr. William Henry</td>\n",
       "      <td>male</td>\n",
       "      <td>35.0</td>\n",
       "      <td>0</td>\n",
       "      <td>0</td>\n",
       "      <td>373450</td>\n",
       "      <td>8.0500</td>\n",
       "      <td>NaN</td>\n",
       "      <td>S</td>\n",
       "    </tr>\n",
       "  </tbody>\n",
       "</table>\n",
       "</div>"
      ],
      "text/plain": [
       "   PassengerId  Survived  Pclass  \\\n",
       "0            1         0       3   \n",
       "1            2         1       1   \n",
       "2            3         1       3   \n",
       "3            4         1       1   \n",
       "4            5         0       3   \n",
       "\n",
       "                                                Name     Sex   Age  SibSp  \\\n",
       "0                            Braund, Mr. Owen Harris    male  22.0      1   \n",
       "1  Cumings, Mrs. John Bradley (Florence Briggs Th...  female  38.0      1   \n",
       "2                             Heikkinen, Miss. Laina  female  26.0      0   \n",
       "3       Futrelle, Mrs. Jacques Heath (Lily May Peel)  female  35.0      1   \n",
       "4                           Allen, Mr. William Henry    male  35.0      0   \n",
       "\n",
       "   Parch            Ticket     Fare Cabin Embarked  \n",
       "0      0         A/5 21171   7.2500   NaN        S  \n",
       "1      0          PC 17599  71.2833   C85        C  \n",
       "2      0  STON/O2. 3101282   7.9250   NaN        S  \n",
       "3      0            113803  53.1000  C123        S  \n",
       "4      0            373450   8.0500   NaN        S  "
      ]
     },
     "execution_count": 12,
     "metadata": {},
     "output_type": "execute_result"
    }
   ],
   "source": [
    "df_titanic.head()"
   ]
  },
  {
   "cell_type": "code",
   "execution_count": 14,
   "metadata": {},
   "outputs": [
    {
     "name": "stdout",
     "output_type": "stream",
     "text": [
      "PassengerId      0\n",
      "Survived         0\n",
      "Pclass           0\n",
      "Name             0\n",
      "Sex              0\n",
      "Age            177\n",
      "SibSp            0\n",
      "Parch            0\n",
      "Ticket           0\n",
      "Fare             0\n",
      "Cabin          687\n",
      "Embarked         2\n",
      "dtype: int64\n"
     ]
    }
   ],
   "source": [
    "print(df_titanic.isna().sum())"
   ]
  },
  {
   "cell_type": "code",
   "execution_count": 41,
   "metadata": {},
   "outputs": [
    {
     "name": "stdout",
     "output_type": "stream",
     "text": [
      "<class 'pandas.core.frame.DataFrame'>\n",
      "RangeIndex: 891 entries, 0 to 890\n",
      "Data columns (total 12 columns):\n",
      " #   Column       Non-Null Count  Dtype  \n",
      "---  ------       --------------  -----  \n",
      " 0   PassengerId  891 non-null    int64  \n",
      " 1   Survived     891 non-null    int64  \n",
      " 2   Pclass       891 non-null    int64  \n",
      " 3   Name         891 non-null    object \n",
      " 4   Sex          891 non-null    object \n",
      " 5   Age          714 non-null    float64\n",
      " 6   SibSp        891 non-null    int64  \n",
      " 7   Parch        891 non-null    int64  \n",
      " 8   Ticket       891 non-null    object \n",
      " 9   Fare         891 non-null    float64\n",
      " 10  Cabin        204 non-null    object \n",
      " 11  Embarked     889 non-null    object \n",
      "dtypes: float64(2), int64(5), object(5)\n",
      "memory usage: 83.7+ KB\n"
     ]
    }
   ],
   "source": [
    "# Verificando o tipo da coluna \n",
    "df_titanic.info()\n"
   ]
  },
  {
   "cell_type": "code",
   "execution_count": 44,
   "metadata": {},
   "outputs": [
    {
     "data": {
      "text/plain": [
       "array([3, 1, 2], dtype=int64)"
      ]
     },
     "execution_count": 44,
     "metadata": {},
     "output_type": "execute_result"
    }
   ],
   "source": [
    "# Verificando valores unicos Variável PClass\n",
    "df_titanic['Pclass'].unique()"
   ]
  },
  {
   "cell_type": "code",
   "execution_count": 45,
   "metadata": {},
   "outputs": [
    {
     "data": {
      "text/plain": [
       "array([0, 1], dtype=int64)"
      ]
     },
     "execution_count": 45,
     "metadata": {},
     "output_type": "execute_result"
    }
   ],
   "source": [
    "# Verificando valores unicos Variável Survived\n",
    "df_titanic['Survived'].unique()"
   ]
  },
  {
   "cell_type": "code",
   "execution_count": 46,
   "metadata": {},
   "outputs": [
    {
     "data": {
      "text/plain": [
       "array(['S', 'C', 'Q', nan], dtype=object)"
      ]
     },
     "execution_count": 46,
     "metadata": {},
     "output_type": "execute_result"
    }
   ],
   "source": [
    "# Veiricando valores únicos variável embarked\n",
    "df_titanic['Embarked'].unique()"
   ]
  },
  {
   "cell_type": "code",
   "execution_count": 47,
   "metadata": {},
   "outputs": [
    {
     "data": {
      "text/plain": [
       "array([22.  , 38.  , 26.  , 35.  ,   nan, 54.  ,  2.  , 27.  , 14.  ,\n",
       "        4.  , 58.  , 20.  , 39.  , 55.  , 31.  , 34.  , 15.  , 28.  ,\n",
       "        8.  , 19.  , 40.  , 66.  , 42.  , 21.  , 18.  ,  3.  ,  7.  ,\n",
       "       49.  , 29.  , 65.  , 28.5 ,  5.  , 11.  , 45.  , 17.  , 32.  ,\n",
       "       16.  , 25.  ,  0.83, 30.  , 33.  , 23.  , 24.  , 46.  , 59.  ,\n",
       "       71.  , 37.  , 47.  , 14.5 , 70.5 , 32.5 , 12.  ,  9.  , 36.5 ,\n",
       "       51.  , 55.5 , 40.5 , 44.  ,  1.  , 61.  , 56.  , 50.  , 36.  ,\n",
       "       45.5 , 20.5 , 62.  , 41.  , 52.  , 63.  , 23.5 ,  0.92, 43.  ,\n",
       "       60.  , 10.  , 64.  , 13.  , 48.  ,  0.75, 53.  , 57.  , 80.  ,\n",
       "       70.  , 24.5 ,  6.  ,  0.67, 30.5 ,  0.42, 34.5 , 74.  ])"
      ]
     },
     "execution_count": 47,
     "metadata": {},
     "output_type": "execute_result"
    }
   ],
   "source": [
    "# Difinindo o espaço amostral para idade \n",
    "df_titanic['Age'].unique()\n"
   ]
  },
  {
   "cell_type": "code",
   "execution_count": 48,
   "metadata": {},
   "outputs": [],
   "source": [
    "# Tratando a coluna Ticket\n",
    "df_titanic['Ticket'] = df_titanic['Ticket'].apply(limpar_string)\n"
   ]
  },
  {
   "cell_type": "markdown",
   "metadata": {},
   "source": [
    "### 2.4) Definição de probabilidade\n",
    "\n",
    "Definimos uma função $P(.)$ denominada **probabilidade** que deve satisfazer as seguintes propriedades:\n",
    "    \n",
    "- $0\\leq P(A) \\leq 1$ \n",
    "\n",
    "- $ P(\\Omega)=\\sum_{A_i \\in \\Omega}P(A_{i})=1$"
   ]
  },
  {
   "cell_type": "markdown",
   "metadata": {},
   "source": [
    "**Exemplo**: considere o lançamento de uma moeda honesta:\n",
    "\n",
    "O espaço amostral é: $\\Omega = \\{ K, C \\}$.\n",
    "\n",
    "Pra uma moeda honesta, temos $P(K) = P(c) = \\frac{1}{2}$.\n",
    "\n",
    "De fato, note como $0 \\leq P(A) \\leq 1$. E, além disso,\n",
    "\n",
    "$$ P(\\Omega) = \\sum_{A_i \\in  \\{ K, C \\}}P(A_{i}) = P(K) + P(C) = \\frac{1}{2} + \\frac{1}{2} = 1 $$"
   ]
  },
  {
   "cell_type": "markdown",
   "metadata": {},
   "source": [
    "#### 2.4.1) Atribuindo probabilidades aos elementos do espaço amostral\n",
    "\n",
    "Há, essencialmente, duas formas de se **atribuir a probabilidade de cada evento**:"
   ]
  },
  {
   "cell_type": "markdown",
   "metadata": {},
   "source": [
    "> 1) Baseando-se em características teóricas acerca do experimento.\n",
    "\n",
    "**Exemplo**: ao lançarmos um dado, temos o espaço amostral $\\Omega=\\{1,2,3,4,5,6\\}$.\n",
    "\n",
    "Admitindo que o dado foi construído de forma homogênea e com medidas rigorosamente simétricas, não temos nenhuma razão para **privilegiar uma face em detrimento das demais**.\n",
    "\n",
    "Assim, consideramos: $p(1) = p(2) = p(3) = p(4) = p(5) = p(6) = \\frac{1}{6}$ "
   ]
  },
  {
   "cell_type": "markdown",
   "metadata": {},
   "source": [
    "> 2) Fazendo muitos experimentos.\n",
    "\n",
    "**Exemplo**: imagine que temos uma moeda não-honesta, que tende cair mais vezes coroa do que cara. Para descobrirmos qual é a probabilidade de cada um dos eventos ($\\Omega = \\{K, C\\}$), podemos lançar a moeda muitas vezes, e anotar os resultados:"
   ]
  },
  {
   "cell_type": "code",
   "execution_count": 50,
   "metadata": {},
   "outputs": [
    {
     "name": "stdout",
     "output_type": "stream",
     "text": [
      "5847 4153\n"
     ]
    }
   ],
   "source": [
    "n = 10000\n",
    "cara = 5847\n",
    "coroa = n - cara\n",
    "\n",
    "print(cara, coroa)"
   ]
  },
  {
   "cell_type": "code",
   "execution_count": 51,
   "metadata": {},
   "outputs": [
    {
     "name": "stdout",
     "output_type": "stream",
     "text": [
      "0.5847 0.4153\n"
     ]
    }
   ],
   "source": [
    "p_cara = cara / n\n",
    "p_coroa = coroa / n\n",
    "\n",
    "print(p_cara, p_coroa)"
   ]
  },
  {
   "cell_type": "code",
   "execution_count": 55,
   "metadata": {},
   "outputs": [
    {
     "data": {
      "text/plain": [
       "0    0.500148\n",
       "1    0.499852\n",
       "Name: proportion, dtype: float64"
      ]
     },
     "execution_count": 55,
     "metadata": {},
     "output_type": "execute_result"
    }
   ],
   "source": [
    "pd.Series(np.random.randint(0,2,10000000)).value_counts(normalize=True)"
   ]
  },
  {
   "cell_type": "markdown",
   "metadata": {},
   "source": [
    "No caso do Titanic, podemos atribuir probabilidades de acordo com as **observações coletadas**\n",
    "\n",
    "isso é facilmente calculado com o `value_counts()`"
   ]
  },
  {
   "cell_type": "code",
   "execution_count": 57,
   "metadata": {},
   "outputs": [
    {
     "data": {
      "text/plain": [
       "Pclass\n",
       "3    0.551066\n",
       "1    0.242424\n",
       "2    0.206510\n",
       "Name: proportion, dtype: float64"
      ]
     },
     "execution_count": 57,
     "metadata": {},
     "output_type": "execute_result"
    }
   ],
   "source": [
    "df_titanic['Pclass'].value_counts(normalize=True)"
   ]
  },
  {
   "cell_type": "markdown",
   "metadata": {},
   "source": [
    "#### 2.4.2) Eventos complementares\n",
    "\n",
    "A probabilidade de ocorrência de um evento pode ser definida diretamente pela probabilidade de **não ocorrência dele**: $ A^{c}$ é a não ocorrência de $A$, de modo que, naturalmente, $ P(A) = 1 - P(A^{c})$\n",
    "\n",
    "Ou seja, $P(A) + P(A^{c}) = 1$, o que faz sentido, segundo a definição de probabilidade!\n",
    "\n",
    "Quando temos um espaço amostral de apenas dois elementos (lançamento de uma moeda, ou a sobrevivência ao Titanic, por exemplo), isso fica ainda mais evidente:"
   ]
  },
  {
   "cell_type": "code",
   "execution_count": 58,
   "metadata": {},
   "outputs": [
    {
     "data": {
      "text/plain": [
       "Survived\n",
       "0    0.616162\n",
       "1    0.383838\n",
       "Name: proportion, dtype: float64"
      ]
     },
     "execution_count": 58,
     "metadata": {},
     "output_type": "execute_result"
    }
   ],
   "source": [
    "df_titanic['Survived'].value_counts(normalize=True)"
   ]
  },
  {
   "cell_type": "code",
   "execution_count": 59,
   "metadata": {},
   "outputs": [
    {
     "data": {
      "text/plain": [
       "0.3838383838383838"
      ]
     },
     "execution_count": 59,
     "metadata": {},
     "output_type": "execute_result"
    }
   ],
   "source": [
    "df_titanic['Survived'].mean()"
   ]
  },
  {
   "cell_type": "markdown",
   "metadata": {},
   "source": [
    "### 2.5) Probabilidade Condicional e Independência\n",
    "\n",
    "Utilizamos a notação $P(A|B)$ pra indicar a **probabilidade condicional de A dado B**, ou seja, probabilidade do evento $A$ ocorrer, dado que ocorreu o evento $B$.\n",
    "\n",
    "Se os eventos $A$ e $B$ forem **dependentes**, temos que a ocorrência de $B$ influencia a ocorrência de $A$, ou seja, $P(A|B) \\neq P(A)$.\n",
    "\n",
    "**Eventos independentes** são tais que $P(A|B) = P(A)$, ou seja, a ocorrência do evento $B$ não influencia a probabilidade de ocorrência do evento $A$."
   ]
  },
  {
   "cell_type": "markdown",
   "metadata": {},
   "source": [
    "> No caso do Titanic: a **classe** influencia na **sobrevivência**?"
   ]
  },
  {
   "cell_type": "code",
   "execution_count": 60,
   "metadata": {},
   "outputs": [
    {
     "data": {
      "text/plain": [
       "Survived\n",
       "0    0.616162\n",
       "1    0.383838\n",
       "Name: proportion, dtype: float64"
      ]
     },
     "execution_count": 60,
     "metadata": {},
     "output_type": "execute_result"
    }
   ],
   "source": [
    "df_titanic['Survived'].value_counts(normalize=True)"
   ]
  },
  {
   "cell_type": "code",
   "execution_count": 62,
   "metadata": {},
   "outputs": [
    {
     "data": {
      "text/plain": [
       "Survived\n",
       "1    0.62963\n",
       "0    0.37037\n",
       "Name: proportion, dtype: float64"
      ]
     },
     "execution_count": 62,
     "metadata": {},
     "output_type": "execute_result"
    }
   ],
   "source": [
    "df_titanic.query('Pclass == 1')['Survived'].value_counts(normalize=True)"
   ]
  },
  {
   "cell_type": "code",
   "execution_count": 64,
   "metadata": {},
   "outputs": [
    {
     "data": {
      "text/html": [
       "<div>\n",
       "<style scoped>\n",
       "    .dataframe tbody tr th:only-of-type {\n",
       "        vertical-align: middle;\n",
       "    }\n",
       "\n",
       "    .dataframe tbody tr th {\n",
       "        vertical-align: top;\n",
       "    }\n",
       "\n",
       "    .dataframe thead th {\n",
       "        text-align: right;\n",
       "    }\n",
       "</style>\n",
       "<table border=\"1\" class=\"dataframe\">\n",
       "  <thead>\n",
       "    <tr style=\"text-align: right;\">\n",
       "      <th></th>\n",
       "      <th>Survived</th>\n",
       "    </tr>\n",
       "    <tr>\n",
       "      <th>Pclass</th>\n",
       "      <th></th>\n",
       "    </tr>\n",
       "  </thead>\n",
       "  <tbody>\n",
       "    <tr>\n",
       "      <th>1</th>\n",
       "      <td>0.629630</td>\n",
       "    </tr>\n",
       "    <tr>\n",
       "      <th>2</th>\n",
       "      <td>0.472826</td>\n",
       "    </tr>\n",
       "    <tr>\n",
       "      <th>3</th>\n",
       "      <td>0.242363</td>\n",
       "    </tr>\n",
       "  </tbody>\n",
       "</table>\n",
       "</div>"
      ],
      "text/plain": [
       "        Survived\n",
       "Pclass          \n",
       "1       0.629630\n",
       "2       0.472826\n",
       "3       0.242363"
      ]
     },
     "execution_count": 64,
     "metadata": {},
     "output_type": "execute_result"
    }
   ],
   "source": [
    "df_titanic.groupby('Pclass')[['Survived']].mean()"
   ]
  },
  {
   "cell_type": "markdown",
   "metadata": {},
   "source": [
    "## 3) Distribuições de probabilidade\n",
    "\n",
    "Uma **distribuição de probabilidade** é uma função que descreve o comportamento aleatório de um fenômeno dependente do acaso.\n",
    "\n",
    "A distribuição de probabilidade pode **modelar incertezas** e descrever fenômenos físicos, biológicos, econômicos, entre outros.\n",
    "\n",
    "Para representar a distribuição matematicamente, frequentemente utilizamos a [função densidade de probabilidade](https://en.wikipedia.org/wiki/Probability_density_function). Esta função é tal que a probabilidade da variável aleatória cair em uma faixa particular é dada **pela integral da densidade dessa variável sobre tal faixa** - isto é, é dada pela área abaixo da função densidade mas acima do eixo horizontal e entre o menor e o maior valor dessa faixa.\n",
    "\n",
    "<img src=\"https://work.thaslwanter.at/Stats/html/_images/PDF.png\" width=400>\n",
    "\n",
    "\n",
    "Quando estamos trabalhando com uma amostra de dados, sobretudo de variáveis numéricas, é comum visualizarmos a distribuição dos valores amostrais, como sendo a ocorrência de cada um dos valores do espaço amostral que foram observados na amostra.\n",
    "\n",
    "Agora entendemos que, ao visualizar uma distribuição, estamos visualizando a probabilidade de determinados valores serem observados, de acordo com o que de fato foi observado na amostra!"
   ]
  },
  {
   "cell_type": "code",
   "execution_count": 65,
   "metadata": {},
   "outputs": [
    {
     "data": {
      "text/plain": [
       "count    714.000000\n",
       "mean      29.699118\n",
       "std       14.526497\n",
       "min        0.420000\n",
       "25%       20.125000\n",
       "50%       28.000000\n",
       "75%       38.000000\n",
       "max       80.000000\n",
       "Name: Age, dtype: float64"
      ]
     },
     "execution_count": 65,
     "metadata": {},
     "output_type": "execute_result"
    }
   ],
   "source": [
    "df_titanic['Age'].describe()"
   ]
  },
  {
   "cell_type": "code",
   "execution_count": 71,
   "metadata": {},
   "outputs": [
    {
     "name": "stderr",
     "output_type": "stream",
     "text": [
      "c:\\Users\\Matheus\\anaconda3\\Lib\\site-packages\\seaborn\\_oldcore.py:1119: FutureWarning: use_inf_as_na option is deprecated and will be removed in a future version. Convert inf values to NaN before operating instead.\n",
      "  with pd.option_context('mode.use_inf_as_na', True):\n"
     ]
    },
    {
     "data": {
      "image/png": "[encoded data removed]",
      "text/plain": [
       "<Figure size 640x480 with 1 Axes>"
      ]
     },
     "metadata": {},
     "output_type": "display_data"
    }
   ],
   "source": [
    "sns.histplot(data=df_titanic, x='Age', kde=True);"
   ]
  },
  {
   "cell_type": "markdown",
   "metadata": {},
   "source": [
    "E agora entendemos um pouco mais o KDE (kernel **density** estimate). Nome como o eixo y muda de `Count` para `Density`, de modo que a área total sob a curva seja 1!"
   ]
  },
  {
   "cell_type": "code",
   "execution_count": 70,
   "metadata": {},
   "outputs": [
    {
     "name": "stderr",
     "output_type": "stream",
     "text": [
      "c:\\Users\\Matheus\\anaconda3\\Lib\\site-packages\\seaborn\\_oldcore.py:1119: FutureWarning: use_inf_as_na option is deprecated and will be removed in a future version. Convert inf values to NaN before operating instead.\n",
      "  with pd.option_context('mode.use_inf_as_na', True):\n"
     ]
    },
    {
     "data": {
      "image/png": "[encoded data removed]",
      "text/plain": [
       "<Figure size 640x480 with 1 Axes>"
      ]
     },
     "metadata": {},
     "output_type": "display_data"
    }
   ],
   "source": [
    "sns.kdeplot(data=df_titanic, x='Age');\n",
    "plt.show()"
   ]
  },
  {
   "cell_type": "markdown",
   "metadata": {},
   "source": [
    "Interpretações:\n",
    "- Se pegarmos uma pessoa ao acaso, temos uma grande chance de ela ter entre 20 a 40 anos \n",
    "- Se pegarmos uma pessoa ao acos, temos uma pequena chave de ela ter 80 anos ou mais \n",
    "\n",
    "A chance = probilidade é a área sob a curva"
   ]
  },
  {
   "cell_type": "markdown",
   "metadata": {},
   "source": [
    "### **3.1) Distribuição de Bernoulli**\n",
    "\n",
    "Muitos experimentos são tais que os resultados **apresentam ou não** uma determinada característica. Por exemplo:\n",
    "\n",
    "- Uma moeda é lançada: o resultado ou é cara ou não é (ocorrendo, então, coroa);\n",
    "- Uma peça escolhida ao acaso de um lote: essa peça ou é defeituosa ou não é;\n",
    "- Um passageiro do Titanic escolhido ao acaso: sobreviveu ou morreu?\n",
    "\n",
    "Em todos esses casos estamos interessados na ocorrência de sucesso (cara, peça não defeituosa, etc.) ou fracasso (coroa, peça defeituosa, etc.). \n",
    "\n",
    "Para cada experimento acima, podemos definir uma V.A. $X$ que assume apenas dois valores: 1, se ocorrer sucesso e 0, se ocorrer fracasso. Indicaremos por $p$ a probabilidade de sucesso.\n",
    "\n",
    "**Definição:**\n",
    "\n",
    "A variável aleatória $X$, que assume apenas valores 0 e 1 com função de probabilidade $(X, p(X))$ é dita variável aleatória de Bernoulli tal que:\n",
    "\n",
    "- $p(0) = P(X=0) = 1-p$\n",
    "\n",
    "- $p(1) = P(X=1) = p$\n",
    "\n",
    "Usaremos a notação $X \\sim Ber(p)$ para indicar uma V.A. com distribuição Bernoulli de parâmetro $p$.\n",
    "\n",
    "> Esta é uma **distribuição de probabilidade discreta**, uma vez que o espaço amostral é discreto -- havendo, inclusive, apenas dois valores possíveis: 0 ou 1."
   ]
  },
  {
   "cell_type": "code",
   "execution_count": 95,
   "metadata": {},
   "outputs": [],
   "source": [
    "import scipy # Computação científica"
   ]
  },
  {
   "cell_type": "code",
   "execution_count": 117,
   "metadata": {},
   "outputs": [],
   "source": [
    "\n",
    "\n",
    "\n",
    "import scipy.stats\n",
    "\n",
    "\n",
    "resultado_bern = scipy.stats.bernoulli.rvs(p=0.5, size=1000)\n"
   ]
  },
  {
   "cell_type": "code",
   "execution_count": 99,
   "metadata": {},
   "outputs": [
    {
     "data": {
      "text/plain": [
       "0    0.503\n",
       "1    0.497\n",
       "Name: proportion, dtype: float64"
      ]
     },
     "execution_count": 99,
     "metadata": {},
     "output_type": "execute_result"
    }
   ],
   "source": [
    "pd.Series(resultado_bern).value_counts(normalize=True)"
   ]
  },
  {
   "cell_type": "code",
   "execution_count": 100,
   "metadata": {},
   "outputs": [
    {
     "data": {
      "text/plain": [
       "<Axes: ylabel='count'>"
      ]
     },
     "execution_count": 100,
     "metadata": {},
     "output_type": "execute_result"
    },
    {
     "data": {
      "image/png": "[encoded data removed]",
      "text/plain": [
       "<Figure size 640x480 with 1 Axes>"
      ]
     },
     "metadata": {},
     "output_type": "display_data"
    }
   ],
   "source": [
    "sns.countplot(resultado_bern)"
   ]
  },
  {
   "cell_type": "code",
   "execution_count": 91,
   "metadata": {},
   "outputs": [
    {
     "name": "stderr",
     "output_type": "stream",
     "text": [
      "c:\\Users\\Matheus\\anaconda3\\Lib\\site-packages\\seaborn\\_oldcore.py:1119: FutureWarning: use_inf_as_na option is deprecated and will be removed in a future version. Convert inf values to NaN before operating instead.\n",
      "  with pd.option_context('mode.use_inf_as_na', True):\n"
     ]
    },
    {
     "data": {
      "text/plain": [
       "<Axes: ylabel='Count'>"
      ]
     },
     "execution_count": 91,
     "metadata": {},
     "output_type": "execute_result"
    },
    {
     "data": {
      "image/png": "[encoded data removed]",
      "text/plain": [
       "<Figure size 640x480 with 1 Axes>"
      ]
     },
     "metadata": {},
     "output_type": "display_data"
    }
   ],
   "source": [
    "sns.histplot(resultado_bern)"
   ]
  },
  {
   "cell_type": "code",
   "execution_count": 101,
   "metadata": {},
   "outputs": [
    {
     "name": "stderr",
     "output_type": "stream",
     "text": [
      "c:\\Users\\Matheus\\anaconda3\\Lib\\site-packages\\seaborn\\_oldcore.py:1119: FutureWarning: use_inf_as_na option is deprecated and will be removed in a future version. Convert inf values to NaN before operating instead.\n",
      "  with pd.option_context('mode.use_inf_as_na', True):\n"
     ]
    },
    {
     "data": {
      "text/plain": [
       "<Axes: ylabel='Probability'>"
      ]
     },
     "execution_count": 101,
     "metadata": {},
     "output_type": "execute_result"
    },
    {
     "data": {
      "image/png": "[encoded data removed]",
      "text/plain": [
       "<Figure size 640x480 with 1 Axes>"
      ]
     },
     "metadata": {},
     "output_type": "display_data"
    }
   ],
   "source": [
    "# Trazeno a probabilidade\n",
    "sns.histplot(resultado_bern, stat='probability')"
   ]
  },
  {
   "cell_type": "markdown",
   "metadata": {},
   "source": [
    "Para o caso Titanic"
   ]
  },
  {
   "cell_type": "code",
   "execution_count": 102,
   "metadata": {},
   "outputs": [
    {
     "data": {
      "text/plain": [
       "0      0\n",
       "1      1\n",
       "2      1\n",
       "3      1\n",
       "4      0\n",
       "      ..\n",
       "886    0\n",
       "887    1\n",
       "888    0\n",
       "889    1\n",
       "890    0\n",
       "Name: Survived, Length: 891, dtype: int64"
      ]
     },
     "execution_count": 102,
     "metadata": {},
     "output_type": "execute_result"
    }
   ],
   "source": [
    "df_titanic['Survived']"
   ]
  },
  {
   "cell_type": "code",
   "execution_count": 103,
   "metadata": {},
   "outputs": [
    {
     "data": {
      "text/plain": [
       "<Axes: xlabel='Survived', ylabel='count'>"
      ]
     },
     "execution_count": 103,
     "metadata": {},
     "output_type": "execute_result"
    },
    {
     "data": {
      "image/png": "[encoded data removed]",
      "text/plain": [
       "<Figure size 640x480 with 1 Axes>"
      ]
     },
     "metadata": {},
     "output_type": "display_data"
    }
   ],
   "source": [
    "sns.countplot(data=df_titanic, x='Survived')"
   ]
  },
  {
   "cell_type": "code",
   "execution_count": 106,
   "metadata": {},
   "outputs": [
    {
     "data": {
      "text/plain": [
       "Survived\n",
       "0    0.616162\n",
       "1    0.383838\n",
       "Name: proportion, dtype: float64"
      ]
     },
     "execution_count": 106,
     "metadata": {},
     "output_type": "execute_result"
    }
   ],
   "source": [
    "df_titanic['Survived'].value_counts(normalize=True)"
   ]
  },
  {
   "cell_type": "markdown",
   "metadata": {},
   "source": [
    "_________\n",
    "\n",
    "### **3.2) Distribuição de Poisson**\n",
    "\n",
    "\n",
    "É largamente empregada quando se deseja contar **a quantidade de eventos** de certo tipo que ocorrem num intervalo de tempo ou espaço.\n",
    "\n",
    "Exemplos:\n",
    "\n",
    "- Número de chamadas recebidas por um telefone durante 5 minutos;\n",
    "- Número de falhas de um computador num dia de operação.\n",
    "- Número de meteoritos maiores que 1 metro de diâmetro que atingem a Terra em um ano;\n",
    "- O número de chicletes em cada bloco do chão:\n",
    "<img src=\"https://upload.wikimedia.org/wikipedia/commons/thumb/0/09/Chewing_gum_on_a_sidewalk_in_Reykjav%C3%ADk.JPG/220px-Chewing_gum_on_a_sidewalk_in_Reykjav%C3%ADk.JPG\">\n",
    "\n",
    "**Definição**\n",
    "\n",
    "Dizemos que a V.A. $N$ tem distribuição Poisson com parâmetro $\\lambda > 0$ se:\n",
    "\n",
    "$P(N=k) = \\frac{e^{-\\lambda}\\lambda^k}{k!}, k=0,1,2,...$\n",
    "\n",
    "\n",
    "\n",
    "#### **Características Importantes**\n",
    "\n",
    "1. A probabilidade de uma ocorrência é a mesma em todo o intervalo observado;\n",
    "2. O número de ocorrências em determinado intervalo é independente do número de ocorrências em outros intervalos;\n",
    "3. A probabilidade de uma ocorrência é a mesma em intervalos de igual comprimento.\n",
    "\n",
    "\n",
    "\n",
    "\n",
    "> Esta é uma **distribuição de probabilidade discreta**, uma vez que o espaço amostral é discreto, pois estamos interessados em **quantidades inteiras de ocorrência** de determinado evento em um dado intervalo."
   ]
  },
  {
   "cell_type": "markdown",
   "metadata": {},
   "source": [
    "#### Exemplo: Delivery\n",
    "\n",
    "Um restaurante recebe em média: **20 pedidos por hora**. Qual a chance de que, em determinada hora escolhida ao acaso, o restaurante receba **15 pedidos**?"
   ]
  },
  {
   "cell_type": "markdown",
   "metadata": {},
   "source": [
    "**Qual o número de ocorrências por hora($\\lambda$)** ?"
   ]
  },
  {
   "cell_type": "code",
   "execution_count": 108,
   "metadata": {},
   "outputs": [],
   "source": [
    "l = 20"
   ]
  },
  {
   "cell_type": "markdown",
   "metadata": {},
   "source": [
    "**Qual o número de ocorrências que queremos obter no período (k) ?**"
   ]
  },
  {
   "cell_type": "code",
   "execution_count": 109,
   "metadata": {},
   "outputs": [],
   "source": [
    "k = 15"
   ]
  },
  {
   "cell_type": "markdown",
   "metadata": {},
   "source": [
    "#### Solução 1"
   ]
  },
  {
   "cell_type": "code",
   "execution_count": 111,
   "metadata": {},
   "outputs": [],
   "source": [
    "import math\n"
   ]
  },
  {
   "cell_type": "code",
   "execution_count": 116,
   "metadata": {},
   "outputs": [
    {
     "data": {
      "text/plain": [
       "0.0516"
      ]
     },
     "execution_count": 116,
     "metadata": {},
     "output_type": "execute_result"
    }
   ],
   "source": [
    "round(np.exp(-l)*(l**k)/math.factorial(k),4)"
   ]
  },
  {
   "cell_type": "markdown",
   "metadata": {},
   "source": [
    "#### Solução 2"
   ]
  },
  {
   "cell_type": "code",
   "execution_count": 119,
   "metadata": {},
   "outputs": [
    {
     "data": {
      "text/plain": [
       "0.0516"
      ]
     },
     "execution_count": 119,
     "metadata": {},
     "output_type": "execute_result"
    }
   ],
   "source": [
    "round(scipy.stats.poisson.pmf(k=k, mu=l),4)"
   ]
  },
  {
   "cell_type": "code",
   "execution_count": 138,
   "metadata": {},
   "outputs": [],
   "source": [
    "experimento = {\n",
    "    'N_ligacoes' : [],\n",
    "    'Probabilidade': []\n",
    "}"
   ]
  },
  {
   "cell_type": "code",
   "execution_count": 139,
   "metadata": {},
   "outputs": [],
   "source": [
    "k_list = range(30)\n",
    "\n",
    "for k in k_list:\n",
    "\n",
    "    p = scipy.stats.poisson.pmf(k =k, mu=l)\n",
    "\n",
    "    experimento['N_ligacoes'].append(k)\n",
    "    experimento['Probabilidade'].append(p)"
   ]
  },
  {
   "cell_type": "code",
   "execution_count": 141,
   "metadata": {},
   "outputs": [
    {
     "data": {
      "text/html": [
       "<div>\n",
       "<style scoped>\n",
       "    .dataframe tbody tr th:only-of-type {\n",
       "        vertical-align: middle;\n",
       "    }\n",
       "\n",
       "    .dataframe tbody tr th {\n",
       "        vertical-align: top;\n",
       "    }\n",
       "\n",
       "    .dataframe thead th {\n",
       "        text-align: right;\n",
       "    }\n",
       "</style>\n",
       "<table border=\"1\" class=\"dataframe\">\n",
       "  <thead>\n",
       "    <tr style=\"text-align: right;\">\n",
       "      <th></th>\n",
       "      <th>N_ligacoes</th>\n",
       "      <th>Probabilidade</th>\n",
       "    </tr>\n",
       "  </thead>\n",
       "  <tbody>\n",
       "    <tr>\n",
       "      <th>0</th>\n",
       "      <td>0</td>\n",
       "      <td>2.061154e-09</td>\n",
       "    </tr>\n",
       "    <tr>\n",
       "      <th>1</th>\n",
       "      <td>1</td>\n",
       "      <td>4.122307e-08</td>\n",
       "    </tr>\n",
       "    <tr>\n",
       "      <th>2</th>\n",
       "      <td>2</td>\n",
       "      <td>4.122307e-07</td>\n",
       "    </tr>\n",
       "    <tr>\n",
       "      <th>3</th>\n",
       "      <td>3</td>\n",
       "      <td>2.748205e-06</td>\n",
       "    </tr>\n",
       "    <tr>\n",
       "      <th>4</th>\n",
       "      <td>4</td>\n",
       "      <td>1.374102e-05</td>\n",
       "    </tr>\n",
       "  </tbody>\n",
       "</table>\n",
       "</div>"
      ],
      "text/plain": [
       "   N_ligacoes  Probabilidade\n",
       "0           0   2.061154e-09\n",
       "1           1   4.122307e-08\n",
       "2           2   4.122307e-07\n",
       "3           3   2.748205e-06\n",
       "4           4   1.374102e-05"
      ]
     },
     "execution_count": 141,
     "metadata": {},
     "output_type": "execute_result"
    }
   ],
   "source": [
    "df = pd.DataFrame(experimento)\n",
    "\n",
    "df.head()"
   ]
  },
  {
   "cell_type": "code",
   "execution_count": 146,
   "metadata": {},
   "outputs": [
    {
     "data": {
      "text/html": [
       "<div>\n",
       "<style scoped>\n",
       "    .dataframe tbody tr th:only-of-type {\n",
       "        vertical-align: middle;\n",
       "    }\n",
       "\n",
       "    .dataframe tbody tr th {\n",
       "        vertical-align: top;\n",
       "    }\n",
       "\n",
       "    .dataframe thead th {\n",
       "        text-align: right;\n",
       "    }\n",
       "</style>\n",
       "<table border=\"1\" class=\"dataframe\">\n",
       "  <thead>\n",
       "    <tr style=\"text-align: right;\">\n",
       "      <th></th>\n",
       "      <th>N_ligacoes</th>\n",
       "      <th>Probabilidade</th>\n",
       "      <th>p_formatado</th>\n",
       "    </tr>\n",
       "  </thead>\n",
       "  <tbody>\n",
       "    <tr>\n",
       "      <th>0</th>\n",
       "      <td>0</td>\n",
       "      <td>2.061154e-09</td>\n",
       "      <td>0.000000206%</td>\n",
       "    </tr>\n",
       "    <tr>\n",
       "      <th>1</th>\n",
       "      <td>1</td>\n",
       "      <td>4.122307e-08</td>\n",
       "      <td>0.000004122%</td>\n",
       "    </tr>\n",
       "    <tr>\n",
       "      <th>2</th>\n",
       "      <td>2</td>\n",
       "      <td>4.122307e-07</td>\n",
       "      <td>0.000041223%</td>\n",
       "    </tr>\n",
       "    <tr>\n",
       "      <th>3</th>\n",
       "      <td>3</td>\n",
       "      <td>2.748205e-06</td>\n",
       "      <td>0.000274820%</td>\n",
       "    </tr>\n",
       "    <tr>\n",
       "      <th>4</th>\n",
       "      <td>4</td>\n",
       "      <td>1.374102e-05</td>\n",
       "      <td>0.001374102%</td>\n",
       "    </tr>\n",
       "  </tbody>\n",
       "</table>\n",
       "</div>"
      ],
      "text/plain": [
       "   N_ligacoes  Probabilidade   p_formatado\n",
       "0           0   2.061154e-09  0.000000206%\n",
       "1           1   4.122307e-08  0.000004122%\n",
       "2           2   4.122307e-07  0.000041223%\n",
       "3           3   2.748205e-06  0.000274820%\n",
       "4           4   1.374102e-05  0.001374102%"
      ]
     },
     "execution_count": 146,
     "metadata": {},
     "output_type": "execute_result"
    }
   ],
   "source": [
    "df['p_formatado'] = df['Probabilidade'].apply(lambda x: f\"{x:.9%}\")\n",
    "df.head()"
   ]
  },
  {
   "cell_type": "code",
   "execution_count": 150,
   "metadata": {},
   "outputs": [
    {
     "data": {
      "text/html": [
       "<div>\n",
       "<style scoped>\n",
       "    .dataframe tbody tr th:only-of-type {\n",
       "        vertical-align: middle;\n",
       "    }\n",
       "\n",
       "    .dataframe tbody tr th {\n",
       "        vertical-align: top;\n",
       "    }\n",
       "\n",
       "    .dataframe thead th {\n",
       "        text-align: right;\n",
       "    }\n",
       "</style>\n",
       "<table border=\"1\" class=\"dataframe\">\n",
       "  <thead>\n",
       "    <tr style=\"text-align: right;\">\n",
       "      <th></th>\n",
       "      <th>N_ligacoes</th>\n",
       "      <th>Probabilidade</th>\n",
       "      <th>p_formatado</th>\n",
       "      <th>prob_acumulada</th>\n",
       "    </tr>\n",
       "  </thead>\n",
       "  <tbody>\n",
       "    <tr>\n",
       "      <th>0</th>\n",
       "      <td>0</td>\n",
       "      <td>2.061154e-09</td>\n",
       "      <td>0.000000206%</td>\n",
       "      <td>0.000000206%</td>\n",
       "    </tr>\n",
       "    <tr>\n",
       "      <th>1</th>\n",
       "      <td>1</td>\n",
       "      <td>4.122307e-08</td>\n",
       "      <td>0.000004122%</td>\n",
       "      <td>0.000004328%</td>\n",
       "    </tr>\n",
       "    <tr>\n",
       "      <th>2</th>\n",
       "      <td>2</td>\n",
       "      <td>4.122307e-07</td>\n",
       "      <td>0.000041223%</td>\n",
       "      <td>0.000045551%</td>\n",
       "    </tr>\n",
       "    <tr>\n",
       "      <th>3</th>\n",
       "      <td>3</td>\n",
       "      <td>2.748205e-06</td>\n",
       "      <td>0.000274820%</td>\n",
       "      <td>0.000320372%</td>\n",
       "    </tr>\n",
       "    <tr>\n",
       "      <th>4</th>\n",
       "      <td>4</td>\n",
       "      <td>1.374102e-05</td>\n",
       "      <td>0.001374102%</td>\n",
       "      <td>0.001694474%</td>\n",
       "    </tr>\n",
       "  </tbody>\n",
       "</table>\n",
       "</div>"
      ],
      "text/plain": [
       "   N_ligacoes  Probabilidade   p_formatado prob_acumulada\n",
       "0           0   2.061154e-09  0.000000206%   0.000000206%\n",
       "1           1   4.122307e-08  0.000004122%   0.000004328%\n",
       "2           2   4.122307e-07  0.000041223%   0.000045551%\n",
       "3           3   2.748205e-06  0.000274820%   0.000320372%\n",
       "4           4   1.374102e-05  0.001374102%   0.001694474%"
      ]
     },
     "execution_count": 150,
     "metadata": {},
     "output_type": "execute_result"
    }
   ],
   "source": [
    "df['prob_acumulada'] = df['Probabilidade'].cumsum().apply(lambda x: f\"{x:.9%}\")\n",
    "df.head()"
   ]
  },
  {
   "cell_type": "markdown",
   "metadata": {},
   "source": [
    "#### Qual a cara da distribuição ?"
   ]
  },
  {
   "cell_type": "code",
   "execution_count": 153,
   "metadata": {},
   "outputs": [
    {
     "data": {
      "text/plain": [
       "<matplotlib.collections.PathCollection at 0x2384e3ac190>"
      ]
     },
     "execution_count": 153,
     "metadata": {},
     "output_type": "execute_result"
    },
    {
     "data": {
      "image/png": "[encoded data removed]",
      "text/plain": [
       "<Figure size 640x480 with 1 Axes>"
      ]
     },
     "metadata": {},
     "output_type": "display_data"
    }
   ],
   "source": [
    "plt.scatter(df['N_ligacoes'], df['Probabilidade'])"
   ]
  },
  {
   "cell_type": "markdown",
   "metadata": {},
   "source": [
    "\n",
    "### De volta ao poblema gerador!\n",
    "\n",
    "> Em um jogo da Copa do Mundo de futebol, a quantidade média de gols é aproximadamente `3`. Assim sendo, qual é a probabilidade de em determinada partida não haver gols? E a probabilidade de haver 4 gols?"
   ]
  },
  {
   "cell_type": "markdown",
   "metadata": {},
   "source": [
    "A primeira coisa que devemos nos perguntar é se é justificável modelarmos a quantidade de gols em uma partida como uma variável aleatória distribuída segundo um processo de Poisson.\n",
    "\n",
    "Assumindo isso, basta utilizarmos a distribuição de Poisson, e a função mdf:"
   ]
  },
  {
   "cell_type": "code",
   "execution_count": 159,
   "metadata": {},
   "outputs": [
    {
     "name": "stdout",
     "output_type": "stream",
     "text": [
      "Probabilidade de Zero gols = 0.049787068367863944\n",
      "Probabilidade de Quatro gols = 0.16803135574154085\n"
     ]
    }
   ],
   "source": [
    "l = 3\n",
    "\n",
    "p_zero = scipy.stats.poisson.pmf(k=0, mu=l)\n",
    "print(f'Probabilidade de Zero gols = {p_zero}')\n",
    "\n",
    "p_quatro = scipy.stats.poisson.pmf(k=4, mu=l)\n",
    "print(f'Probabilidade de Quatro gols = {p_quatro}')"
   ]
  },
  {
   "cell_type": "code",
   "execution_count": 166,
   "metadata": {},
   "outputs": [],
   "source": [
    "l = 3\n",
    "experimento = {\n",
    "    'numero_gols':[],\n",
    "    'probabilidade': []\n",
    "}\n",
    "\n",
    "k_list= range(15)\n",
    "\n",
    "for k in k_list:\n",
    "    p = scipy.stats.poisson.pmf(k=k, mu=1)\n",
    "\n",
    "    experimento['numero_gols'].append(k)\n",
    "    experimento['probabilidade'].append(p)\n",
    "\n"
   ]
  },
  {
   "cell_type": "code",
   "execution_count": 168,
   "metadata": {},
   "outputs": [
    {
     "data": {
      "text/html": [
       "<div>\n",
       "<style scoped>\n",
       "    .dataframe tbody tr th:only-of-type {\n",
       "        vertical-align: middle;\n",
       "    }\n",
       "\n",
       "    .dataframe tbody tr th {\n",
       "        vertical-align: top;\n",
       "    }\n",
       "\n",
       "    .dataframe thead th {\n",
       "        text-align: right;\n",
       "    }\n",
       "</style>\n",
       "<table border=\"1\" class=\"dataframe\">\n",
       "  <thead>\n",
       "    <tr style=\"text-align: right;\">\n",
       "      <th></th>\n",
       "      <th>numero_gols</th>\n",
       "      <th>probabilidade</th>\n",
       "      <th>p_formatado</th>\n",
       "      <th>prob_acumulada</th>\n",
       "    </tr>\n",
       "  </thead>\n",
       "  <tbody>\n",
       "    <tr>\n",
       "      <th>0</th>\n",
       "      <td>0</td>\n",
       "      <td>3.678794e-01</td>\n",
       "      <td>36.787944117%</td>\n",
       "      <td>36.787944117%</td>\n",
       "    </tr>\n",
       "    <tr>\n",
       "      <th>1</th>\n",
       "      <td>1</td>\n",
       "      <td>3.678794e-01</td>\n",
       "      <td>36.787944117%</td>\n",
       "      <td>73.575888234%</td>\n",
       "    </tr>\n",
       "    <tr>\n",
       "      <th>2</th>\n",
       "      <td>2</td>\n",
       "      <td>1.839397e-01</td>\n",
       "      <td>18.393972059%</td>\n",
       "      <td>91.969860293%</td>\n",
       "    </tr>\n",
       "    <tr>\n",
       "      <th>3</th>\n",
       "      <td>3</td>\n",
       "      <td>6.131324e-02</td>\n",
       "      <td>6.131324020%</td>\n",
       "      <td>98.101184312%</td>\n",
       "    </tr>\n",
       "    <tr>\n",
       "      <th>4</th>\n",
       "      <td>4</td>\n",
       "      <td>1.532831e-02</td>\n",
       "      <td>1.532831005%</td>\n",
       "      <td>99.634015317%</td>\n",
       "    </tr>\n",
       "    <tr>\n",
       "      <th>5</th>\n",
       "      <td>5</td>\n",
       "      <td>3.065662e-03</td>\n",
       "      <td>0.306566201%</td>\n",
       "      <td>99.940581518%</td>\n",
       "    </tr>\n",
       "    <tr>\n",
       "      <th>6</th>\n",
       "      <td>6</td>\n",
       "      <td>5.109437e-04</td>\n",
       "      <td>0.051094367%</td>\n",
       "      <td>99.991675885%</td>\n",
       "    </tr>\n",
       "    <tr>\n",
       "      <th>7</th>\n",
       "      <td>7</td>\n",
       "      <td>7.299195e-05</td>\n",
       "      <td>0.007299195%</td>\n",
       "      <td>99.998975080%</td>\n",
       "    </tr>\n",
       "    <tr>\n",
       "      <th>8</th>\n",
       "      <td>8</td>\n",
       "      <td>9.123994e-06</td>\n",
       "      <td>0.000912399%</td>\n",
       "      <td>99.999887480%</td>\n",
       "    </tr>\n",
       "    <tr>\n",
       "      <th>9</th>\n",
       "      <td>9</td>\n",
       "      <td>1.013777e-06</td>\n",
       "      <td>0.000101378%</td>\n",
       "      <td>99.999988857%</td>\n",
       "    </tr>\n",
       "    <tr>\n",
       "      <th>10</th>\n",
       "      <td>10</td>\n",
       "      <td>1.013777e-07</td>\n",
       "      <td>0.000010138%</td>\n",
       "      <td>99.999998995%</td>\n",
       "    </tr>\n",
       "    <tr>\n",
       "      <th>11</th>\n",
       "      <td>11</td>\n",
       "      <td>9.216156e-09</td>\n",
       "      <td>0.000000922%</td>\n",
       "      <td>99.999999917%</td>\n",
       "    </tr>\n",
       "    <tr>\n",
       "      <th>12</th>\n",
       "      <td>12</td>\n",
       "      <td>7.680130e-10</td>\n",
       "      <td>0.000000077%</td>\n",
       "      <td>99.999999994%</td>\n",
       "    </tr>\n",
       "    <tr>\n",
       "      <th>13</th>\n",
       "      <td>13</td>\n",
       "      <td>5.907792e-11</td>\n",
       "      <td>0.000000006%</td>\n",
       "      <td>100.000000000%</td>\n",
       "    </tr>\n",
       "    <tr>\n",
       "      <th>14</th>\n",
       "      <td>14</td>\n",
       "      <td>4.219851e-12</td>\n",
       "      <td>0.000000000%</td>\n",
       "      <td>100.000000000%</td>\n",
       "    </tr>\n",
       "  </tbody>\n",
       "</table>\n",
       "</div>"
      ],
      "text/plain": [
       "    numero_gols  probabilidade    p_formatado  prob_acumulada\n",
       "0             0   3.678794e-01  36.787944117%   36.787944117%\n",
       "1             1   3.678794e-01  36.787944117%   73.575888234%\n",
       "2             2   1.839397e-01  18.393972059%   91.969860293%\n",
       "3             3   6.131324e-02   6.131324020%   98.101184312%\n",
       "4             4   1.532831e-02   1.532831005%   99.634015317%\n",
       "5             5   3.065662e-03   0.306566201%   99.940581518%\n",
       "6             6   5.109437e-04   0.051094367%   99.991675885%\n",
       "7             7   7.299195e-05   0.007299195%   99.998975080%\n",
       "8             8   9.123994e-06   0.000912399%   99.999887480%\n",
       "9             9   1.013777e-06   0.000101378%   99.999988857%\n",
       "10           10   1.013777e-07   0.000010138%   99.999998995%\n",
       "11           11   9.216156e-09   0.000000922%   99.999999917%\n",
       "12           12   7.680130e-10   0.000000077%   99.999999994%\n",
       "13           13   5.907792e-11   0.000000006%  100.000000000%\n",
       "14           14   4.219851e-12   0.000000000%  100.000000000%"
      ]
     },
     "execution_count": 168,
     "metadata": {},
     "output_type": "execute_result"
    }
   ],
   "source": [
    "df_gols = pd.DataFrame(experimento)\n",
    "df_gols['p_formatado'] = df_gols['probabilidade'].apply(lambda x: f\"{x:.9%}\")\n",
    "df_gols['prob_acumulada'] = df_gols['probabilidade'].cumsum().apply(lambda x: f\"{x:.9%}\")\n",
    "df_gols"
   ]
  }
 ],
 "metadata": {
  "kernelspec": {
   "display_name": "base",
   "language": "python",
   "name": "python3"
  },
  "language_info": {
   "codemirror_mode": {
    "name": "ipython",
    "version": 3
   },
   "file_extension": ".py",
   "mimetype": "text/x-python",
   "name": "python",
   "nbconvert_exporter": "python",
   "pygments_lexer": "ipython3",
   "version": "3.11.4"
  }
 },
 "nbformat": 4,
 "nbformat_minor": 2
}
