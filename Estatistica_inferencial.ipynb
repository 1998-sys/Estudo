{
 "cells": [
  {
   "cell_type": "markdown",
   "metadata": {},
   "source": [
    "# Aula 18 - Estatística pt3 - Estatística Inferencial pt1 - Introdução e TCL\n",
    "\n",
    "Na aula de hoje, vamos explorar os seguintes tópicos em Python:\n",
    "\n",
    "- 1) A inferência estatística\n",
    "- 2) Teorema Central do Limite (TCL)\n",
    "\n",
    "_____________\n",
    "\n",
    "### Problema gerador: como é possível inferir sobre o todo, tendo acesso apenas à parte?\n",
    "\n",
    "Tipicamente trabalhamos com amostras, mas com a pretensão de inferir conclusões para a população como um todo. Como isso é possível?"
   ]
  },
  {
   "cell_type": "markdown",
   "metadata": {},
   "source": [
    "## 1) A inferência estatística\n",
    "\n",
    "Quando se prepara um macarrão, uma unidade desse é retirada para saber se o ponto de cozimento é o desejado.\n",
    "\n",
    "Pra saber se uma sopa está corretamente salgada, experimentamos uma única colherada.\n",
    "\n",
    "Quando um médico deseja identificar se um paciente está doente, alguns ml de sangue são retirados para análise.\n",
    "\n",
    "Em todos os casos acima, não seria conveniente analisar o todo, para chegar a uma conclusão satisfatória. De fato, o que fazemos é **tirar uma parte do todo** para validar alguma suposição.\n",
    "\n",
    "Este procedimento é chamado de **amostragem**, e tem como objetivo **obter informações, tirar conclusões sobre o todo** com base na **análise de dados coletados de parte do todo (amostra)**.\n"
   ]
  },
  {
   "cell_type": "markdown",
   "metadata": {},
   "source": [
    "A **inferência estatística** é a área que define:\n",
    "\n",
    "- Como coletar as amostras do todo a serem analisadas;\n",
    "- Como, e com que confiança, podemos generalizar as conclusões para o todo.\n",
    "\n",
    "\n",
    "<img src=\"https://phhp-faculty-cantrell.sites.medinfo.ufl.edu/files/2012/07/mod10-big_picture_inference.gif\" width=\"600\">"
   ]
  },
  {
   "cell_type": "markdown",
   "metadata": {},
   "source": [
    "### 1.1) Definições\n",
    "\n",
    "- **População** ou **Universo**: é o conjunto de todas as unidades elementares de interesse: o todo. A população sempre deve ser definida claramente e em termos da informação que se pretende conhecer;<br><br>\n",
    "\n",
    "- **Unidade**: trata-se de qualquer elemento da populaçao;<br><br>\n",
    "\n",
    "- **Amostra**: uma parte ou subconjunto da população;<br><br>\n",
    "\n",
    "- **Censo**: observação de todos os elementos da população;<br><br>\n",
    "\n",
    "- **Parâmetro Populacional**: é o vetor correspondente a todos os valores de uma variável de interesse. Pode ser qualitativa (gosto musical, opnião sobre o governo, etc) ou quantitativa (média, proporção, quantidade, etc);<br><br>\n",
    "\n",
    "- **Função Paramétrica Populacional**: Alguma função de parâmetros populacionais;<br><br>\n",
    "\n",
    "- **Estimadores pontuais**: são valores que **estimam** os parâmetros populacionais, calculados com base em uma amostra.\n",
    "<br>\n",
    "\n",
    "- Exemplos de parâmetros populacionais:\n",
    "    - média: $\\mu$\n",
    "    - diferença de médias: $\\mu_1 - \\mu_2$\n",
    "    - proporção: $p$\n",
    "    - diferença de proporções: $p1 - p2$\n",
    "<br><br>\n",
    "- Exemplos de estimadores pontuais:\n",
    "    - média: $\\bar{x}$\n",
    "    - diferença de médias: $\\bar{x}_1 - \\bar{x}_2$\n",
    "    - proporção: $\\hat{p}$\n",
    "    - diferença de proporções: $\\hat{p}_1 - \\hat{p}_2$"
   ]
  }
 ],
 "metadata": {
  "kernelspec": {
   "display_name": "base",
   "language": "python",
   "name": "python3"
  },
  "language_info": {
   "codemirror_mode": {
    "name": "ipython",
    "version": 3
   },
   "file_extension": ".py",
   "mimetype": "text/x-python",
   "name": "python",
   "nbconvert_exporter": "python",
   "pygments_lexer": "ipython3",
   "version": "3.11.4"
  }
 },
 "nbformat": 4,
 "nbformat_minor": 2
}
