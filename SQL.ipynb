{
 "cells": [
  {
   "cell_type": "markdown",
   "metadata": {},
   "source": [
    "## SQL"
   ]
  },
  {
   "cell_type": "markdown",
   "metadata": {},
   "source": [
    "Um  Sistema  Gerenciador  de  Banco  de  Dados  (SGBD)  é  um  software  projetado  para gerenciar,  armazenar,  manipular  e  consultar  dados  em  um  banco  de  dados.  SGBDs  são fundamentais  para  o  gerenciamento  eficiente  e  seguro  de  grandes  quantidades  de  dados  em aplicações e sistemas de informação.Os SGBDs fornecem uma interface entre os usuários e os dados armazenados, permitindo a realização de diversas operações, como:\n",
    "- Criação e modificação de estruturas de dados (tabelas, índices, etc...).\n",
    "- Inserção, atualização e exclusão de dados.\n",
    "- Realização de consultas e recuperação de informações.\n",
    "- Controle de acesso e segurança, garantindo que apenas usuários autorizados possam acessar e modificar os dados.\n",
    "- Garantia de integridade e consistência dos dados.•Otimização de consultas e melhoria do desempenho do banco de dados.\n",
    "- Recuperação de falhas e realização de backups."
   ]
  }
 ],
 "metadata": {
  "language_info": {
   "name": "python"
  }
 },
 "nbformat": 4,
 "nbformat_minor": 2
}
