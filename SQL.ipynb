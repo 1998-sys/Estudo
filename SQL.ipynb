{
 "cells": [
  {
   "cell_type": "markdown",
   "metadata": {},
   "source": [
    "## SQL"
   ]
  },
  {
   "cell_type": "markdown",
   "metadata": {},
   "source": [
    "Um  Sistema  Gerenciador  de  Banco  de  Dados  (SGBD)  é  um  software  projetado  para gerenciar,  armazenar,  manipular  e  consultar  dados  em  um  banco  de  dados.  SGBDs  são fundamentais  para  o  gerenciamento  eficiente  e  seguro  de  grandes  quantidades  de  dados  em aplicações e sistemas de informação.Os SGBDs fornecem uma interface entre os usuários e os dados armazenados, permitindo a realização de diversas operações, como:\n",
    "- Criação e modificação de estruturas de dados (tabelas, índices, etc...).\n",
    "- Inserção, atualização e exclusão de dados.\n",
    "- Realização de consultas e recuperação de informações.\n",
    "- Controle de acesso e segurança, garantindo que apenas usuários autorizados possam acessar e modificar os dados.\n",
    "- Garantia de integridade e consistência dos dados.•Otimização de consultas e melhoria do desempenho do banco de dados.\n",
    "- Recuperação de falhas e realização de backups."
   ]
  },
  {
   "cell_type": "code",
   "execution_count": 3,
   "metadata": {},
   "outputs": [],
   "source": [
    "# Sqlite é um banco de dados super leve\n",
    "import sqlite3\n",
    "import pandas as pd"
   ]
  },
  {
   "cell_type": "code",
   "execution_count": 4,
   "metadata": {},
   "outputs": [],
   "source": [
    "# Conecta no banco de dados\n",
    "con = sqlite3.connect( 'cap12_dsa.db')"
   ]
  },
  {
   "cell_type": "code",
   "execution_count": 5,
   "metadata": {},
   "outputs": [],
   "source": [
    "# Abre o cursor para percorrer os dados no banco de dados\n",
    "cursor = con.cursor()"
   ]
  },
  {
   "cell_type": "code",
   "execution_count": 7,
   "metadata": {},
   "outputs": [],
   "source": [
    "# Query SQL para extrair os nomes das tabelas no banco de dados\n",
    "sql_query = \"\"\"\n",
    "SELECT name FROM sqlite_master WHERE type = 'table'\n",
    "\"\"\""
   ]
  },
  {
   "cell_type": "code",
   "execution_count": 8,
   "metadata": {},
   "outputs": [
    {
     "data": {
      "text/plain": [
       "<sqlite3.Cursor at 0x25fc5c2e940>"
      ]
     },
     "execution_count": 8,
     "metadata": {},
     "output_type": "execute_result"
    }
   ],
   "source": [
    "# Executa a query\n",
    "cursor.execute(sql_query)"
   ]
  },
  {
   "cell_type": "code",
   "execution_count": 9,
   "metadata": {},
   "outputs": [
    {
     "name": "stdout",
     "output_type": "stream",
     "text": [
      "[('tb_vendas_dsa',)]\n"
     ]
    }
   ],
   "source": [
    "# Visualiza o resultado\n",
    "print(cursor.fetchall())"
   ]
  }
 ],
 "metadata": {
  "kernelspec": {
   "display_name": "base",
   "language": "python",
   "name": "python3"
  },
  "language_info": {
   "codemirror_mode": {
    "name": "ipython",
    "version": 3
   },
   "file_extension": ".py",
   "mimetype": "text/x-python",
   "name": "python",
   "nbconvert_exporter": "python",
   "pygments_lexer": "ipython3",
   "version": "3.11.4"
  }
 },
 "nbformat": 4,
 "nbformat_minor": 2
}
